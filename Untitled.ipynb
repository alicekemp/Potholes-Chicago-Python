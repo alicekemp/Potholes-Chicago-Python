{
 "cells": [
  {
   "cell_type": "code",
   "execution_count": 16,
   "id": "601a186d-c070-488a-95c7-e768d2e8f979",
   "metadata": {},
   "outputs": [
    {
     "name": "stdout",
     "output_type": "stream",
     "text": [
      "<class 'pandas.core.frame.DataFrame'>\n",
      "Int64Index: 558055 entries, 1 to 310476\n",
      "Data columns (total 14 columns):\n",
      " #   Column              Non-Null Count   Dtype  \n",
      "---  ------              --------------   -----  \n",
      " 0   CREATION DATE       558055 non-null  object \n",
      " 1   STATUS              558055 non-null  object \n",
      " 2   COMPLETION DATE     550786 non-null  object \n",
      " 3   CURRENT ACTIVITY    391921 non-null  object \n",
      " 4   MOST RECENT ACTION  390310 non-null  object \n",
      " 5   ZIP                 558055 non-null  float64\n",
      " 6   X COORDINATE        557921 non-null  float64\n",
      " 7   Y COORDINATE        557921 non-null  float64\n",
      " 8   Ward                558054 non-null  float64\n",
      " 9   Police District     558054 non-null  float64\n",
      " 10  Community Area      558055 non-null  float64\n",
      " 11  LATITUDE            557271 non-null  float64\n",
      " 12  LONGITUDE           557271 non-null  float64\n",
      " 13  LOCATION            557271 non-null  object \n",
      "dtypes: float64(8), object(6)\n",
      "memory usage: 63.9+ MB\n"
     ]
    }
   ],
   "source": [
    "import pandas as pd\n",
    "\n",
    "file_names = ['data/potholes_1.csv', 'data/potholes_2.csv']\n",
    "\n",
    "potholes = pd.concat((pd.read_csv(i) for i in file_names))\n",
    "\n",
    "\n",
    "potholes = potholes.iloc[:,\n",
    "    [0, 1, 2, 5, 6, 9, 10, 11, 12, 13, 14, 16, 17, 18\n",
    "    ]\n",
    "]\n",
    "potholes = potholes.dropna(subset = [\"ZIP\", \"Community Area\"])\n",
    "\n",
    "potholes.info()"
   ]
  },
  {
   "cell_type": "code",
   "execution_count": 26,
   "id": "b3950f1e-d6db-43b5-b0f3-2af9e3b5c53e",
   "metadata": {},
   "outputs": [
    {
     "name": "stdout",
     "output_type": "stream",
     "text": [
      "<class 'pandas.core.frame.DataFrame'>\n",
      "RangeIndex: 78 entries, 0 to 77\n",
      "Data columns (total 9 columns):\n",
      " #   Column                                        Non-Null Count  Dtype  \n",
      "---  ------                                        --------------  -----  \n",
      " 0   Community Area Number                         77 non-null     float64\n",
      " 1   COMMUNITY AREA NAME                           78 non-null     object \n",
      " 2   PERCENT OF HOUSING CROWDED                    78 non-null     float64\n",
      " 3   PERCENT HOUSEHOLDS BELOW POVERTY              78 non-null     float64\n",
      " 4   PERCENT AGED 16+ UNEMPLOYED                   78 non-null     float64\n",
      " 5   PERCENT AGED 25+ WITHOUT HIGH SCHOOL DIPLOMA  78 non-null     float64\n",
      " 6   PERCENT AGED UNDER 18 OR OVER 64              78 non-null     float64\n",
      " 7   PER CAPITA INCOME                             78 non-null     int64  \n",
      " 8   HARDSHIP INDEX                                77 non-null     float64\n",
      "dtypes: float64(7), int64(1), object(1)\n",
      "memory usage: 5.6+ KB\n"
     ]
    }
   ],
   "source": [
    "census_data = pd.read_csv('data/chicago_census_data.csv', nrows = 1000)\n",
    "census_data.info()"
   ]
  },
  {
   "cell_type": "code",
   "execution_count": 27,
   "id": "94d56527-817e-4e8e-91a8-821fd75c573f",
   "metadata": {},
   "outputs": [
    {
     "data": {
      "text/html": [
       "<div>\n",
       "<style scoped>\n",
       "    .dataframe tbody tr th:only-of-type {\n",
       "        vertical-align: middle;\n",
       "    }\n",
       "\n",
       "    .dataframe tbody tr th {\n",
       "        vertical-align: top;\n",
       "    }\n",
       "\n",
       "    .dataframe thead th {\n",
       "        text-align: right;\n",
       "    }\n",
       "</style>\n",
       "<table border=\"1\" class=\"dataframe\">\n",
       "  <thead>\n",
       "    <tr style=\"text-align: right;\">\n",
       "      <th></th>\n",
       "      <th>Community Area Number</th>\n",
       "      <th>PER CAPITA INCOME</th>\n",
       "      <th>HARDSHIP INDEX</th>\n",
       "    </tr>\n",
       "  </thead>\n",
       "  <tbody>\n",
       "    <tr>\n",
       "      <th>0</th>\n",
       "      <td>1.0</td>\n",
       "      <td>23939</td>\n",
       "      <td>39.0</td>\n",
       "    </tr>\n",
       "    <tr>\n",
       "      <th>1</th>\n",
       "      <td>2.0</td>\n",
       "      <td>23040</td>\n",
       "      <td>46.0</td>\n",
       "    </tr>\n",
       "    <tr>\n",
       "      <th>2</th>\n",
       "      <td>3.0</td>\n",
       "      <td>35787</td>\n",
       "      <td>20.0</td>\n",
       "    </tr>\n",
       "    <tr>\n",
       "      <th>3</th>\n",
       "      <td>4.0</td>\n",
       "      <td>37524</td>\n",
       "      <td>17.0</td>\n",
       "    </tr>\n",
       "    <tr>\n",
       "      <th>4</th>\n",
       "      <td>5.0</td>\n",
       "      <td>57123</td>\n",
       "      <td>6.0</td>\n",
       "    </tr>\n",
       "  </tbody>\n",
       "</table>\n",
       "</div>"
      ],
      "text/plain": [
       "   Community Area Number  PER CAPITA INCOME   HARDSHIP INDEX\n",
       "0                    1.0               23939            39.0\n",
       "1                    2.0               23040            46.0\n",
       "2                    3.0               35787            20.0\n",
       "3                    4.0               37524            17.0\n",
       "4                    5.0               57123             6.0"
      ]
     },
     "execution_count": 27,
     "metadata": {},
     "output_type": "execute_result"
    }
   ],
   "source": [
    "census_data = census_data.iloc[:, [0, 7, 8]].dropna()\n",
    "census_data.head()\n"
   ]
  },
  {
   "cell_type": "code",
   "execution_count": 61,
   "id": "1db10b1e-e0eb-409e-aa98-981c88aa1f90",
   "metadata": {},
   "outputs": [],
   "source": [
    "potholes['Community Area'] = potholes['Community Area'].astype(int)\n",
    "potholes_c = potholes.groupby([\"Community Area\"])['CREATION DATE'].count().reset_index\n",
    "potholes_c\n",
    "census_data.rename(columns = {'Community Area Number': 'Community Area'}, inplace = True)"
   ]
  },
  {
   "cell_type": "code",
   "execution_count": 49,
   "id": "72e1daf4-f087-4740-939b-235102e4837e",
   "metadata": {},
   "outputs": [
    {
     "data": {
      "text/plain": [
       "Community Area\n",
       "0.0       811\n",
       "1.0      9961\n",
       "2.0     15426\n",
       "3.0      5419\n",
       "4.0      7076\n",
       "        ...  \n",
       "73.0     7636\n",
       "74.0     5099\n",
       "75.0     6706\n",
       "76.0     2320\n",
       "77.0     8907\n",
       "Name: CREATION DATE, Length: 78, dtype: int64"
      ]
     },
     "execution_count": 49,
     "metadata": {},
     "output_type": "execute_result"
    }
   ],
   "source": []
  },
  {
   "cell_type": "code",
   "execution_count": null,
   "id": "b73b6eac-dae5-4d32-9c8a-8c73812fbdeb",
   "metadata": {},
   "outputs": [],
   "source": []
  }
 ],
 "metadata": {
  "environment": {
   "kernel": "python3",
   "name": "common-cpu.m91",
   "type": "gcloud",
   "uri": "gcr.io/deeplearning-platform-release/base-cpu:m91"
  },
  "kernelspec": {
   "display_name": "Python 3",
   "language": "python",
   "name": "python3"
  },
  "language_info": {
   "codemirror_mode": {
    "name": "ipython",
    "version": 3
   },
   "file_extension": ".py",
   "mimetype": "text/x-python",
   "name": "python",
   "nbconvert_exporter": "python",
   "pygments_lexer": "ipython3",
   "version": "3.7.12"
  }
 },
 "nbformat": 4,
 "nbformat_minor": 5
}
