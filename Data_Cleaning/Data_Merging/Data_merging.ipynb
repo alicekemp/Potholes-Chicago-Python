{
 "cells": [
  {
   "cell_type": "code",
   "execution_count": 9,
   "id": "40636694-5567-40b6-b243-062ab74cdece",
   "metadata": {},
   "outputs": [],
   "source": [
    "import numpy as np\n",
    "import pandas as pd\n",
    "import matplotlib.pyplot as plt\n",
    "import os\n",
    "from datetime import datetime"
   ]
  },
  {
   "cell_type": "code",
   "execution_count": 11,
   "id": "223e1fbd-6918-4123-8929-3b933f9def6e",
   "metadata": {},
   "outputs": [],
   "source": [
    "potholes_1 = pd.read_csv(\"https://raw.githubusercontent.com/csridlen/Python-Project-1/main/data/potholes_1.csv\")\n",
    "potholes_2 = pd.read_csv(\"https://raw.githubusercontent.com/csridlen/Python-Project-1/main/data/potholes_2.csv\")\n",
    "census_data = pd.read_csv(\"https://raw.githubusercontent.com/csridlen/Python-Project-1/main/data/chicago_census_data.csv\")\n",
    "crashes_1 = pd.read_csv(\"https://raw.githubusercontent.com/csridlen/Python-Project-1/main/data/crashes_1.csv\")\n",
    "crashes_2 = pd.read_csv(\"https://raw.githubusercontent.com/csridlen/Python-Project-1/main/data/crashes_2.csv\")"
   ]
  },
  {
   "cell_type": "code",
   "execution_count": 12,
   "id": "77968874-4172-4e6a-8794-bd6f08178b02",
   "metadata": {},
   "outputs": [],
   "source": [
    "data = pd.concat([potholes_1, potholes_2], ignore_index=True)"
   ]
  },
  {
   "cell_type": "code",
   "execution_count": 13,
   "id": "9edf7a74-3c9a-485c-8235-6cc78201d4c8",
   "metadata": {},
   "outputs": [
    {
     "data": {
      "text/plain": [
       "Index(['Creation Date', 'Status', 'Completion Date', 'Srn', 'Type',\n",
       "       'Current Activity', 'Action', 'Potholes in Block', 'Address', 'zip',\n",
       "       'x coordinate', 'y coordinate', 'ward', 'Police District',\n",
       "       'Community Area', 'ssa', 'Latitude', 'Longitude', 'Location'],\n",
       "      dtype='object')"
      ]
     },
     "execution_count": 13,
     "metadata": {},
     "output_type": "execute_result"
    }
   ],
   "source": [
    "#Renaming columns\n",
    "data = data.rename(columns = {\"CREATION DATE\" :\"Creation Date\", \"STATUS\" :\"Status\" , \"COMPLETION DATE\" : \"Completion Date\" , \"SERVICE REQUEST NUMBER\" : \"Srn\" , \"TYPE OF SERVICE REQUEST\" : \"Type\", \"CURRENT ACTIVITY\" : \"Current Activity\" , \"MOST RECENT ACTION\" : \"Action\" , \"NUMBER OF POTHOLES FILLED ON BLOCK\" : \"Potholes in Block\", \"STREET ADDRESS\" : \"Address\" , \"ZIP\" : \"zip\", \"X COORDINATE\" :\"x coordinate\" ,\"Y COORDINATE\" :\"y coordinate\", \"Ward\" :\"ward\", \"Police District\" : \"Police District\", \" Community Area\" :\"Area\", \"SSA\": \"ssa\",\"LATITUDE\" :\"Latitude\" , \"LONGITUDE\" :\"Longitude\", \"LOCATION\": \"Location\"})\n",
    "data.columns"
   ]
  },
  {
   "cell_type": "code",
   "execution_count": 14,
   "id": "9a251468-4977-4702-aa4f-c23c4b5e91d1",
   "metadata": {},
   "outputs": [
    {
     "data": {
      "text/plain": [
       "Index(['Community Area', 'COMMUNITY AREA NAME', 'PERCENT OF HOUSING CROWDED',\n",
       "       'PERCENT HOUSEHOLDS BELOW POVERTY', 'PERCENT AGED 16+ UNEMPLOYED',\n",
       "       'PERCENT AGED 25+ WITHOUT HIGH SCHOOL DIPLOMA',\n",
       "       'PERCENT AGED UNDER 18 OR OVER 64', 'PER CAPITA INCOME ',\n",
       "       'HARDSHIP INDEX'],\n",
       "      dtype='object')"
      ]
     },
     "execution_count": 14,
     "metadata": {},
     "output_type": "execute_result"
    }
   ],
   "source": [
    "census_data = census_data.rename(columns = {\"Community Area Number\" :\"Community Area\"})\n",
    "census_data.columns"
   ]
  },
  {
   "cell_type": "code",
   "execution_count": 15,
   "id": "e2cad8d0-43d3-4d88-8e59-d35c434f2c04",
   "metadata": {},
   "outputs": [],
   "source": [
    "data_new = pd.merge(data, census_data, how =\"inner\", on =\"Community Area\")"
   ]
  },
  {
   "cell_type": "code",
   "execution_count": null,
   "id": "aee7446c-6952-4fa9-93f1-efcd94f39758",
   "metadata": {},
   "outputs": [],
   "source": []
  }
 ],
 "metadata": {
  "environment": {
   "kernel": "python3",
   "name": "common-cpu.m91",
   "type": "gcloud",
   "uri": "gcr.io/deeplearning-platform-release/base-cpu:m91"
  },
  "kernelspec": {
   "display_name": "Python 3",
   "language": "python",
   "name": "python3"
  },
  "language_info": {
   "codemirror_mode": {
    "name": "ipython",
    "version": 3
   },
   "file_extension": ".py",
   "mimetype": "text/x-python",
   "name": "python",
   "nbconvert_exporter": "python",
   "pygments_lexer": "ipython3",
   "version": "3.7.12"
  }
 },
 "nbformat": 4,
 "nbformat_minor": 5
}
