{
 "cells": [
  {
   "cell_type": "code",
   "execution_count": 2,
   "id": "ae6a4498-902c-4ab2-bf3b-8dd40f6ae316",
   "metadata": {},
   "outputs": [],
   "source": [
    "import numpy as np\n",
    "import pandas as pd\n",
    "import matplotlib.pyplot as plt\n",
    "import os\n",
    "from datetime import datetime"
   ]
  },
  {
   "cell_type": "code",
   "execution_count": 3,
   "id": "7f4527b4-d81c-417f-95ca-8d74d82b69b5",
   "metadata": {},
   "outputs": [],
   "source": [
    "potholes_1 = pd.read_csv(\"https://raw.githubusercontent.com/csridlen/Python-Project-1/main/data/potholes_1.csv\")\n",
    "potholes_2 = pd.read_csv(\"https://raw.githubusercontent.com/csridlen/Python-Project-1/main/data/potholes_2.csv\")"
   ]
  },
  {
   "cell_type": "code",
   "execution_count": 4,
   "id": "7dff4af6-3231-458d-9511-0a15df828a21",
   "metadata": {},
   "outputs": [],
   "source": [
    "data = pd.concat([potholes_1, potholes_2], ignore_index=True)"
   ]
  },
  {
   "cell_type": "code",
   "execution_count": 5,
   "id": "dff2d684-65d5-4983-aa86-67bfc3d37853",
   "metadata": {},
   "outputs": [
    {
     "data": {
      "text/plain": [
       "(560478, 19)"
      ]
     },
     "execution_count": 5,
     "metadata": {},
     "output_type": "execute_result"
    }
   ],
   "source": [
    "data.shape"
   ]
  },
  {
   "cell_type": "code",
   "execution_count": 6,
   "id": "26953fb8-25a3-4655-83b9-d36411e1080e",
   "metadata": {},
   "outputs": [
    {
     "data": {
      "text/plain": [
       "Index(['Creation Date', 'Status', 'Completion Date', 'Srn', 'Type',\n",
       "       'Current Activity', 'Action', 'Potholes in Block', 'Address', 'zip',\n",
       "       'x coordinate', 'y coordinate', 'ward', 'Police District',\n",
       "       'Community Area', 'ssa', 'Latitude', 'Longitude', 'Location'],\n",
       "      dtype='object')"
      ]
     },
     "execution_count": 6,
     "metadata": {},
     "output_type": "execute_result"
    }
   ],
   "source": [
    "#Renaming columns\n",
    "data = data.rename(columns = {\"CREATION DATE\" :\"Creation Date\", \"STATUS\" :\"Status\" , \"COMPLETION DATE\" : \"Completion Date\" , \"SERVICE REQUEST NUMBER\" : \"Srn\" , \"TYPE OF SERVICE REQUEST\" : \"Type\", \"CURRENT ACTIVITY\" : \"Current Activity\" , \"MOST RECENT ACTION\" : \"Action\" , \"NUMBER OF POTHOLES FILLED ON BLOCK\" : \"Potholes in Block\", \"STREET ADDRESS\" : \"Address\" , \"ZIP\" : \"zip\", \"X COORDINATE\" :\"x coordinate\" ,\"Y COORDINATE\" :\"y coordinate\", \"Ward\" :\"ward\", \"Police District\" : \"Police District\", \" Community Area\" :\"Area\", \"SSA\": \"ssa\",\"LATITUDE\" :\"Latitude\" , \"LONGITUDE\" :\"Longitude\", \"LOCATION\": \"Location\"})\n",
    "data.columns"
   ]
  },
  {
   "cell_type": "code",
   "execution_count": 7,
   "id": "a8f6edf8-8d1b-4a5d-8207-dfb788120129",
   "metadata": {},
   "outputs": [],
   "source": [
    "# sorting by first name\n",
    "data.sort_values(\"Srn\", inplace = True)\n",
    " \n",
    "# dropping ALL duplicate values\n",
    "data.drop_duplicates(subset =\"Srn\",\n",
    "                     keep = False, inplace = True)"
   ]
  },
  {
   "cell_type": "code",
   "execution_count": 8,
   "id": "666ffe57-4d67-4a51-85eb-b74d4c885875",
   "metadata": {},
   "outputs": [
    {
     "data": {
      "text/plain": [
       "Creation Date             0\n",
       "Status                    0\n",
       "Completion Date        7347\n",
       "Srn                       0\n",
       "Type                      0\n",
       "Current Activity     165891\n",
       "Action               167484\n",
       "Potholes in Block    161164\n",
       "Address                   2\n",
       "zip                    2310\n",
       "x coordinate            470\n",
       "y coordinate            470\n",
       "ward                    329\n",
       "Police District         330\n",
       "Community Area          329\n",
       "ssa                  470587\n",
       "Latitude                866\n",
       "Longitude               866\n",
       "Location                866\n",
       "dtype: int64"
      ]
     },
     "execution_count": 8,
     "metadata": {},
     "output_type": "execute_result"
    }
   ],
   "source": [
    "data.isnull().sum()"
   ]
  },
  {
   "cell_type": "code",
   "execution_count": null,
   "id": "e40456f9-fc83-41f2-a0af-e94e440d06d4",
   "metadata": {},
   "outputs": [],
   "source": [
    "#Replace the missing values for numerical columns with mean\n",
    "data['ssa'] = data['ssa'].fillna(data['ssa'].mean())\n",
    "data['Potholes in Block'] = data['Potholes in Block'].fillna(data['Potholes in Block'].mean())\n",
    "#Replace the missing values for numerical columns with mode\n",
    "data['Current Activity'] = data['Current Activity'].fillna(data['Current Activity'].mode()[0])\n",
    "data['Action'] = data['Action'].fillna(data['Action'].mode()[0])\n",
    "data['x coordinate'] = data['x coordinate'].fillna(data['x coordinate'].mode()[0])\n",
    "data['y coordinate'] = data['y coordinate'].fillna(data['y coordinate'].mode()[0])\n",
    "\n",
    "#Replace the missing value of competion date by a future date using 'fillna' method\n",
    "data['Completion Date'] = data['Completion Date'].fillna(12/18/2022)\n",
    "data['Completion Date'].isnull().sum()"
   ]
  },
  {
   "cell_type": "code",
   "execution_count": null,
   "id": "f43d021b-896b-4e3b-9cfb-d90636691ac5",
   "metadata": {},
   "outputs": [],
   "source": [
    "data.describe()"
   ]
  }
 ],
 "metadata": {
  "environment": {
   "kernel": "python3",
   "name": "common-cpu.m90",
   "type": "gcloud",
   "uri": "gcr.io/deeplearning-platform-release/base-cpu:m90"
  },
  "kernelspec": {
   "display_name": "Python 3",
   "language": "python",
   "name": "python3"
  },
  "language_info": {
   "codemirror_mode": {
    "name": "ipython",
    "version": 3
   },
   "file_extension": ".py",
   "mimetype": "text/x-python",
   "name": "python",
   "nbconvert_exporter": "python",
   "pygments_lexer": "ipython3",
   "version": "3.7.12"
  }
 },
 "nbformat": 4,
 "nbformat_minor": 5
}
