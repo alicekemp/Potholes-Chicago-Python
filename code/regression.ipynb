{
 "cells": [
  {
   "cell_type": "code",
   "execution_count": 1,
   "id": "e5c5db1f-ef23-4d37-9a1f-1200fc4f9bf7",
   "metadata": {},
   "outputs": [],
   "source": [
    "#setup\n",
    "\n",
    "import pandas as pd\n",
    "import numpy as np\n",
    "from sklearn import linear_model\n",
    "from sklearn.linear_model import LinearRegression\n",
    "import statsmodels.api as sm\n",
    "from scipy import stats"
   ]
  },
  {
   "cell_type": "code",
   "execution_count": 2,
   "id": "24988374-70fd-4ee6-8cae-a31667288c7a",
   "metadata": {
    "tags": []
   },
   "outputs": [],
   "source": [
    "#recombine data\n",
    "\n",
    "from combine import recombine\n",
    "data = recombine(\"../data/potholes_1.csv\", \"../data/potholes_2.csv\")"
   ]
  },
  {
   "cell_type": "code",
   "execution_count": 3,
   "id": "5a9e0fbd-4b8a-4dbd-95da-3f8625048982",
   "metadata": {
    "tags": []
   },
   "outputs": [],
   "source": [
    "#extract days from date data by converting date to time, creating completion time variable, and turning to an int\n",
    "\n",
    "data[\"creation_date\"] = pd.to_datetime(data[\"CREATION DATE\"])\n",
    "data[\"completion_date\"] = pd.to_datetime(data[\"COMPLETION DATE\"])\n",
    "data[\"creation_year\"] = pd.DatetimeIndex(data[\"creation_date\"]).year\n",
    "data[\"creation_date\"] = pd.to_datetime(data[\"creation_date\"], format = \"%m/%d/%Y\")\n",
    "data[\"completion_date\"] = pd.to_datetime(data[\"completion_date\"], format = \"%m/%d/%Y\")\n",
    "data[\"completion_time\"] = data[\"completion_date\"] - data[\"creation_date\"]\n",
    "data[\"completion_time\"] = data[\"completion_time\"].apply(lambda x: x.days)"
   ]
  },
  {
   "cell_type": "code",
   "execution_count": 4,
   "id": "9b5d39f2-f32c-442b-95f2-ef8a4359fcad",
   "metadata": {},
   "outputs": [],
   "source": [
    "#inefficiently clean data\n",
    "\n",
    "data.drop('CREATION DATE', axis=1, inplace=True)\n",
    "data.drop('COMPLETION DATE', axis=1, inplace=True)\n",
    "data.drop('STATUS', axis=1, inplace=True)\n",
    "data.drop('SERVICE REQUEST NUMBER', axis=1, inplace=True)\n",
    "data.drop('TYPE OF SERVICE REQUEST', axis=1, inplace=True)\n",
    "data.drop('CURRENT ACTIVITY', axis=1, inplace=True)\n",
    "data.drop('MOST RECENT ACTION', axis=1, inplace=True)\n",
    "data.drop('STREET ADDRESS', axis=1, inplace=True)\n",
    "data.drop('X COORDINATE', axis=1, inplace=True)\n",
    "data.drop('Y COORDINATE', axis=1, inplace=True)\n",
    "data.drop('SSA', axis=1, inplace=True)\n",
    "data.drop('LATITUDE', axis=1, inplace=True)\n",
    "data.drop('LONGITUDE', axis=1, inplace=True)\n",
    "data.drop('LOCATION', axis=1, inplace=True)\n",
    "data.drop('creation_date', axis=1, inplace=True)\n",
    "data.drop('completion_date', axis=1, inplace=True)\n",
    "data.drop('ZIP', axis=1, inplace=True)\n",
    "data.drop('Ward', axis=1, inplace=True)\n",
    "data.drop('Police District', axis=1, inplace=True)\n",
    "data.drop('NUMBER OF POTHOLES FILLED ON BLOCK', axis=1, inplace=True)\n",
    "data = data.dropna()\n",
    "data[\"community_area\"] = data[\"Community Area\"].astype(int)\n",
    "data.drop('Community Area', axis=1, inplace=True)"
   ]
  },
  {
   "cell_type": "code",
   "execution_count": 5,
   "id": "151d764f-b740-4327-8362-d29bd03bcb60",
   "metadata": {},
   "outputs": [
    {
     "data": {
      "text/plain": [
       "0      9960\n",
       "1     15420\n",
       "2      5415\n",
       "3      7069\n",
       "4      6335\n",
       "      ...  \n",
       "72     7627\n",
       "73     5097\n",
       "74     6693\n",
       "75     2278\n",
       "76     8928\n",
       "Name: count, Length: 77, dtype: int64"
      ]
     },
     "execution_count": 5,
     "metadata": {},
     "output_type": "execute_result"
    }
   ],
   "source": [
    "#make a list of total pothole count per community area\n",
    "\n",
    "potc = data.groupby([\"community_area\"])[\"creation_year\"].count().reset_index(name=\"count\")\n",
    "potc = potc.drop(labels=0, axis=0)\n",
    "Ya = potc[\"count\"]\n",
    "Ya.reset_index(drop=True)"
   ]
  },
  {
   "cell_type": "code",
   "execution_count": 6,
   "id": "b80e4ff0-850a-4342-8b91-b01f1b01541b",
   "metadata": {},
   "outputs": [],
   "source": [
    "#make a list of average service request completion time by community area\n",
    "\n",
    "compt = data.groupby([\"community_area\"]).agg({'completion_time': 'mean'})\n",
    "compt = compt.drop(labels=0, axis=0)\n",
    "Yb = compt"
   ]
  },
  {
   "cell_type": "code",
   "execution_count": 7,
   "id": "fe07b9e8-67b4-48e6-9ba1-ae9448f73923",
   "metadata": {},
   "outputs": [],
   "source": [
    "#import crime data and make a list of average yearly crime by community area\n",
    "\n",
    "crimed = pd.read_csv(\"../data/Crimes_data.csv\")\n",
    "crimed[\"community_area\"] = crimed[\"Community Area\"]\n",
    "crimed[\"crime_rate\"] = crimed[\"ID\"]\n",
    "crimes = crimed[['community_area', \"crime_rate\"]]\n",
    "crimes.dropna()\n",
    "crime = crimes.groupby([\"community_area\"]).count()\n",
    "crime[\"crime_rate\"] = crime[\"crime_rate\"] / 5"
   ]
  },
  {
   "cell_type": "code",
   "execution_count": 8,
   "id": "4c2c05c3-cff0-497d-a5b5-f09623f988e1",
   "metadata": {},
   "outputs": [],
   "source": [
    "#import per capita yearly income from census data by community area\n",
    "\n",
    "incomes = pd.read_csv(\"../data/chicago_census_data.csv\")\n",
    "incomes = incomes.drop(labels=77, axis=0)\n",
    "incomes[\"avg_income\"] = incomes[\"PER CAPITA INCOME \"]\n",
    "incomes[\"community_area\"] = incomes[\"Community Area Number\"].astype(int)\n",
    "income = incomes[['community_area', \"avg_income\"]]"
   ]
  },
  {
   "cell_type": "code",
   "execution_count": 9,
   "id": "bb3f8a68-3239-4d9a-b49c-2e93c1aa405c",
   "metadata": {},
   "outputs": [],
   "source": [
    "#create an X matric for the regression with avg yearly income and crime rate\n",
    "\n",
    "X = pd.merge(income, crime, on = 'community_area')\n",
    "X.drop('community_area', axis=1, inplace=True)\n",
    "X.index += 1"
   ]
  },
  {
   "cell_type": "code",
   "execution_count": 10,
   "id": "89260658-87b1-4790-ba39-ed00d3f7bf4d",
   "metadata": {
    "tags": []
   },
   "outputs": [],
   "source": [
    "#add the constant term to the matrix\n",
    "\n",
    "Xc = sm.add_constant(X)"
   ]
  },
  {
   "cell_type": "code",
   "execution_count": 11,
   "id": "0ea5c35f-aa10-40f1-93c5-6941c2a2fcf6",
   "metadata": {
    "tags": []
   },
   "outputs": [
    {
     "data": {
      "text/html": [
       "<table class=\"simpletable\">\n",
       "<caption>OLS Regression Results</caption>\n",
       "<tr>\n",
       "  <th>Dep. Variable:</th>          <td>count</td>      <th>  R-squared:         </th> <td>   0.255</td>\n",
       "</tr>\n",
       "<tr>\n",
       "  <th>Model:</th>                   <td>OLS</td>       <th>  Adj. R-squared:    </th> <td>   0.235</td>\n",
       "</tr>\n",
       "<tr>\n",
       "  <th>Method:</th>             <td>Least Squares</td>  <th>  F-statistic:       </th> <td>   12.69</td>\n",
       "</tr>\n",
       "<tr>\n",
       "  <th>Date:</th>             <td>Mon, 21 Mar 2022</td> <th>  Prob (F-statistic):</th> <td>1.83e-05</td>\n",
       "</tr>\n",
       "<tr>\n",
       "  <th>Time:</th>                 <td>18:28:49</td>     <th>  Log-Likelihood:    </th> <td> -738.35</td>\n",
       "</tr>\n",
       "<tr>\n",
       "  <th>No. Observations:</th>      <td>    77</td>      <th>  AIC:               </th> <td>   1483.</td>\n",
       "</tr>\n",
       "<tr>\n",
       "  <th>Df Residuals:</th>          <td>    74</td>      <th>  BIC:               </th> <td>   1490.</td>\n",
       "</tr>\n",
       "<tr>\n",
       "  <th>Df Model:</th>              <td>     2</td>      <th>                     </th>     <td> </td>   \n",
       "</tr>\n",
       "<tr>\n",
       "  <th>Covariance Type:</th>      <td>nonrobust</td>    <th>                     </th>     <td> </td>   \n",
       "</tr>\n",
       "</table>\n",
       "<table class=\"simpletable\">\n",
       "<tr>\n",
       "       <td></td>         <th>coef</th>     <th>std err</th>      <th>t</th>      <th>P>|t|</th>  <th>[0.025</th>    <th>0.975]</th>  \n",
       "</tr>\n",
       "<tr>\n",
       "  <th>const</th>      <td> 3355.4005</td> <td>  923.551</td> <td>    3.633</td> <td> 0.001</td> <td> 1515.186</td> <td> 5195.615</td>\n",
       "</tr>\n",
       "<tr>\n",
       "  <th>avg_income</th> <td>    0.0868</td> <td>    0.027</td> <td>    3.188</td> <td> 0.002</td> <td>    0.033</td> <td>    0.141</td>\n",
       "</tr>\n",
       "<tr>\n",
       "  <th>crime_rate</th> <td>    2.1707</td> <td>    0.512</td> <td>    4.244</td> <td> 0.000</td> <td>    1.151</td> <td>    3.190</td>\n",
       "</tr>\n",
       "</table>\n",
       "<table class=\"simpletable\">\n",
       "<tr>\n",
       "  <th>Omnibus:</th>       <td> 4.793</td> <th>  Durbin-Watson:     </th> <td>   1.674</td>\n",
       "</tr>\n",
       "<tr>\n",
       "  <th>Prob(Omnibus):</th> <td> 0.091</td> <th>  Jarque-Bera (JB):  </th> <td>   4.681</td>\n",
       "</tr>\n",
       "<tr>\n",
       "  <th>Skew:</th>          <td> 0.600</td> <th>  Prob(JB):          </th> <td>  0.0963</td>\n",
       "</tr>\n",
       "<tr>\n",
       "  <th>Kurtosis:</th>      <td> 2.868</td> <th>  Cond. No.          </th> <td>6.69e+04</td>\n",
       "</tr>\n",
       "</table><br/><br/>Notes:<br/>[1] Standard Errors assume that the covariance matrix of the errors is correctly specified.<br/>[2] The condition number is large, 6.69e+04. This might indicate that there are<br/>strong multicollinearity or other numerical problems."
      ],
      "text/plain": [
       "<class 'statsmodels.iolib.summary.Summary'>\n",
       "\"\"\"\n",
       "                            OLS Regression Results                            \n",
       "==============================================================================\n",
       "Dep. Variable:                  count   R-squared:                       0.255\n",
       "Model:                            OLS   Adj. R-squared:                  0.235\n",
       "Method:                 Least Squares   F-statistic:                     12.69\n",
       "Date:                Mon, 21 Mar 2022   Prob (F-statistic):           1.83e-05\n",
       "Time:                        18:28:49   Log-Likelihood:                -738.35\n",
       "No. Observations:                  77   AIC:                             1483.\n",
       "Df Residuals:                      74   BIC:                             1490.\n",
       "Df Model:                           2                                         \n",
       "Covariance Type:            nonrobust                                         \n",
       "==============================================================================\n",
       "                 coef    std err          t      P>|t|      [0.025      0.975]\n",
       "------------------------------------------------------------------------------\n",
       "const       3355.4005    923.551      3.633      0.001    1515.186    5195.615\n",
       "avg_income     0.0868      0.027      3.188      0.002       0.033       0.141\n",
       "crime_rate     2.1707      0.512      4.244      0.000       1.151       3.190\n",
       "==============================================================================\n",
       "Omnibus:                        4.793   Durbin-Watson:                   1.674\n",
       "Prob(Omnibus):                  0.091   Jarque-Bera (JB):                4.681\n",
       "Skew:                           0.600   Prob(JB):                       0.0963\n",
       "Kurtosis:                       2.868   Cond. No.                     6.69e+04\n",
       "==============================================================================\n",
       "\n",
       "Notes:\n",
       "[1] Standard Errors assume that the covariance matrix of the errors is correctly specified.\n",
       "[2] The condition number is large, 6.69e+04. This might indicate that there are\n",
       "strong multicollinearity or other numerical problems.\n",
       "\"\"\""
      ]
     },
     "execution_count": 11,
     "metadata": {},
     "output_type": "execute_result"
    }
   ],
   "source": [
    "#regression of total potholes by community area on crime rate and yearly income\n",
    "\n",
    "esta = sm.OLS(Ya, Xc)\n",
    "est1 = esta.fit()\n",
    "est1.summary()"
   ]
  },
  {
   "cell_type": "code",
   "execution_count": 12,
   "id": "43de150f-8b64-4304-a391-178463b570db",
   "metadata": {},
   "outputs": [
    {
     "data": {
      "text/html": [
       "<table class=\"simpletable\">\n",
       "<caption>OLS Regression Results</caption>\n",
       "<tr>\n",
       "  <th>Dep. Variable:</th>     <td>completion_time</td> <th>  R-squared:         </th> <td>   0.021</td>\n",
       "</tr>\n",
       "<tr>\n",
       "  <th>Model:</th>                   <td>OLS</td>       <th>  Adj. R-squared:    </th> <td>  -0.006</td>\n",
       "</tr>\n",
       "<tr>\n",
       "  <th>Method:</th>             <td>Least Squares</td>  <th>  F-statistic:       </th> <td>  0.7870</td>\n",
       "</tr>\n",
       "<tr>\n",
       "  <th>Date:</th>             <td>Mon, 21 Mar 2022</td> <th>  Prob (F-statistic):</th>  <td> 0.459</td> \n",
       "</tr>\n",
       "<tr>\n",
       "  <th>Time:</th>                 <td>18:28:49</td>     <th>  Log-Likelihood:    </th> <td> -287.66</td>\n",
       "</tr>\n",
       "<tr>\n",
       "  <th>No. Observations:</th>      <td>    77</td>      <th>  AIC:               </th> <td>   581.3</td>\n",
       "</tr>\n",
       "<tr>\n",
       "  <th>Df Residuals:</th>          <td>    74</td>      <th>  BIC:               </th> <td>   588.4</td>\n",
       "</tr>\n",
       "<tr>\n",
       "  <th>Df Model:</th>              <td>     2</td>      <th>                     </th>     <td> </td>   \n",
       "</tr>\n",
       "<tr>\n",
       "  <th>Covariance Type:</th>      <td>nonrobust</td>    <th>                     </th>     <td> </td>   \n",
       "</tr>\n",
       "</table>\n",
       "<table class=\"simpletable\">\n",
       "<tr>\n",
       "       <td></td>         <th>coef</th>     <th>std err</th>      <th>t</th>      <th>P>|t|</th>  <th>[0.025</th>    <th>0.975]</th>  \n",
       "</tr>\n",
       "<tr>\n",
       "  <th>const</th>      <td>   26.4048</td> <td>    2.652</td> <td>    9.957</td> <td> 0.000</td> <td>   21.121</td> <td>   31.689</td>\n",
       "</tr>\n",
       "<tr>\n",
       "  <th>avg_income</th> <td> 7.767e-05</td> <td> 7.81e-05</td> <td>    0.994</td> <td> 0.324</td> <td> -7.8e-05</td> <td>    0.000</td>\n",
       "</tr>\n",
       "<tr>\n",
       "  <th>crime_rate</th> <td>    0.0013</td> <td>    0.001</td> <td>    0.876</td> <td> 0.384</td> <td>   -0.002</td> <td>    0.004</td>\n",
       "</tr>\n",
       "</table>\n",
       "<table class=\"simpletable\">\n",
       "<tr>\n",
       "  <th>Omnibus:</th>       <td> 8.612</td> <th>  Durbin-Watson:     </th> <td>   0.652</td>\n",
       "</tr>\n",
       "<tr>\n",
       "  <th>Prob(Omnibus):</th> <td> 0.013</td> <th>  Jarque-Bera (JB):  </th> <td>   5.421</td>\n",
       "</tr>\n",
       "<tr>\n",
       "  <th>Skew:</th>          <td> 0.488</td> <th>  Prob(JB):          </th> <td>  0.0665</td>\n",
       "</tr>\n",
       "<tr>\n",
       "  <th>Kurtosis:</th>      <td> 2.143</td> <th>  Cond. No.          </th> <td>6.69e+04</td>\n",
       "</tr>\n",
       "</table><br/><br/>Notes:<br/>[1] Standard Errors assume that the covariance matrix of the errors is correctly specified.<br/>[2] The condition number is large, 6.69e+04. This might indicate that there are<br/>strong multicollinearity or other numerical problems."
      ],
      "text/plain": [
       "<class 'statsmodels.iolib.summary.Summary'>\n",
       "\"\"\"\n",
       "                            OLS Regression Results                            \n",
       "==============================================================================\n",
       "Dep. Variable:        completion_time   R-squared:                       0.021\n",
       "Model:                            OLS   Adj. R-squared:                 -0.006\n",
       "Method:                 Least Squares   F-statistic:                    0.7870\n",
       "Date:                Mon, 21 Mar 2022   Prob (F-statistic):              0.459\n",
       "Time:                        18:28:49   Log-Likelihood:                -287.66\n",
       "No. Observations:                  77   AIC:                             581.3\n",
       "Df Residuals:                      74   BIC:                             588.4\n",
       "Df Model:                           2                                         \n",
       "Covariance Type:            nonrobust                                         \n",
       "==============================================================================\n",
       "                 coef    std err          t      P>|t|      [0.025      0.975]\n",
       "------------------------------------------------------------------------------\n",
       "const         26.4048      2.652      9.957      0.000      21.121      31.689\n",
       "avg_income  7.767e-05   7.81e-05      0.994      0.324    -7.8e-05       0.000\n",
       "crime_rate     0.0013      0.001      0.876      0.384      -0.002       0.004\n",
       "==============================================================================\n",
       "Omnibus:                        8.612   Durbin-Watson:                   0.652\n",
       "Prob(Omnibus):                  0.013   Jarque-Bera (JB):                5.421\n",
       "Skew:                           0.488   Prob(JB):                       0.0665\n",
       "Kurtosis:                       2.143   Cond. No.                     6.69e+04\n",
       "==============================================================================\n",
       "\n",
       "Notes:\n",
       "[1] Standard Errors assume that the covariance matrix of the errors is correctly specified.\n",
       "[2] The condition number is large, 6.69e+04. This might indicate that there are\n",
       "strong multicollinearity or other numerical problems.\n",
       "\"\"\""
      ]
     },
     "execution_count": 12,
     "metadata": {},
     "output_type": "execute_result"
    }
   ],
   "source": [
    "#regression of average pothole service request completion time by community area on crime rate and yearly income\n",
    "\n",
    "estb = sm.OLS(Yb, Xc)\n",
    "est2 = estb.fit()\n",
    "est2.summary()"
   ]
  }
 ],
 "metadata": {
  "environment": {
   "kernel": "python3",
   "name": "common-cpu.m90",
   "type": "gcloud",
   "uri": "gcr.io/deeplearning-platform-release/base-cpu:m90"
  },
  "kernelspec": {
   "display_name": "Python 3",
   "language": "python",
   "name": "python3"
  },
  "language_info": {
   "codemirror_mode": {
    "name": "ipython",
    "version": 3
   },
   "file_extension": ".py",
   "mimetype": "text/x-python",
   "name": "python",
   "nbconvert_exporter": "python",
   "pygments_lexer": "ipython3",
   "version": "3.7.12"
  }
 },
 "nbformat": 4,
 "nbformat_minor": 5
}
