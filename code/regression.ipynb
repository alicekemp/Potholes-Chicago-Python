{
 "cells": [
  {
   "cell_type": "code",
   "execution_count": null,
   "id": "e5c5db1f-ef23-4d37-9a1f-1200fc4f9bf7",
   "metadata": {},
   "outputs": [],
   "source": [
    "import pandas as pd\n",
    "import numpy as np\n",
    "from sklearn.linear_model import LinearRegression"
   ]
  },
  {
   "cell_type": "code",
   "execution_count": null,
   "id": "24988374-70fd-4ee6-8cae-a31667288c7a",
   "metadata": {
    "tags": []
   },
   "outputs": [],
   "source": [
    "from combine import recombine\n",
    "data = recombine(\"../data/potholes_1.csv\", \"../data/potholes_2.csv\")"
   ]
  },
  {
   "cell_type": "code",
   "execution_count": null,
   "id": "5a9e0fbd-4b8a-4dbd-95da-3f8625048982",
   "metadata": {
    "tags": []
   },
   "outputs": [],
   "source": [
    "data[\"creation_date\"] = pd.to_datetime(data[\"CREATION DATE\"])\n",
    "data[\"completion_date\"] = pd.to_datetime(data[\"COMPLETION DATE\"])\n",
    "data[\"creation_year\"] = pd.DatetimeIndex(data[\"creation_date\"]).year\n",
    "\n",
    "# Convert strings to times\n",
    "data[\"creation_date\"] = pd.to_datetime(data[\"creation_date\"], format = \"%m/%d/%Y\")\n",
    "data[\"completion_date\"] = pd.to_datetime(data[\"completion_date\"], format = \"%m/%d/%Y\")\n",
    "\n",
    "# Create completion time variable\n",
    "data[\"completion_time\"] = data[\"completion_date\"] - data[\"creation_date\"]\n"
   ]
  },
  {
   "cell_type": "code",
   "execution_count": null,
   "id": "d9322205-cb1f-41b1-9b14-3162026472ea",
   "metadata": {},
   "outputs": [],
   "source": [
    "data[\"completion_time\"] = data[\"completion_time\"].apply(lambda x: x.days)"
   ]
  },
  {
   "cell_type": "code",
   "execution_count": null,
   "id": "9b5d39f2-f32c-442b-95f2-ef8a4359fcad",
   "metadata": {},
   "outputs": [],
   "source": [
    "data.drop('CREATION DATE', axis=1, inplace=True)\n",
    "data.drop('COMPLETION DATE', axis=1, inplace=True)\n",
    "data.drop('STATUS', axis=1, inplace=True)\n",
    "data.drop('SERVICE REQUEST NUMBER', axis=1, inplace=True)\n",
    "data.drop('TYPE OF SERVICE REQUEST', axis=1, inplace=True)\n",
    "data.drop('CURRENT ACTIVITY', axis=1, inplace=True)\n",
    "data.drop('MOST RECENT ACTION', axis=1, inplace=True)\n",
    "data.drop('STREET ADDRESS', axis=1, inplace=True)\n",
    "data.drop('X COORDINATE', axis=1, inplace=True)\n",
    "data.drop('Y COORDINATE', axis=1, inplace=True)\n",
    "data.drop('SSA', axis=1, inplace=True)\n",
    "data.drop('LATITUDE', axis=1, inplace=True)\n",
    "data.drop('LONGITUDE', axis=1, inplace=True)\n",
    "data.drop('LOCATION', axis=1, inplace=True)\n",
    "data.drop('creation_date', axis=1, inplace=True)\n",
    "data.drop('completion_date', axis=1, inplace=True)\n",
    "data.drop('ZIP', axis=1, inplace=True)\n",
    "data.drop('Ward', axis=1, inplace=True)\n",
    "data.drop('Police District', axis=1, inplace=True)\n",
    "data.drop('NUMBER OF POTHOLES FILLED ON BLOCK', axis=1, inplace=True)\n",
    "data.drop('creation_year', axis=1, inplace=True)\n",
    "\n",
    "data[\"community_area\"] = data[\"Community Area\"]\n",
    "data.drop('Community Area', axis=1, inplace=True)\n"
   ]
  },
  {
   "cell_type": "code",
   "execution_count": null,
   "id": "69b37ec6-28f0-4086-a0c7-1f9bf48dde86",
   "metadata": {},
   "outputs": [],
   "source": [
    "data = data.dropna()"
   ]
  },
  {
   "cell_type": "code",
   "execution_count": null,
   "id": "468ba0da-cdec-4040-b6bd-9b4e9ac6c4ec",
   "metadata": {},
   "outputs": [],
   "source": [
    "data1 = data.groupby([\"community_area\"]).count()\n",
    "data1 = data1.drop(labels=0, axis=0)\n",
    "data1.head\n",
    "\n",
    "\n",
    "data2 = data.groupby([\"community_area\"]).agg({'completion_time': 'mean'})\n",
    "data2 = data2.drop(labels=0, axis=0)\n",
    "data2.head"
   ]
  },
  {
   "cell_type": "code",
   "execution_count": 15,
   "id": "fe07b9e8-67b4-48e6-9ba1-ae9448f73923",
   "metadata": {},
   "outputs": [
    {
     "data": {
      "text/plain": [
       "<bound method NDFrame.head of Empty DataFrame\n",
       "Columns: []\n",
       "Index: [1, 2, 3, 4, 5, 6, 7, 8, 9, 10, 11, 12, 13, 14, 15, 16, 17, 18, 19, 20, 21, 22, 23, 24, 25, 26, 27, 28, 29, 30, 31, 32, 33, 34, 35, 36, 37, 38, 39, 40, 41, 42, 43, 44, 45, 46, 47, 48, 49, 50, 51, 52, 53, 54, 55, 56, 57, 58, 59, 60, 61, 62, 63, 64, 65, 66, 67, 68, 69, 70, 71, 72, 73, 74, 75, 76, 77]\n",
       "\n",
       "[77 rows x 0 columns]>"
      ]
     },
     "execution_count": 15,
     "metadata": {},
     "output_type": "execute_result"
    }
   ],
   "source": [
    "crime = pd.read_csv(\"../data/Crimes_data.csv\")\n",
    "\n",
    "crime[\"community_area\"] = crime[\"Community Area\"]\n",
    "crimes = crime[['community_area']]\n",
    "crimes.dropna()\n",
    "\n",
    "crimec = crimes.groupby([\"community_area\"]).count()\n",
    "crimec.head\n",
    "#crimein = crimein.drop(labels=0, axis=0)\n",
    "#crimein.dropna\n",
    "#crimein.head"
   ]
  },
  {
   "cell_type": "code",
   "execution_count": null,
   "id": "4c2c05c3-cff0-497d-a5b5-f09623f988e1",
   "metadata": {},
   "outputs": [],
   "source": [
    "income = pd.read_csv(\"../data/chicago_census_data.csv\")\n",
    "\n",
    "income[\"income\"] = income[\"PER CAPITA INCOME \"]\n",
    "income[\"community_area\"] = income[\"Community Area Number\"]\n",
    "incomes = income[['community_area', \"income\"]]\n",
    "incomes = incomes.drop(labels=77, axis=0)\n",
    "incomes.head"
   ]
  },
  {
   "cell_type": "code",
   "execution_count": null,
   "id": "bb3f8a68-3239-4d9a-b49c-2e93c1aa405c",
   "metadata": {},
   "outputs": [],
   "source": []
  }
 ],
 "metadata": {
  "environment": {
   "kernel": "python3",
   "name": "common-cpu.m90",
   "type": "gcloud",
   "uri": "gcr.io/deeplearning-platform-release/base-cpu:m90"
  },
  "kernelspec": {
   "display_name": "Python 3",
   "language": "python",
   "name": "python3"
  },
  "language_info": {
   "codemirror_mode": {
    "name": "ipython",
    "version": 3
   },
   "file_extension": ".py",
   "mimetype": "text/x-python",
   "name": "python",
   "nbconvert_exporter": "python",
   "pygments_lexer": "ipython3",
   "version": "3.7.12"
  }
 },
 "nbformat": 4,
 "nbformat_minor": 5
}
