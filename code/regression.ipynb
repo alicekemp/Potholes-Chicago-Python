{
 "cells": [
  {
   "cell_type": "code",
   "execution_count": 1,
   "id": "e5c5db1f-ef23-4d37-9a1f-1200fc4f9bf7",
   "metadata": {},
   "outputs": [],
   "source": [
    "import pandas as pd\n",
    "import numpy as np\n",
    "from sklearn.linear_model import LinearRegression"
   ]
  },
  {
   "cell_type": "code",
   "execution_count": 2,
   "id": "482c9032-a369-4b24-b3f9-253525b0bd56",
   "metadata": {
    "tags": []
   },
   "outputs": [
    {
     "data": {
      "text/plain": [
       "Index(['CREATION DATE', 'STATUS', 'COMPLETION DATE', 'SERVICE REQUEST NUMBER',\n",
       "       'TYPE OF SERVICE REQUEST', 'CURRENT ACTIVITY', 'MOST RECENT ACTION',\n",
       "       'NUMBER OF POTHOLES FILLED ON BLOCK', 'STREET ADDRESS', 'ZIP',\n",
       "       'X COORDINATE', 'Y COORDINATE', 'Ward', 'Police District',\n",
       "       'Community Area', 'SSA', 'LATITUDE', 'LONGITUDE', 'LOCATION',\n",
       "       'creation_date', 'completion_date', 'creation_year', 'completion_time'],\n",
       "      dtype='object')"
      ]
     },
     "execution_count": 2,
     "metadata": {},
     "output_type": "execute_result"
    }
   ],
   "source": [
    "from combine import recombine\n",
    "data = recombine(\"../data/potholes_1.csv\", \"../data/potholes_2.csv\")\n",
    "data[\"creation_date\"] = pd.to_datetime(data[\"CREATION DATE\"])\n",
    "data[\"completion_date\"] = pd.to_datetime(data[\"COMPLETION DATE\"])\n",
    "data[\"creation_year\"] = pd.DatetimeIndex(data[\"creation_date\"]).year\n",
    "\n",
    "# Convert strings to times\n",
    "data[\"creation_date\"] = pd.to_datetime(data[\"creation_date\"], format = \"%m/%d/%Y\")\n",
    "data[\"completion_date\"] = pd.to_datetime(data[\"completion_date\"], format = \"%m/%d/%Y\")\n",
    "\n",
    "# Create completion time variable\n",
    "data[\"completion_time\"] = data[\"completion_date\"] - data[\"creation_date\"]\n",
    "\n",
    "data.columns"
   ]
  },
  {
   "cell_type": "code",
   "execution_count": 3,
   "id": "d9322205-cb1f-41b1-9b14-3162026472ea",
   "metadata": {},
   "outputs": [],
   "source": [
    "data[\"completion_time\"] = data[\"completion_time\"].apply(lambda x: x.days)"
   ]
  },
  {
   "cell_type": "code",
   "execution_count": 4,
   "id": "9b5d39f2-f32c-442b-95f2-ef8a4359fcad",
   "metadata": {},
   "outputs": [
    {
     "data": {
      "text/plain": [
       "Index(['creation_year', 'completion_time', 'community_area'], dtype='object')"
      ]
     },
     "execution_count": 4,
     "metadata": {},
     "output_type": "execute_result"
    }
   ],
   "source": [
    "data.drop('CREATION DATE', axis=1, inplace=True)\n",
    "data.drop('COMPLETION DATE', axis=1, inplace=True)\n",
    "data.drop('STATUS', axis=1, inplace=True)\n",
    "data.drop('SERVICE REQUEST NUMBER', axis=1, inplace=True)\n",
    "data.drop('TYPE OF SERVICE REQUEST', axis=1, inplace=True)\n",
    "data.drop('CURRENT ACTIVITY', axis=1, inplace=True)\n",
    "data.drop('MOST RECENT ACTION', axis=1, inplace=True)\n",
    "data.drop('STREET ADDRESS', axis=1, inplace=True)\n",
    "data.drop('X COORDINATE', axis=1, inplace=True)\n",
    "data.drop('Y COORDINATE', axis=1, inplace=True)\n",
    "data.drop('SSA', axis=1, inplace=True)\n",
    "data.drop('LATITUDE', axis=1, inplace=True)\n",
    "data.drop('LONGITUDE', axis=1, inplace=True)\n",
    "data.drop('LOCATION', axis=1, inplace=True)\n",
    "data.drop('creation_date', axis=1, inplace=True)\n",
    "data.drop('completion_date', axis=1, inplace=True)\n",
    "data.drop('ZIP', axis=1, inplace=True)\n",
    "data.drop('Ward', axis=1, inplace=True)\n",
    "data.drop('Police District', axis=1, inplace=True)\n",
    "data.drop('NUMBER OF POTHOLES FILLED ON BLOCK', axis=1, inplace=True)\n",
    "\n",
    "data[\"community_area\"] = pd.to_datetime(data[\"Community Area\"])\n",
    "data.drop('Community Area', axis=1, inplace=True)\n",
    "\n",
    "data.columns"
   ]
  },
  {
   "cell_type": "code",
   "execution_count": null,
   "id": "8da40b67-81da-47e1-84c5-fceb8bf08930",
   "metadata": {},
   "outputs": [],
   "source": []
  }
 ],
 "metadata": {
  "environment": {
   "kernel": "python3",
   "name": "common-cpu.m90",
   "type": "gcloud",
   "uri": "gcr.io/deeplearning-platform-release/base-cpu:m90"
  },
  "kernelspec": {
   "display_name": "Python 3",
   "language": "python",
   "name": "python3"
  },
  "language_info": {
   "codemirror_mode": {
    "name": "ipython",
    "version": 3
   },
   "file_extension": ".py",
   "mimetype": "text/x-python",
   "name": "python",
   "nbconvert_exporter": "python",
   "pygments_lexer": "ipython3",
   "version": "3.7.12"
  }
 },
 "nbformat": 4,
 "nbformat_minor": 5
}
