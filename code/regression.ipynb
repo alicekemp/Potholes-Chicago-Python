{
 "cells": [
  {
   "cell_type": "code",
   "execution_count": 1,
   "id": "e5c5db1f-ef23-4d37-9a1f-1200fc4f9bf7",
   "metadata": {},
   "outputs": [],
   "source": [
    "import pandas as pd\n",
    "import numpy as np\n",
    "from sklearn.linear_model import LinearRegression"
   ]
  },
  {
   "cell_type": "code",
   "execution_count": 2,
   "id": "482c9032-a369-4b24-b3f9-253525b0bd56",
   "metadata": {
    "tags": []
   },
   "outputs": [
    {
     "data": {
      "text/plain": [
       "Index(['CREATION DATE', 'STATUS', 'COMPLETION DATE', 'SERVICE REQUEST NUMBER',\n",
       "       'TYPE OF SERVICE REQUEST', 'CURRENT ACTIVITY', 'MOST RECENT ACTION',\n",
       "       'NUMBER OF POTHOLES FILLED ON BLOCK', 'STREET ADDRESS', 'ZIP',\n",
       "       'X COORDINATE', 'Y COORDINATE', 'Ward', 'Police District',\n",
       "       'Community Area', 'SSA', 'LATITUDE', 'LONGITUDE', 'LOCATION',\n",
       "       'creation_date', 'completion_date', 'creation_year', 'completion_time'],\n",
       "      dtype='object')"
      ]
     },
     "execution_count": 2,
     "metadata": {},
     "output_type": "execute_result"
    }
   ],
   "source": [
    "from combine import recombine\n",
    "data = recombine(\"../data/potholes_1.csv\", \"../data/potholes_2.csv\")\n",
    "data[\"creation_date\"] = pd.to_datetime(data[\"CREATION DATE\"])\n",
    "data[\"completion_date\"] = pd.to_datetime(data[\"COMPLETION DATE\"])\n",
    "data[\"creation_year\"] = pd.DatetimeIndex(data[\"creation_date\"]).year\n",
    "\n",
    "# Convert strings to times\n",
    "data[\"creation_date\"] = pd.to_datetime(data[\"creation_date\"], format = \"%m/%d/%Y\")\n",
    "data[\"completion_date\"] = pd.to_datetime(data[\"completion_date\"], format = \"%m/%d/%Y\")\n",
    "\n",
    "# Create completion time variable\n",
    "data[\"completion_time\"] = data[\"completion_date\"] - data[\"creation_date\"]\n",
    "\n",
    "data.columns"
   ]
  },
  {
   "cell_type": "code",
   "execution_count": 10,
   "id": "44593e7b-abd3-4903-9c46-1d845e6c341e",
   "metadata": {},
   "outputs": [
    {
     "data": {
      "text/plain": [
       "CREATION DATE                                  object\n",
       "STATUS                                         object\n",
       "COMPLETION DATE                                object\n",
       "SERVICE REQUEST NUMBER                         object\n",
       "TYPE OF SERVICE REQUEST                        object\n",
       "CURRENT ACTIVITY                               object\n",
       "MOST RECENT ACTION                             object\n",
       "NUMBER OF POTHOLES FILLED ON BLOCK            float64\n",
       "STREET ADDRESS                                 object\n",
       "ZIP                                           float64\n",
       "X COORDINATE                                  float64\n",
       "Y COORDINATE                                  float64\n",
       "Ward                                          float64\n",
       "Police District                               float64\n",
       "Community Area                                float64\n",
       "SSA                                           float64\n",
       "LATITUDE                                      float64\n",
       "LONGITUDE                                     float64\n",
       "LOCATION                                       object\n",
       "creation_date                          datetime64[ns]\n",
       "completion_date                        datetime64[ns]\n",
       "creation_year                                   int64\n",
       "completion_time                       timedelta64[ns]\n",
       "dtype: object"
      ]
     },
     "execution_count": 10,
     "metadata": {},
     "output_type": "execute_result"
    }
   ],
   "source": [
    "data.dtypes"
   ]
  },
  {
   "cell_type": "code",
   "execution_count": 13,
   "id": "13153526-6b01-450e-8391-6704c4f4623e",
   "metadata": {},
   "outputs": [
    {
     "data": {
      "text/plain": [
       "<bound method NDFrame.head of        CREATION DATE           STATUS COMPLETION DATE SERVICE REQUEST NUMBER  \\\n",
       "0         03/11/2014  Completed - Dup      04/20/2015            14-00343939   \n",
       "1         08/05/2018             Open             NaN            18-02306504   \n",
       "2         07/18/2018             Open             NaN            18-02134465   \n",
       "3         11/26/2018       Open - Dup             NaN            18-03231860   \n",
       "4         04/26/2018        Completed      04/30/2018            18-01332777   \n",
       "...              ...              ...             ...                    ...   \n",
       "560473    01/16/2014        Completed      01/16/2014            14-00078504   \n",
       "560474    04/08/2011        Completed      04/08/2011            11-00692408   \n",
       "560475    02/13/2015        Completed      02/13/2015            15-00278010   \n",
       "560476    03/17/2014        Completed      04/17/2014            14-00378244   \n",
       "560477    07/05/2015        Completed      09/18/2015            15-03198265   \n",
       "\n",
       "       TYPE OF SERVICE REQUEST CURRENT ACTIVITY      MOST RECENT ACTION  \\\n",
       "0            Pothole in Street              NaN                     NaN   \n",
       "1            Pothole in Street              NaN                     NaN   \n",
       "2            Pothole in Street              NaN                     NaN   \n",
       "3            Pothole in Street              NaN                     NaN   \n",
       "4            Pothole in Street    Final Outcome         Pothole Patched   \n",
       "...                        ...              ...                     ...   \n",
       "560473      Pot Hole in Street    Final Outcome         Pothole Patched   \n",
       "560474      Pot Hole in Street    Dispatch Crew         Pothole Patched   \n",
       "560475       Pothole in Street    Final Outcome         Pothole Patched   \n",
       "560476       Pothole in Street    Final Outcome  Completed Upon Arrival   \n",
       "560477       Pothole in Street    Final Outcome         Pothole Patched   \n",
       "\n",
       "        NUMBER OF POTHOLES FILLED ON BLOCK                 STREET ADDRESS  \\\n",
       "0                                      NaN              400 S AUSTIN BLVD   \n",
       "1                                      NaN                 3921 W 77TH ST   \n",
       "2                                      NaN    6030 N PETERSON AV EDENS XR   \n",
       "3                                      NaN        5202 N LAKE SHORE DR SB   \n",
       "4                                     10.0     1500 N LUIS MUNOZ MARIN DR   \n",
       "...                                    ...                            ...   \n",
       "560473                                 8.0              600 W LAWRENCE DR   \n",
       "560474                                 4.0              300 N COLUMBUS DR   \n",
       "560475                                 2.0  1200 N SB OUTER LAKE SHORE DR   \n",
       "560476                                 0.0            6338 N LAKEWOOD AVE   \n",
       "560477                                 1.0              2527 W HADDON AVE   \n",
       "\n",
       "            ZIP  ...  Police District  Community Area   SSA   LATITUDE  \\\n",
       "0           NaN  ...              0.0             0.0   NaN  41.874650   \n",
       "1       60652.0  ...              8.0            70.0   NaN  41.752697   \n",
       "2       60646.0  ...             16.0            12.0   NaN        NaN   \n",
       "3           NaN  ...              NaN             NaN   NaN  41.976672   \n",
       "4       60622.0  ...             14.0            24.0   NaN        NaN   \n",
       "...         ...  ...              ...             ...   ...        ...   \n",
       "560473  60640.0  ...             20.0             3.0   NaN  41.969761   \n",
       "560474  60601.0  ...              1.0            32.0   NaN  41.886973   \n",
       "560475  60610.0  ...             18.0             8.0   NaN  41.904077   \n",
       "560476  60660.0  ...             24.0            77.0  26.0  41.997504   \n",
       "560477  60622.0  ...             12.0            24.0   NaN  41.901943   \n",
       "\n",
       "        LONGITUDE                             LOCATION  creation_date  \\\n",
       "0      -87.774615  (41.874649785127, -87.774614950226)     2014-03-11   \n",
       "1      -87.721288  (41.752696566048, -87.721287716596)     2018-08-05   \n",
       "2             NaN                                  NaN     2018-07-18   \n",
       "3      -87.650814  (41.976671733589, -87.650813515591)     2018-11-26   \n",
       "4             NaN                                  NaN     2018-04-26   \n",
       "...           ...                                  ...            ...   \n",
       "560473 -87.645873  (41.969760902199, -87.645873414024)     2014-01-16   \n",
       "560474 -87.620848  (41.886973200874, -87.620848332588)     2011-04-08   \n",
       "560475 -87.624804  (41.904076743028, -87.624803937073)     2015-02-13   \n",
       "560476 -87.663152  (41.997504454481, -87.663152299196)     2014-03-17   \n",
       "560477 -87.690582  (41.901943031763, -87.690581776699)     2015-07-05   \n",
       "\n",
       "        completion_date creation_year completion_time  \n",
       "0            2015-04-20          2014        405 days  \n",
       "1                   NaT          2018             NaT  \n",
       "2                   NaT          2018             NaT  \n",
       "3                   NaT          2018             NaT  \n",
       "4            2018-04-30          2018          4 days  \n",
       "...                 ...           ...             ...  \n",
       "560473       2014-01-16          2014          0 days  \n",
       "560474       2011-04-08          2011          0 days  \n",
       "560475       2015-02-13          2015          0 days  \n",
       "560476       2014-04-17          2014         31 days  \n",
       "560477       2015-09-18          2015         75 days  \n",
       "\n",
       "[560478 rows x 23 columns]>"
      ]
     },
     "execution_count": 13,
     "metadata": {},
     "output_type": "execute_result"
    }
   ],
   "source": [
    "data.head"
   ]
  },
  {
   "cell_type": "code",
   "execution_count": null,
   "id": "5b451378-afbe-4bcc-88ce-787567b23fae",
   "metadata": {},
   "outputs": [],
   "source": []
  }
 ],
 "metadata": {
  "environment": {
   "kernel": "python3",
   "name": "common-cpu.m90",
   "type": "gcloud",
   "uri": "gcr.io/deeplearning-platform-release/base-cpu:m90"
  },
  "kernelspec": {
   "display_name": "Python 3",
   "language": "python",
   "name": "python3"
  },
  "language_info": {
   "codemirror_mode": {
    "name": "ipython",
    "version": 3
   },
   "file_extension": ".py",
   "mimetype": "text/x-python",
   "name": "python",
   "nbconvert_exporter": "python",
   "pygments_lexer": "ipython3",
   "version": "3.7.12"
  }
 },
 "nbformat": 4,
 "nbformat_minor": 5
}
