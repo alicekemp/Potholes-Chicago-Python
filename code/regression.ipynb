{
 "cells": [
  {
   "cell_type": "code",
   "execution_count": 1,
   "id": "e5c5db1f-ef23-4d37-9a1f-1200fc4f9bf7",
   "metadata": {},
   "outputs": [],
   "source": [
    "import pandas as pd\n",
    "import numpy as np\n",
    "from sklearn import linear_model\n",
    "from sklearn.linear_model import LinearRegression\n",
    "import statsmodels.api as sm\n",
    "from scipy import stats"
   ]
  },
  {
   "cell_type": "code",
   "execution_count": 2,
   "id": "24988374-70fd-4ee6-8cae-a31667288c7a",
   "metadata": {
    "tags": []
   },
   "outputs": [],
   "source": [
    "from combine import recombine\n",
    "data = recombine(\"../data/potholes_1.csv\", \"../data/potholes_2.csv\")"
   ]
  },
  {
   "cell_type": "code",
   "execution_count": 3,
   "id": "5a9e0fbd-4b8a-4dbd-95da-3f8625048982",
   "metadata": {
    "tags": []
   },
   "outputs": [],
   "source": [
    "data[\"creation_date\"] = pd.to_datetime(data[\"CREATION DATE\"])\n",
    "data[\"completion_date\"] = pd.to_datetime(data[\"COMPLETION DATE\"])\n",
    "data[\"creation_year\"] = pd.DatetimeIndex(data[\"creation_date\"]).year\n",
    "\n",
    "# Convert strings to times\n",
    "data[\"creation_date\"] = pd.to_datetime(data[\"creation_date\"], format = \"%m/%d/%Y\")\n",
    "data[\"completion_date\"] = pd.to_datetime(data[\"completion_date\"], format = \"%m/%d/%Y\")\n",
    "\n",
    "# Create completion time variable\n",
    "data[\"completion_time\"] = data[\"completion_date\"] - data[\"creation_date\"]\n"
   ]
  },
  {
   "cell_type": "code",
   "execution_count": 4,
   "id": "d9322205-cb1f-41b1-9b14-3162026472ea",
   "metadata": {},
   "outputs": [],
   "source": [
    "data[\"completion_time\"] = data[\"completion_time\"].apply(lambda x: x.days)"
   ]
  },
  {
   "cell_type": "code",
   "execution_count": 5,
   "id": "9b5d39f2-f32c-442b-95f2-ef8a4359fcad",
   "metadata": {},
   "outputs": [
    {
     "data": {
      "text/plain": [
       "<bound method NDFrame.head of         creation_year  completion_time  community_area\n",
       "0                2014            405.0               0\n",
       "4                2018              4.0              24\n",
       "5                2014             78.0              30\n",
       "11               2014             19.0               0\n",
       "13               2016              3.0              24\n",
       "...               ...              ...             ...\n",
       "560473           2014              0.0               3\n",
       "560474           2011              0.0              32\n",
       "560475           2015              0.0               8\n",
       "560476           2014             31.0              77\n",
       "560477           2015             75.0              24\n",
       "\n",
       "[552844 rows x 3 columns]>"
      ]
     },
     "execution_count": 5,
     "metadata": {},
     "output_type": "execute_result"
    }
   ],
   "source": [
    "data.drop('CREATION DATE', axis=1, inplace=True)\n",
    "data.drop('COMPLETION DATE', axis=1, inplace=True)\n",
    "data.drop('STATUS', axis=1, inplace=True)\n",
    "data.drop('SERVICE REQUEST NUMBER', axis=1, inplace=True)\n",
    "data.drop('TYPE OF SERVICE REQUEST', axis=1, inplace=True)\n",
    "data.drop('CURRENT ACTIVITY', axis=1, inplace=True)\n",
    "data.drop('MOST RECENT ACTION', axis=1, inplace=True)\n",
    "data.drop('STREET ADDRESS', axis=1, inplace=True)\n",
    "data.drop('X COORDINATE', axis=1, inplace=True)\n",
    "data.drop('Y COORDINATE', axis=1, inplace=True)\n",
    "data.drop('SSA', axis=1, inplace=True)\n",
    "data.drop('LATITUDE', axis=1, inplace=True)\n",
    "data.drop('LONGITUDE', axis=1, inplace=True)\n",
    "data.drop('LOCATION', axis=1, inplace=True)\n",
    "data.drop('creation_date', axis=1, inplace=True)\n",
    "data.drop('completion_date', axis=1, inplace=True)\n",
    "data.drop('ZIP', axis=1, inplace=True)\n",
    "data.drop('Ward', axis=1, inplace=True)\n",
    "data.drop('Police District', axis=1, inplace=True)\n",
    "data.drop('NUMBER OF POTHOLES FILLED ON BLOCK', axis=1, inplace=True)\n",
    "#data.drop('creation_year', axis=1, inplace=True)\n",
    "data = data.dropna()\n",
    "data[\"community_area\"] = data[\"Community Area\"].astype(int)\n",
    "data.drop('Community Area', axis=1, inplace=True)\n",
    "data.head\n"
   ]
  },
  {
   "cell_type": "code",
   "execution_count": 6,
   "id": "468ba0da-cdec-4040-b6bd-9b4e9ac6c4ec",
   "metadata": {},
   "outputs": [
    {
     "data": {
      "text/plain": [
       "<bound method NDFrame.head of                 completion_time\n",
       "community_area                 \n",
       "1                     38.478614\n",
       "2                     44.989105\n",
       "3                     36.077008\n",
       "4                     43.303720\n",
       "5                     36.129124\n",
       "...                         ...\n",
       "73                    21.474498\n",
       "74                    23.535413\n",
       "75                    20.066487\n",
       "76                    38.686128\n",
       "77                    44.075829\n",
       "\n",
       "[77 rows x 1 columns]>"
      ]
     },
     "execution_count": 6,
     "metadata": {},
     "output_type": "execute_result"
    }
   ],
   "source": [
    "#data1 = data.groupby([\"community_area\"])[\"creation_year\"].count()\n",
    "#data1 = data1.drop(labels=0, axis=0)\n",
    "#data1.head\n",
    "\n",
    "\n",
    "data2 = data.groupby([\"community_area\"]).agg({'completion_time': 'mean'})\n",
    "data2 = data2.drop(labels=0, axis=0)\n",
    "data2.head"
   ]
  },
  {
   "cell_type": "code",
   "execution_count": 7,
   "id": "fe07b9e8-67b4-48e6-9ba1-ae9448f73923",
   "metadata": {},
   "outputs": [
    {
     "data": {
      "text/plain": [
       "<bound method NDFrame.head of                   ID\n",
       "community_area      \n",
       "1               3503\n",
       "2               2347\n",
       "3               3474\n",
       "4               1343\n",
       "5                746\n",
       "...              ...\n",
       "73              3104\n",
       "74               374\n",
       "75              1994\n",
       "76              2198\n",
       "77              1961\n",
       "\n",
       "[77 rows x 1 columns]>"
      ]
     },
     "execution_count": 7,
     "metadata": {},
     "output_type": "execute_result"
    }
   ],
   "source": [
    "crime = pd.read_csv(\"../data/Crimes_data.csv\")\n",
    "\n",
    "crime[\"community_area\"] = crime[\"Community Area\"]\n",
    "crimes = crime[['community_area', \"ID\"]]\n",
    "crimes.dropna()\n",
    "\n",
    "crimec = crimes.groupby([\"community_area\"]).count()\n",
    "crimec.head\n"
   ]
  },
  {
   "cell_type": "code",
   "execution_count": 8,
   "id": "4c2c05c3-cff0-497d-a5b5-f09623f988e1",
   "metadata": {},
   "outputs": [
    {
     "data": {
      "text/plain": [
       "<bound method NDFrame.head of     community_area  income\n",
       "0              1.0   23939\n",
       "1              2.0   23040\n",
       "2              3.0   35787\n",
       "3              4.0   37524\n",
       "4              5.0   57123\n",
       "..             ...     ...\n",
       "72            73.0   19713\n",
       "73            74.0   34381\n",
       "74            75.0   27149\n",
       "75            76.0   25828\n",
       "76            77.0   33385\n",
       "\n",
       "[77 rows x 2 columns]>"
      ]
     },
     "execution_count": 8,
     "metadata": {},
     "output_type": "execute_result"
    }
   ],
   "source": [
    "income = pd.read_csv(\"../data/chicago_census_data.csv\")\n",
    "\n",
    "income[\"income\"] = income[\"PER CAPITA INCOME \"]\n",
    "income[\"community_area\"] = income[\"Community Area Number\"]\n",
    "incomes = income[['community_area', \"income\"]]\n",
    "incomes = incomes.drop(labels=77, axis=0)\n",
    "incomes.head"
   ]
  },
  {
   "cell_type": "code",
   "execution_count": null,
   "id": "bb3f8a68-3239-4d9a-b49c-2e93c1aa405c",
   "metadata": {},
   "outputs": [],
   "source": []
  }
 ],
 "metadata": {
  "environment": {
   "kernel": "python3",
   "name": "common-cpu.m90",
   "type": "gcloud",
   "uri": "gcr.io/deeplearning-platform-release/base-cpu:m90"
  },
  "kernelspec": {
   "display_name": "Python 3",
   "language": "python",
   "name": "python3"
  },
  "language_info": {
   "codemirror_mode": {
    "name": "ipython",
    "version": 3
   },
   "file_extension": ".py",
   "mimetype": "text/x-python",
   "name": "python",
   "nbconvert_exporter": "python",
   "pygments_lexer": "ipython3",
   "version": "3.7.12"
  }
 },
 "nbformat": 4,
 "nbformat_minor": 5
}
