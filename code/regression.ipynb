{
 "cells": [
  {
   "cell_type": "code",
   "execution_count": 1,
   "id": "e5c5db1f-ef23-4d37-9a1f-1200fc4f9bf7",
   "metadata": {},
   "outputs": [],
   "source": [
    "import pandas as pd\n",
    "import numpy as np\n",
    "from sklearn import linear_model\n",
    "from sklearn.linear_model import LinearRegression\n",
    "import statsmodels.api as sm\n",
    "from scipy import stats"
   ]
  },
  {
   "cell_type": "code",
   "execution_count": 2,
   "id": "24988374-70fd-4ee6-8cae-a31667288c7a",
   "metadata": {
    "tags": []
   },
   "outputs": [],
   "source": [
    "from combine import recombine\n",
    "data = recombine(\"../data/potholes_1.csv\", \"../data/potholes_2.csv\")"
   ]
  },
  {
   "cell_type": "code",
   "execution_count": 3,
   "id": "5a9e0fbd-4b8a-4dbd-95da-3f8625048982",
   "metadata": {
    "tags": []
   },
   "outputs": [],
   "source": [
    "data[\"creation_date\"] = pd.to_datetime(data[\"CREATION DATE\"])\n",
    "data[\"completion_date\"] = pd.to_datetime(data[\"COMPLETION DATE\"])\n",
    "data[\"creation_year\"] = pd.DatetimeIndex(data[\"creation_date\"]).year\n",
    "\n",
    "# Convert strings to times\n",
    "data[\"creation_date\"] = pd.to_datetime(data[\"creation_date\"], format = \"%m/%d/%Y\")\n",
    "data[\"completion_date\"] = pd.to_datetime(data[\"completion_date\"], format = \"%m/%d/%Y\")\n",
    "\n",
    "# Create completion time variable\n",
    "data[\"completion_time\"] = data[\"completion_date\"] - data[\"creation_date\"]\n"
   ]
  },
  {
   "cell_type": "code",
   "execution_count": 4,
   "id": "d9322205-cb1f-41b1-9b14-3162026472ea",
   "metadata": {},
   "outputs": [],
   "source": [
    "data[\"completion_time\"] = data[\"completion_time\"].apply(lambda x: x.days)"
   ]
  },
  {
   "cell_type": "code",
   "execution_count": 5,
   "id": "9b5d39f2-f32c-442b-95f2-ef8a4359fcad",
   "metadata": {},
   "outputs": [
    {
     "data": {
      "text/plain": [
       "<bound method NDFrame.head of         creation_year  completion_time  community_area\n",
       "0                2014            405.0               0\n",
       "4                2018              4.0              24\n",
       "5                2014             78.0              30\n",
       "11               2014             19.0               0\n",
       "13               2016              3.0              24\n",
       "...               ...              ...             ...\n",
       "560473           2014              0.0               3\n",
       "560474           2011              0.0              32\n",
       "560475           2015              0.0               8\n",
       "560476           2014             31.0              77\n",
       "560477           2015             75.0              24\n",
       "\n",
       "[552844 rows x 3 columns]>"
      ]
     },
     "execution_count": 5,
     "metadata": {},
     "output_type": "execute_result"
    }
   ],
   "source": [
    "data.drop('CREATION DATE', axis=1, inplace=True)\n",
    "data.drop('COMPLETION DATE', axis=1, inplace=True)\n",
    "data.drop('STATUS', axis=1, inplace=True)\n",
    "data.drop('SERVICE REQUEST NUMBER', axis=1, inplace=True)\n",
    "data.drop('TYPE OF SERVICE REQUEST', axis=1, inplace=True)\n",
    "data.drop('CURRENT ACTIVITY', axis=1, inplace=True)\n",
    "data.drop('MOST RECENT ACTION', axis=1, inplace=True)\n",
    "data.drop('STREET ADDRESS', axis=1, inplace=True)\n",
    "data.drop('X COORDINATE', axis=1, inplace=True)\n",
    "data.drop('Y COORDINATE', axis=1, inplace=True)\n",
    "data.drop('SSA', axis=1, inplace=True)\n",
    "data.drop('LATITUDE', axis=1, inplace=True)\n",
    "data.drop('LONGITUDE', axis=1, inplace=True)\n",
    "data.drop('LOCATION', axis=1, inplace=True)\n",
    "data.drop('creation_date', axis=1, inplace=True)\n",
    "data.drop('completion_date', axis=1, inplace=True)\n",
    "data.drop('ZIP', axis=1, inplace=True)\n",
    "data.drop('Ward', axis=1, inplace=True)\n",
    "data.drop('Police District', axis=1, inplace=True)\n",
    "data.drop('NUMBER OF POTHOLES FILLED ON BLOCK', axis=1, inplace=True)\n",
    "#data.drop('creation_year', axis=1, inplace=True)\n",
    "data = data.dropna()\n",
    "data[\"community_area\"] = data[\"Community Area\"].astype(int)\n",
    "data.drop('Community Area', axis=1, inplace=True)\n",
    "data.head\n"
   ]
  },
  {
   "cell_type": "code",
   "execution_count": 14,
   "id": "468ba0da-cdec-4040-b6bd-9b4e9ac6c4ec",
   "metadata": {},
   "outputs": [
    {
     "data": {
      "text/plain": [
       "<bound method NDFrame.head of 1      9960\n",
       "2     15420\n",
       "3      5415\n",
       "4      7069\n",
       "5      6335\n",
       "      ...  \n",
       "73     7627\n",
       "74     5097\n",
       "75     6693\n",
       "76     2278\n",
       "77     8928\n",
       "Name: count, Length: 77, dtype: int64>"
      ]
     },
     "execution_count": 14,
     "metadata": {},
     "output_type": "execute_result"
    }
   ],
   "source": [
    "#data1 = data.groupby([\"community_area\"])[\"creation_year\"].count()\n",
    "#data1 = data1.drop(labels=0, axis=0)\n",
    "\n",
    "#Y1 = data1[\"creation_year\"]\n",
    "#Y1.head\n",
    "\n",
    "data1 = data.groupby([\"community_area\"])[\"creation_year\"].count().reset_index(name=\"count\")\n",
    "data1 = data1.drop(labels=0, axis=0)\n",
    "data1.head\n",
    "Y1 = data1[\"count\"]\n",
    "Y1.reset_index(drop=True)\n",
    "Y1.head\n",
    "#data2 = data.groupby([\"community_area\"]).agg({'completion_time': 'mean'})\n",
    "#data2 = data2.drop(labels=0, axis=0)\n"
   ]
  },
  {
   "cell_type": "code",
   "execution_count": 12,
   "id": "fe07b9e8-67b4-48e6-9ba1-ae9448f73923",
   "metadata": {},
   "outputs": [
    {
     "data": {
      "text/plain": [
       "<bound method NDFrame.head of                   ID\n",
       "community_area      \n",
       "1               3503\n",
       "2               2347\n",
       "3               3474\n",
       "4               1343\n",
       "5                746\n",
       "...              ...\n",
       "73              3104\n",
       "74               374\n",
       "75              1994\n",
       "76              2198\n",
       "77              1961\n",
       "\n",
       "[77 rows x 1 columns]>"
      ]
     },
     "execution_count": 12,
     "metadata": {},
     "output_type": "execute_result"
    }
   ],
   "source": [
    "crime = pd.read_csv(\"../data/Crimes_data.csv\")\n",
    "\n",
    "crime[\"community_area\"] = crime[\"Community Area\"]\n",
    "crimes = crime[['community_area', \"ID\"]]\n",
    "crimes.dropna()\n",
    "\n",
    "crimec = crimes.groupby([\"community_area\"]).count()\n",
    "crimec.head\n"
   ]
  },
  {
   "cell_type": "code",
   "execution_count": 8,
   "id": "4c2c05c3-cff0-497d-a5b5-f09623f988e1",
   "metadata": {},
   "outputs": [
    {
     "data": {
      "text/plain": [
       "<bound method NDFrame.head of     community_area  income\n",
       "0                1   23939\n",
       "1                2   23040\n",
       "2                3   35787\n",
       "3                4   37524\n",
       "4                5   57123\n",
       "..             ...     ...\n",
       "72              73   19713\n",
       "73              74   34381\n",
       "74              75   27149\n",
       "75              76   25828\n",
       "76              77   33385\n",
       "\n",
       "[77 rows x 2 columns]>"
      ]
     },
     "execution_count": 8,
     "metadata": {},
     "output_type": "execute_result"
    }
   ],
   "source": [
    "income = pd.read_csv(\"../data/chicago_census_data.csv\")\n",
    "\n",
    "income = income.drop(labels=77, axis=0)\n",
    "income[\"income\"] = income[\"PER CAPITA INCOME \"]\n",
    "income[\"community_area\"] = income[\"Community Area Number\"].astype(int)\n",
    "incomes = income[['community_area', \"income\"]]\n",
    "\n",
    "incomes.head"
   ]
  },
  {
   "cell_type": "code",
   "execution_count": 15,
   "id": "bb3f8a68-3239-4d9a-b49c-2e93c1aa405c",
   "metadata": {},
   "outputs": [
    {
     "data": {
      "text/plain": [
       "<bound method NDFrame.head of     income    ID\n",
       "1    23939  3503\n",
       "2    23040  2347\n",
       "3    35787  3474\n",
       "4    37524  1343\n",
       "5    57123   746\n",
       "..     ...   ...\n",
       "73   19713  3104\n",
       "74   34381   374\n",
       "75   27149  1994\n",
       "76   25828  2198\n",
       "77   33385  1961\n",
       "\n",
       "[77 rows x 2 columns]>"
      ]
     },
     "execution_count": 15,
     "metadata": {},
     "output_type": "execute_result"
    }
   ],
   "source": [
    "X = pd.merge(incomes, crimec, on = 'community_area')\n",
    "X.drop('community_area', axis=1, inplace=True)\n",
    "X.index += 1\n",
    "X.head"
   ]
  },
  {
   "cell_type": "code",
   "execution_count": 19,
   "id": "16e9f3d8-dc99-4c94-b10b-e1fe14c7def3",
   "metadata": {
    "tags": []
   },
   "outputs": [
    {
     "data": {
      "text/html": [
       "<table class=\"simpletable\">\n",
       "<caption>OLS Regression Results</caption>\n",
       "<tr>\n",
       "  <th>Dep. Variable:</th>          <td>count</td>      <th>  R-squared:         </th> <td>   0.255</td>\n",
       "</tr>\n",
       "<tr>\n",
       "  <th>Model:</th>                   <td>OLS</td>       <th>  Adj. R-squared:    </th> <td>   0.235</td>\n",
       "</tr>\n",
       "<tr>\n",
       "  <th>Method:</th>             <td>Least Squares</td>  <th>  F-statistic:       </th> <td>   12.69</td>\n",
       "</tr>\n",
       "<tr>\n",
       "  <th>Date:</th>             <td>Mon, 21 Mar 2022</td> <th>  Prob (F-statistic):</th> <td>1.83e-05</td>\n",
       "</tr>\n",
       "<tr>\n",
       "  <th>Time:</th>                 <td>01:46:49</td>     <th>  Log-Likelihood:    </th> <td> -738.35</td>\n",
       "</tr>\n",
       "<tr>\n",
       "  <th>No. Observations:</th>      <td>    77</td>      <th>  AIC:               </th> <td>   1483.</td>\n",
       "</tr>\n",
       "<tr>\n",
       "  <th>Df Residuals:</th>          <td>    74</td>      <th>  BIC:               </th> <td>   1490.</td>\n",
       "</tr>\n",
       "<tr>\n",
       "  <th>Df Model:</th>              <td>     2</td>      <th>                     </th>     <td> </td>   \n",
       "</tr>\n",
       "<tr>\n",
       "  <th>Covariance Type:</th>      <td>nonrobust</td>    <th>                     </th>     <td> </td>   \n",
       "</tr>\n",
       "</table>\n",
       "<table class=\"simpletable\">\n",
       "<tr>\n",
       "     <td></td>       <th>coef</th>     <th>std err</th>      <th>t</th>      <th>P>|t|</th>  <th>[0.025</th>    <th>0.975]</th>  \n",
       "</tr>\n",
       "<tr>\n",
       "  <th>const</th>  <td> 3355.4005</td> <td>  923.551</td> <td>    3.633</td> <td> 0.001</td> <td> 1515.186</td> <td> 5195.615</td>\n",
       "</tr>\n",
       "<tr>\n",
       "  <th>income</th> <td>    0.0868</td> <td>    0.027</td> <td>    3.188</td> <td> 0.002</td> <td>    0.033</td> <td>    0.141</td>\n",
       "</tr>\n",
       "<tr>\n",
       "  <th>ID</th>     <td>    0.4341</td> <td>    0.102</td> <td>    4.244</td> <td> 0.000</td> <td>    0.230</td> <td>    0.638</td>\n",
       "</tr>\n",
       "</table>\n",
       "<table class=\"simpletable\">\n",
       "<tr>\n",
       "  <th>Omnibus:</th>       <td> 4.793</td> <th>  Durbin-Watson:     </th> <td>   1.674</td>\n",
       "</tr>\n",
       "<tr>\n",
       "  <th>Prob(Omnibus):</th> <td> 0.091</td> <th>  Jarque-Bera (JB):  </th> <td>   4.681</td>\n",
       "</tr>\n",
       "<tr>\n",
       "  <th>Skew:</th>          <td> 0.600</td> <th>  Prob(JB):          </th> <td>  0.0963</td>\n",
       "</tr>\n",
       "<tr>\n",
       "  <th>Kurtosis:</th>      <td> 2.868</td> <th>  Cond. No.          </th> <td>6.72e+04</td>\n",
       "</tr>\n",
       "</table><br/><br/>Notes:<br/>[1] Standard Errors assume that the covariance matrix of the errors is correctly specified.<br/>[2] The condition number is large, 6.72e+04. This might indicate that there are<br/>strong multicollinearity or other numerical problems."
      ],
      "text/plain": [
       "<class 'statsmodels.iolib.summary.Summary'>\n",
       "\"\"\"\n",
       "                            OLS Regression Results                            \n",
       "==============================================================================\n",
       "Dep. Variable:                  count   R-squared:                       0.255\n",
       "Model:                            OLS   Adj. R-squared:                  0.235\n",
       "Method:                 Least Squares   F-statistic:                     12.69\n",
       "Date:                Mon, 21 Mar 2022   Prob (F-statistic):           1.83e-05\n",
       "Time:                        01:46:49   Log-Likelihood:                -738.35\n",
       "No. Observations:                  77   AIC:                             1483.\n",
       "Df Residuals:                      74   BIC:                             1490.\n",
       "Df Model:                           2                                         \n",
       "Covariance Type:            nonrobust                                         \n",
       "==============================================================================\n",
       "                 coef    std err          t      P>|t|      [0.025      0.975]\n",
       "------------------------------------------------------------------------------\n",
       "const       3355.4005    923.551      3.633      0.001    1515.186    5195.615\n",
       "income         0.0868      0.027      3.188      0.002       0.033       0.141\n",
       "ID             0.4341      0.102      4.244      0.000       0.230       0.638\n",
       "==============================================================================\n",
       "Omnibus:                        4.793   Durbin-Watson:                   1.674\n",
       "Prob(Omnibus):                  0.091   Jarque-Bera (JB):                4.681\n",
       "Skew:                           0.600   Prob(JB):                       0.0963\n",
       "Kurtosis:                       2.868   Cond. No.                     6.72e+04\n",
       "==============================================================================\n",
       "\n",
       "Notes:\n",
       "[1] Standard Errors assume that the covariance matrix of the errors is correctly specified.\n",
       "[2] The condition number is large, 6.72e+04. This might indicate that there are\n",
       "strong multicollinearity or other numerical problems.\n",
       "\"\"\""
      ]
     },
     "execution_count": 19,
     "metadata": {},
     "output_type": "execute_result"
    }
   ],
   "source": [
    "X2 = sm.add_constant(X)\n",
    "est = sm.OLS(Y1, X2)\n",
    "est2 = est.fit()\n",
    "est2.summary()"
   ]
  },
  {
   "cell_type": "code",
   "execution_count": null,
   "id": "43de150f-8b64-4304-a391-178463b570db",
   "metadata": {},
   "outputs": [],
   "source": []
  }
 ],
 "metadata": {
  "environment": {
   "kernel": "python3",
   "name": "common-cpu.m90",
   "type": "gcloud",
   "uri": "gcr.io/deeplearning-platform-release/base-cpu:m90"
  },
  "kernelspec": {
   "display_name": "Python 3",
   "language": "python",
   "name": "python3"
  },
  "language_info": {
   "codemirror_mode": {
    "name": "ipython",
    "version": 3
   },
   "file_extension": ".py",
   "mimetype": "text/x-python",
   "name": "python",
   "nbconvert_exporter": "python",
   "pygments_lexer": "ipython3",
   "version": "3.7.12"
  }
 },
 "nbformat": 4,
 "nbformat_minor": 5
}
