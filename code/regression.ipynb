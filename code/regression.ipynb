{
 "cells": [
  {
   "cell_type": "code",
   "execution_count": 1,
   "id": "e5c5db1f-ef23-4d37-9a1f-1200fc4f9bf7",
   "metadata": {},
   "outputs": [],
   "source": [
    "#setup\n",
    "\n",
    "import pandas as pd\n",
    "import numpy as np\n",
    "from sklearn import linear_model\n",
    "from sklearn.linear_model import LinearRegression\n",
    "import statsmodels.api as sm\n",
    "from scipy import stats"
   ]
  },
  {
   "cell_type": "code",
   "execution_count": null,
   "id": "24988374-70fd-4ee6-8cae-a31667288c7a",
   "metadata": {
    "tags": []
   },
   "outputs": [],
   "source": [
    "#recombine data\n",
    "\n",
    "from combine import recombine\n",
    "data = recombine(\"../data/potholes_1.csv\", \"../data/potholes_2.csv\")"
   ]
  },
  {
   "cell_type": "code",
   "execution_count": null,
   "id": "5a9e0fbd-4b8a-4dbd-95da-3f8625048982",
   "metadata": {
    "tags": []
   },
   "outputs": [],
   "source": [
    "#extract days from date data by converting date to time, creating completion time variable, and turning to an int\n",
    "\n",
    "data[\"creation_date\"] = pd.to_datetime(data[\"CREATION DATE\"])\n",
    "data[\"completion_date\"] = pd.to_datetime(data[\"COMPLETION DATE\"])\n",
    "data[\"creation_year\"] = pd.DatetimeIndex(data[\"creation_date\"]).year\n",
    "data[\"creation_date\"] = pd.to_datetime(data[\"creation_date\"], format = \"%m/%d/%Y\")\n",
    "data[\"completion_date\"] = pd.to_datetime(data[\"completion_date\"], format = \"%m/%d/%Y\")\n",
    "data[\"completion_time\"] = data[\"completion_date\"] - data[\"creation_date\"]\n",
    "data[\"completion_time\"] = data[\"completion_time\"].apply(lambda x: x.days)"
   ]
  },
  {
   "cell_type": "code",
   "execution_count": null,
   "id": "9b5d39f2-f32c-442b-95f2-ef8a4359fcad",
   "metadata": {},
   "outputs": [],
   "source": [
    "#inefficiently clean data\n",
    "\n",
    "data.drop('CREATION DATE', axis=1, inplace=True)\n",
    "data.drop('COMPLETION DATE', axis=1, inplace=True)\n",
    "data.drop('STATUS', axis=1, inplace=True)\n",
    "data.drop('SERVICE REQUEST NUMBER', axis=1, inplace=True)\n",
    "data.drop('TYPE OF SERVICE REQUEST', axis=1, inplace=True)\n",
    "data.drop('CURRENT ACTIVITY', axis=1, inplace=True)\n",
    "data.drop('MOST RECENT ACTION', axis=1, inplace=True)\n",
    "data.drop('STREET ADDRESS', axis=1, inplace=True)\n",
    "data.drop('X COORDINATE', axis=1, inplace=True)\n",
    "data.drop('Y COORDINATE', axis=1, inplace=True)\n",
    "data.drop('SSA', axis=1, inplace=True)\n",
    "data.drop('LATITUDE', axis=1, inplace=True)\n",
    "data.drop('LONGITUDE', axis=1, inplace=True)\n",
    "data.drop('LOCATION', axis=1, inplace=True)\n",
    "data.drop('creation_date', axis=1, inplace=True)\n",
    "data.drop('completion_date', axis=1, inplace=True)\n",
    "data.drop('ZIP', axis=1, inplace=True)\n",
    "data.drop('Ward', axis=1, inplace=True)\n",
    "data.drop('Police District', axis=1, inplace=True)\n",
    "data.drop('NUMBER OF POTHOLES FILLED ON BLOCK', axis=1, inplace=True)\n",
    "data = data.dropna()\n",
    "data[\"community_area\"] = data[\"Community Area\"].astype(int)\n",
    "data.drop('Community Area', axis=1, inplace=True)"
   ]
  },
  {
   "cell_type": "code",
   "execution_count": null,
   "id": "151d764f-b740-4327-8362-d29bd03bcb60",
   "metadata": {},
   "outputs": [],
   "source": [
    "#make a list of total pothole count per community area\n",
    "\n",
    "potc = data.groupby([\"community_area\"])[\"creation_year\"].count().reset_index(name=\"count\")\n",
    "potc = potc.drop(labels=0, axis=0)\n",
    "Y1 = potc[\"count\"]\n",
    "Y1.reset_index(drop=True)"
   ]
  },
  {
   "cell_type": "code",
   "execution_count": null,
   "id": "b80e4ff0-850a-4342-8b91-b01f1b01541b",
   "metadata": {},
   "outputs": [],
   "source": [
    "#make a list of average service request completion time by community area\n",
    "\n",
    "compt = data.groupby([\"community_area\"]).agg({'completion_time': 'mean'})\n",
    "compt = compt.drop(labels=0, axis=0)\n",
    "Y2 = compt"
   ]
  },
  {
   "cell_type": "code",
   "execution_count": null,
   "id": "fe07b9e8-67b4-48e6-9ba1-ae9448f73923",
   "metadata": {},
   "outputs": [],
   "source": [
    "#import crime data and make a list of average yearly crime by community area\n",
    "\n",
    "crimed = pd.read_csv(\"../data/Crimes_data.csv\")\n",
    "crimed[\"community_area\"] = crimed[\"Community Area\"]\n",
    "crimes = crimed[['community_area', \"ID\", \"Year\"]]\n",
    "crimes.dropna()\n",
    "crimet = crimes.groupby([\"community_area\", \"Year\"]).count()\n",
    "#crimet.drop('Year', axis=1, inplace=True)\n",
    "type(crimet)"
   ]
  },
  {
   "cell_type": "code",
   "execution_count": null,
   "id": "4c2c05c3-cff0-497d-a5b5-f09623f988e1",
   "metadata": {},
   "outputs": [],
   "source": [
    "#import per capita yearly income from census data by community area\n",
    "\n",
    "incomes = pd.read_csv(\"../data/chicago_census_data.csv\")\n",
    "incomes = incomes.drop(labels=77, axis=0)\n",
    "incomes[\"income\"] = incomes[\"PER CAPITA INCOME \"]\n",
    "incomes[\"community_area\"] = incomes[\"Community Area Number\"].astype(int)\n",
    "income = incomes[['community_area', \"income\"]]"
   ]
  },
  {
   "cell_type": "code",
   "execution_count": null,
   "id": "bb3f8a68-3239-4d9a-b49c-2e93c1aa405c",
   "metadata": {},
   "outputs": [],
   "source": [
    "X = pd.merge(income, crimec, on = 'community_area')\n",
    "X.drop('community_area', axis=1, inplace=True)\n",
    "X.index += 1\n",
    "X.head"
   ]
  },
  {
   "cell_type": "code",
   "execution_count": null,
   "id": "16e9f3d8-dc99-4c94-b10b-e1fe14c7def3",
   "metadata": {
    "tags": []
   },
   "outputs": [],
   "source": [
    "X2 = sm.add_constant(X)\n",
    "est = sm.OLS(Y1, X2)\n",
    "est2 = est.fit()\n",
    "est2.summary()"
   ]
  },
  {
   "cell_type": "code",
   "execution_count": null,
   "id": "43de150f-8b64-4304-a391-178463b570db",
   "metadata": {},
   "outputs": [],
   "source": [
    "esty = sm.OLS(data2, X2)\n",
    "est3 = esty.fit()\n",
    "est3.summary()"
   ]
  }
 ],
 "metadata": {
  "environment": {
   "kernel": "python3",
   "name": "common-cpu.m90",
   "type": "gcloud",
   "uri": "gcr.io/deeplearning-platform-release/base-cpu:m90"
  },
  "kernelspec": {
   "display_name": "Python 3",
   "language": "python",
   "name": "python3"
  },
  "language_info": {
   "codemirror_mode": {
    "name": "ipython",
    "version": 3
   },
   "file_extension": ".py",
   "mimetype": "text/x-python",
   "name": "python",
   "nbconvert_exporter": "python",
   "pygments_lexer": "ipython3",
   "version": "3.7.12"
  }
 },
 "nbformat": 4,
 "nbformat_minor": 5
}
