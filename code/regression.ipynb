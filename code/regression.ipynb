{
 "cells": [
  {
   "cell_type": "code",
   "execution_count": 1,
   "id": "e5c5db1f-ef23-4d37-9a1f-1200fc4f9bf7",
   "metadata": {},
   "outputs": [],
   "source": [
    "#setup\n",
    "\n",
    "import pandas as pd\n",
    "import numpy as np\n",
    "from sklearn import linear_model\n",
    "from sklearn.linear_model import LinearRegression\n",
    "import statsmodels.api as sm\n",
    "from scipy import stats"
   ]
  },
  {
   "cell_type": "code",
   "execution_count": 2,
   "id": "24988374-70fd-4ee6-8cae-a31667288c7a",
   "metadata": {
    "tags": []
   },
   "outputs": [],
   "source": [
    "#recombine data\n",
    "\n",
    "from combine import recombine\n",
    "data = recombine(\"../data/potholes_1.csv\", \"../data/potholes_2.csv\")"
   ]
  },
  {
   "cell_type": "code",
   "execution_count": 3,
   "id": "5a9e0fbd-4b8a-4dbd-95da-3f8625048982",
   "metadata": {
    "tags": []
   },
   "outputs": [],
   "source": [
    "#extract days from date data by converting date to time, creating completion time variable, and turning to an int\n",
    "\n",
    "data[\"creation_date\"] = pd.to_datetime(data[\"CREATION DATE\"])\n",
    "data[\"completion_date\"] = pd.to_datetime(data[\"COMPLETION DATE\"])\n",
    "data[\"creation_year\"] = pd.DatetimeIndex(data[\"creation_date\"]).year\n",
    "data[\"creation_date\"] = pd.to_datetime(data[\"creation_date\"], format = \"%m/%d/%Y\")\n",
    "data[\"completion_date\"] = pd.to_datetime(data[\"completion_date\"], format = \"%m/%d/%Y\")\n",
    "data[\"completion_time\"] = data[\"completion_date\"] - data[\"creation_date\"]\n",
    "data[\"completion_time\"] = data[\"completion_time\"].apply(lambda x: x.days)"
   ]
  },
  {
   "cell_type": "code",
   "execution_count": 4,
   "id": "9b5d39f2-f32c-442b-95f2-ef8a4359fcad",
   "metadata": {},
   "outputs": [],
   "source": [
    "#inefficiently clean data\n",
    "\n",
    "data.drop('CREATION DATE', axis=1, inplace=True)\n",
    "data.drop('COMPLETION DATE', axis=1, inplace=True)\n",
    "data.drop('STATUS', axis=1, inplace=True)\n",
    "data.drop('SERVICE REQUEST NUMBER', axis=1, inplace=True)\n",
    "data.drop('TYPE OF SERVICE REQUEST', axis=1, inplace=True)\n",
    "data.drop('CURRENT ACTIVITY', axis=1, inplace=True)\n",
    "data.drop('MOST RECENT ACTION', axis=1, inplace=True)\n",
    "data.drop('STREET ADDRESS', axis=1, inplace=True)\n",
    "data.drop('X COORDINATE', axis=1, inplace=True)\n",
    "data.drop('Y COORDINATE', axis=1, inplace=True)\n",
    "data.drop('SSA', axis=1, inplace=True)\n",
    "data.drop('LATITUDE', axis=1, inplace=True)\n",
    "data.drop('LONGITUDE', axis=1, inplace=True)\n",
    "data.drop('LOCATION', axis=1, inplace=True)\n",
    "data.drop('creation_date', axis=1, inplace=True)\n",
    "data.drop('completion_date', axis=1, inplace=True)\n",
    "data.drop('ZIP', axis=1, inplace=True)\n",
    "data.drop('Ward', axis=1, inplace=True)\n",
    "data.drop('Police District', axis=1, inplace=True)\n",
    "data.drop('NUMBER OF POTHOLES FILLED ON BLOCK', axis=1, inplace=True)\n",
    "data = data.dropna()\n",
    "data[\"community_area\"] = data[\"Community Area\"].astype(int)\n",
    "data.drop('Community Area', axis=1, inplace=True)"
   ]
  },
  {
   "cell_type": "code",
   "execution_count": 5,
   "id": "151d764f-b740-4327-8362-d29bd03bcb60",
   "metadata": {},
   "outputs": [
    {
     "data": {
      "text/plain": [
       "0      9960\n",
       "1     15420\n",
       "2      5415\n",
       "3      7069\n",
       "4      6335\n",
       "      ...  \n",
       "72     7627\n",
       "73     5097\n",
       "74     6693\n",
       "75     2278\n",
       "76     8928\n",
       "Name: count, Length: 77, dtype: int64"
      ]
     },
     "execution_count": 5,
     "metadata": {},
     "output_type": "execute_result"
    }
   ],
   "source": [
    "#make a list of total pothole count per community area\n",
    "\n",
    "potc = data.groupby([\"community_area\"])[\"creation_year\"].count().reset_index(name=\"count\")\n",
    "potc = potc.drop(labels=0, axis=0)\n",
    "Ya = potc[\"count\"]\n",
    "Ya.reset_index(drop=True)"
   ]
  },
  {
   "cell_type": "code",
   "execution_count": 6,
   "id": "b80e4ff0-850a-4342-8b91-b01f1b01541b",
   "metadata": {},
   "outputs": [],
   "source": [
    "#make a list of average service request completion time by community area\n",
    "\n",
    "compt = data.groupby([\"community_area\"]).agg({'completion_time': 'mean'})\n",
    "compt = compt.drop(labels=0, axis=0)\n",
    "Yb = compt"
   ]
  },
  {
   "cell_type": "code",
   "execution_count": 7,
   "id": "fe07b9e8-67b4-48e6-9ba1-ae9448f73923",
   "metadata": {},
   "outputs": [],
   "source": [
    "#import crime data and make a list of average yearly crime by community area\n",
    "\n",
    "crimed = pd.read_csv(\"../data/Crimes_data.csv\")\n",
    "crimed[\"community_area\"] = crimed[\"Community Area\"]\n",
    "crimed[\"crime_rate\"] = crimed[\"ID\"]\n",
    "crimes = crimed[['community_area', \"crime_rate\"]]\n",
    "crimes.dropna()\n",
    "crime = crimes.groupby([\"community_area\"]).count()\n",
    "crime[\"crime_rate\"] = crime[\"crime_rate\"] / 5"
   ]
  },
  {
   "cell_type": "code",
   "execution_count": 8,
   "id": "370219c3-3737-4678-b5b3-5faf2c07b277",
   "metadata": {},
   "outputs": [],
   "source": [
    "#import per capita yearly income from census data by community area\n",
    "\n",
    "incomes = pd.read_csv(\"../data/chicago_census_data.csv\")\n",
    "incomes = incomes.drop(labels=77, axis=0)\n",
    "incomes[\"avg_income\"] = incomes[\"PER CAPITA INCOME \"]\n",
    "incomes[\"below_poverty\"] = incomes[\"PERCENT HOUSEHOLDS BELOW POVERTY\"]\n",
    "incomes[\"community_area\"] = incomes[\"Community Area Number\"].astype(int)\n",
    "income = incomes[['community_area', \"avg_income\", \"below_poverty\"]]"
   ]
  },
  {
   "cell_type": "code",
   "execution_count": 9,
   "id": "7b31b23e-321a-4db7-859d-34c526161880",
   "metadata": {},
   "outputs": [],
   "source": [
    "#import population by community area data\n",
    "\n",
    "pops = pd.read_csv(\"../data/population.csv\")\n",
    "pops[\"population\"] = pops[\"Total Population\"]\n",
    "pops[\"community_area\"] = pops[\"GeogKey\"]\n",
    "pop = pops[[\"community_area\", \"population\"]]"
   ]
  },
  {
   "cell_type": "code",
   "execution_count": 10,
   "id": "bb3f8a68-3239-4d9a-b49c-2e93c1aa405c",
   "metadata": {},
   "outputs": [],
   "source": [
    "#create an X matric for the regression with avg yearly income, population, and crime rate\n",
    "\n",
    "Xt = pd.merge(income, crime, on = 'community_area')\n",
    "X = pd.merge(Xt, pop, on = 'community_area')\n",
    "X.drop('community_area', axis=1, inplace=True)\n",
    "X.index += 1"
   ]
  },
  {
   "cell_type": "code",
   "execution_count": 11,
   "id": "89260658-87b1-4790-ba39-ed00d3f7bf4d",
   "metadata": {
    "tags": []
   },
   "outputs": [],
   "source": [
    "#add the constant term to the matrix\n",
    "\n",
    "Xc = sm.add_constant(X)"
   ]
  },
  {
   "cell_type": "code",
   "execution_count": 12,
   "id": "0ea5c35f-aa10-40f1-93c5-6941c2a2fcf6",
   "metadata": {
    "tags": []
   },
   "outputs": [
    {
     "data": {
      "text/html": [
       "<table class=\"simpletable\">\n",
       "<caption>OLS Regression Results</caption>\n",
       "<tr>\n",
       "  <th>Dep. Variable:</th>          <td>count</td>      <th>  R-squared:         </th> <td>   0.821</td>\n",
       "</tr>\n",
       "<tr>\n",
       "  <th>Model:</th>                   <td>OLS</td>       <th>  Adj. R-squared:    </th> <td>   0.811</td>\n",
       "</tr>\n",
       "<tr>\n",
       "  <th>Method:</th>             <td>Least Squares</td>  <th>  F-statistic:       </th> <td>   82.48</td>\n",
       "</tr>\n",
       "<tr>\n",
       "  <th>Date:</th>             <td>Mon, 21 Mar 2022</td> <th>  Prob (F-statistic):</th> <td>3.98e-26</td>\n",
       "</tr>\n",
       "<tr>\n",
       "  <th>Time:</th>                 <td>19:20:50</td>     <th>  Log-Likelihood:    </th> <td> -683.49</td>\n",
       "</tr>\n",
       "<tr>\n",
       "  <th>No. Observations:</th>      <td>    77</td>      <th>  AIC:               </th> <td>   1377.</td>\n",
       "</tr>\n",
       "<tr>\n",
       "  <th>Df Residuals:</th>          <td>    72</td>      <th>  BIC:               </th> <td>   1389.</td>\n",
       "</tr>\n",
       "<tr>\n",
       "  <th>Df Model:</th>              <td>     4</td>      <th>                     </th>     <td> </td>   \n",
       "</tr>\n",
       "<tr>\n",
       "  <th>Covariance Type:</th>      <td>nonrobust</td>    <th>                     </th>     <td> </td>   \n",
       "</tr>\n",
       "</table>\n",
       "<table class=\"simpletable\">\n",
       "<tr>\n",
       "        <td></td>           <th>coef</th>     <th>std err</th>      <th>t</th>      <th>P>|t|</th>  <th>[0.025</th>    <th>0.975]</th>  \n",
       "</tr>\n",
       "<tr>\n",
       "  <th>const</th>         <td> 5109.2644</td> <td>  895.312</td> <td>    5.707</td> <td> 0.000</td> <td> 3324.493</td> <td> 6894.036</td>\n",
       "</tr>\n",
       "<tr>\n",
       "  <th>avg_income</th>    <td>   -0.0298</td> <td>    0.017</td> <td>   -1.781</td> <td> 0.079</td> <td>   -0.063</td> <td>    0.004</td>\n",
       "</tr>\n",
       "<tr>\n",
       "  <th>below_poverty</th> <td> -126.2861</td> <td>   25.215</td> <td>   -5.008</td> <td> 0.000</td> <td> -176.552</td> <td>  -76.020</td>\n",
       "</tr>\n",
       "<tr>\n",
       "  <th>crime_rate</th>    <td>    0.9123</td> <td>    0.344</td> <td>    2.649</td> <td> 0.010</td> <td>    0.226</td> <td>    1.599</td>\n",
       "</tr>\n",
       "<tr>\n",
       "  <th>population</th>    <td>    0.1398</td> <td>    0.012</td> <td>   12.034</td> <td> 0.000</td> <td>    0.117</td> <td>    0.163</td>\n",
       "</tr>\n",
       "</table>\n",
       "<table class=\"simpletable\">\n",
       "<tr>\n",
       "  <th>Omnibus:</th>       <td> 2.491</td> <th>  Durbin-Watson:     </th> <td>   2.171</td>\n",
       "</tr>\n",
       "<tr>\n",
       "  <th>Prob(Omnibus):</th> <td> 0.288</td> <th>  Jarque-Bera (JB):  </th> <td>   1.792</td>\n",
       "</tr>\n",
       "<tr>\n",
       "  <th>Skew:</th>          <td> 0.334</td> <th>  Prob(JB):          </th> <td>   0.408</td>\n",
       "</tr>\n",
       "<tr>\n",
       "  <th>Kurtosis:</th>      <td> 3.335</td> <th>  Cond. No.          </th> <td>2.14e+05</td>\n",
       "</tr>\n",
       "</table><br/><br/>Notes:<br/>[1] Standard Errors assume that the covariance matrix of the errors is correctly specified.<br/>[2] The condition number is large, 2.14e+05. This might indicate that there are<br/>strong multicollinearity or other numerical problems."
      ],
      "text/plain": [
       "<class 'statsmodels.iolib.summary.Summary'>\n",
       "\"\"\"\n",
       "                            OLS Regression Results                            \n",
       "==============================================================================\n",
       "Dep. Variable:                  count   R-squared:                       0.821\n",
       "Model:                            OLS   Adj. R-squared:                  0.811\n",
       "Method:                 Least Squares   F-statistic:                     82.48\n",
       "Date:                Mon, 21 Mar 2022   Prob (F-statistic):           3.98e-26\n",
       "Time:                        19:20:50   Log-Likelihood:                -683.49\n",
       "No. Observations:                  77   AIC:                             1377.\n",
       "Df Residuals:                      72   BIC:                             1389.\n",
       "Df Model:                           4                                         \n",
       "Covariance Type:            nonrobust                                         \n",
       "=================================================================================\n",
       "                    coef    std err          t      P>|t|      [0.025      0.975]\n",
       "---------------------------------------------------------------------------------\n",
       "const          5109.2644    895.312      5.707      0.000    3324.493    6894.036\n",
       "avg_income       -0.0298      0.017     -1.781      0.079      -0.063       0.004\n",
       "below_poverty  -126.2861     25.215     -5.008      0.000    -176.552     -76.020\n",
       "crime_rate        0.9123      0.344      2.649      0.010       0.226       1.599\n",
       "population        0.1398      0.012     12.034      0.000       0.117       0.163\n",
       "==============================================================================\n",
       "Omnibus:                        2.491   Durbin-Watson:                   2.171\n",
       "Prob(Omnibus):                  0.288   Jarque-Bera (JB):                1.792\n",
       "Skew:                           0.334   Prob(JB):                        0.408\n",
       "Kurtosis:                       3.335   Cond. No.                     2.14e+05\n",
       "==============================================================================\n",
       "\n",
       "Notes:\n",
       "[1] Standard Errors assume that the covariance matrix of the errors is correctly specified.\n",
       "[2] The condition number is large, 2.14e+05. This might indicate that there are\n",
       "strong multicollinearity or other numerical problems.\n",
       "\"\"\""
      ]
     },
     "execution_count": 12,
     "metadata": {},
     "output_type": "execute_result"
    }
   ],
   "source": [
    "#regression of total potholes by community area on crime rate, population, and yearly income\n",
    "\n",
    "esta = sm.OLS(Ya, Xc)\n",
    "est1 = esta.fit()\n",
    "est1.summary()"
   ]
  },
  {
   "cell_type": "code",
   "execution_count": 13,
   "id": "43de150f-8b64-4304-a391-178463b570db",
   "metadata": {},
   "outputs": [
    {
     "data": {
      "text/html": [
       "<table class=\"simpletable\">\n",
       "<caption>OLS Regression Results</caption>\n",
       "<tr>\n",
       "  <th>Dep. Variable:</th>     <td>completion_time</td> <th>  R-squared:         </th> <td>   0.132</td>\n",
       "</tr>\n",
       "<tr>\n",
       "  <th>Model:</th>                   <td>OLS</td>       <th>  Adj. R-squared:    </th> <td>   0.084</td>\n",
       "</tr>\n",
       "<tr>\n",
       "  <th>Method:</th>             <td>Least Squares</td>  <th>  F-statistic:       </th> <td>   2.740</td>\n",
       "</tr>\n",
       "<tr>\n",
       "  <th>Date:</th>             <td>Mon, 21 Mar 2022</td> <th>  Prob (F-statistic):</th>  <td>0.0351</td> \n",
       "</tr>\n",
       "<tr>\n",
       "  <th>Time:</th>                 <td>19:20:50</td>     <th>  Log-Likelihood:    </th> <td> -283.02</td>\n",
       "</tr>\n",
       "<tr>\n",
       "  <th>No. Observations:</th>      <td>    77</td>      <th>  AIC:               </th> <td>   576.0</td>\n",
       "</tr>\n",
       "<tr>\n",
       "  <th>Df Residuals:</th>          <td>    72</td>      <th>  BIC:               </th> <td>   587.8</td>\n",
       "</tr>\n",
       "<tr>\n",
       "  <th>Df Model:</th>              <td>     4</td>      <th>                     </th>     <td> </td>   \n",
       "</tr>\n",
       "<tr>\n",
       "  <th>Covariance Type:</th>      <td>nonrobust</td>    <th>                     </th>     <td> </td>   \n",
       "</tr>\n",
       "</table>\n",
       "<table class=\"simpletable\">\n",
       "<tr>\n",
       "        <td></td>           <th>coef</th>     <th>std err</th>      <th>t</th>      <th>P>|t|</th>  <th>[0.025</th>    <th>0.975]</th>  \n",
       "</tr>\n",
       "<tr>\n",
       "  <th>const</th>         <td>   28.4508</td> <td>    4.935</td> <td>    5.766</td> <td> 0.000</td> <td>   18.614</td> <td>   38.288</td>\n",
       "</tr>\n",
       "<tr>\n",
       "  <th>avg_income</th>    <td>-5.257e-05</td> <td> 9.22e-05</td> <td>   -0.570</td> <td> 0.570</td> <td>   -0.000</td> <td>    0.000</td>\n",
       "</tr>\n",
       "<tr>\n",
       "  <th>below_poverty</th> <td>   -0.1433</td> <td>    0.139</td> <td>   -1.031</td> <td> 0.306</td> <td>   -0.420</td> <td>    0.134</td>\n",
       "</tr>\n",
       "<tr>\n",
       "  <th>crime_rate</th>    <td>-8.328e-05</td> <td>    0.002</td> <td>   -0.044</td> <td> 0.965</td> <td>   -0.004</td> <td>    0.004</td>\n",
       "</tr>\n",
       "<tr>\n",
       "  <th>population</th>    <td>    0.0002</td> <td>  6.4e-05</td> <td>    2.411</td> <td> 0.018</td> <td> 2.67e-05</td> <td>    0.000</td>\n",
       "</tr>\n",
       "</table>\n",
       "<table class=\"simpletable\">\n",
       "<tr>\n",
       "  <th>Omnibus:</th>       <td> 6.819</td> <th>  Durbin-Watson:     </th> <td>   0.950</td>\n",
       "</tr>\n",
       "<tr>\n",
       "  <th>Prob(Omnibus):</th> <td> 0.033</td> <th>  Jarque-Bera (JB):  </th> <td>   4.577</td>\n",
       "</tr>\n",
       "<tr>\n",
       "  <th>Skew:</th>          <td> 0.445</td> <th>  Prob(JB):          </th> <td>   0.101</td>\n",
       "</tr>\n",
       "<tr>\n",
       "  <th>Kurtosis:</th>      <td> 2.203</td> <th>  Cond. No.          </th> <td>2.14e+05</td>\n",
       "</tr>\n",
       "</table><br/><br/>Notes:<br/>[1] Standard Errors assume that the covariance matrix of the errors is correctly specified.<br/>[2] The condition number is large, 2.14e+05. This might indicate that there are<br/>strong multicollinearity or other numerical problems."
      ],
      "text/plain": [
       "<class 'statsmodels.iolib.summary.Summary'>\n",
       "\"\"\"\n",
       "                            OLS Regression Results                            \n",
       "==============================================================================\n",
       "Dep. Variable:        completion_time   R-squared:                       0.132\n",
       "Model:                            OLS   Adj. R-squared:                  0.084\n",
       "Method:                 Least Squares   F-statistic:                     2.740\n",
       "Date:                Mon, 21 Mar 2022   Prob (F-statistic):             0.0351\n",
       "Time:                        19:20:50   Log-Likelihood:                -283.02\n",
       "No. Observations:                  77   AIC:                             576.0\n",
       "Df Residuals:                      72   BIC:                             587.8\n",
       "Df Model:                           4                                         \n",
       "Covariance Type:            nonrobust                                         \n",
       "=================================================================================\n",
       "                    coef    std err          t      P>|t|      [0.025      0.975]\n",
       "---------------------------------------------------------------------------------\n",
       "const            28.4508      4.935      5.766      0.000      18.614      38.288\n",
       "avg_income    -5.257e-05   9.22e-05     -0.570      0.570      -0.000       0.000\n",
       "below_poverty    -0.1433      0.139     -1.031      0.306      -0.420       0.134\n",
       "crime_rate    -8.328e-05      0.002     -0.044      0.965      -0.004       0.004\n",
       "population        0.0002    6.4e-05      2.411      0.018    2.67e-05       0.000\n",
       "==============================================================================\n",
       "Omnibus:                        6.819   Durbin-Watson:                   0.950\n",
       "Prob(Omnibus):                  0.033   Jarque-Bera (JB):                4.577\n",
       "Skew:                           0.445   Prob(JB):                        0.101\n",
       "Kurtosis:                       2.203   Cond. No.                     2.14e+05\n",
       "==============================================================================\n",
       "\n",
       "Notes:\n",
       "[1] Standard Errors assume that the covariance matrix of the errors is correctly specified.\n",
       "[2] The condition number is large, 2.14e+05. This might indicate that there are\n",
       "strong multicollinearity or other numerical problems.\n",
       "\"\"\""
      ]
     },
     "execution_count": 13,
     "metadata": {},
     "output_type": "execute_result"
    }
   ],
   "source": [
    "#regression of average pothole service request completion time by community area on crime rate and yearly income\n",
    "\n",
    "estb = sm.OLS(Yb, Xc)\n",
    "est2 = estb.fit()\n",
    "est2.summary()"
   ]
  }
 ],
 "metadata": {
  "environment": {
   "kernel": "python3",
   "name": "common-cpu.m90",
   "type": "gcloud",
   "uri": "gcr.io/deeplearning-platform-release/base-cpu:m90"
  },
  "kernelspec": {
   "display_name": "Python 3",
   "language": "python",
   "name": "python3"
  },
  "language_info": {
   "codemirror_mode": {
    "name": "ipython",
    "version": 3
   },
   "file_extension": ".py",
   "mimetype": "text/x-python",
   "name": "python",
   "nbconvert_exporter": "python",
   "pygments_lexer": "ipython3",
   "version": "3.7.12"
  }
 },
 "nbformat": 4,
 "nbformat_minor": 5
}
