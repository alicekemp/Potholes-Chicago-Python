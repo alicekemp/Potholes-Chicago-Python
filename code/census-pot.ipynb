{
 "cells": [
  {
   "cell_type": "code",
   "execution_count": 1,
   "id": "601a186d-c070-488a-95c7-e768d2e8f979",
   "metadata": {},
   "outputs": [
    {
     "name": "stdout",
     "output_type": "stream",
     "text": [
      "<class 'pandas.core.frame.DataFrame'>\n",
      "Int64Index: 558055 entries, 1 to 310476\n",
      "Data columns (total 14 columns):\n",
      " #   Column              Non-Null Count   Dtype   \n",
      "---  ------              --------------   -----   \n",
      " 0   CREATION DATE       558055 non-null  object  \n",
      " 1   STATUS              558055 non-null  object  \n",
      " 2   COMPLETION DATE     550786 non-null  object  \n",
      " 3   CURRENT ACTIVITY    391921 non-null  object  \n",
      " 4   MOST RECENT ACTION  390310 non-null  object  \n",
      " 5   ZIP                 558055 non-null  float64 \n",
      " 6   X COORDINATE        557921 non-null  float64 \n",
      " 7   Y COORDINATE        557921 non-null  float64 \n",
      " 8   Ward                558054 non-null  float64 \n",
      " 9   Police District     558054 non-null  float64 \n",
      " 10  Community Area      558055 non-null  category\n",
      " 11  LATITUDE            557271 non-null  float64 \n",
      " 12  LONGITUDE           557271 non-null  float64 \n",
      " 13  LOCATION            557271 non-null  object  \n",
      "dtypes: category(1), float64(7), object(6)\n",
      "memory usage: 60.1+ MB\n"
     ]
    }
   ],
   "source": [
    "import pandas as pd\n",
    "from datetime import datetime\n",
    "import matplotlib.pyplot as plt\n",
    "\n",
    "file_names = ['data/potholes_1.csv', 'data/potholes_2.csv']\n",
    "\n",
    "potholes = pd.concat((pd.read_csv(i) for i in file_names))\n",
    "\n",
    "\n",
    "potholes = potholes.iloc[:,\n",
    "    [0, 1, 2, 5, 6, 9, 10, 11, 12, 13, 14, 16, 17, 18\n",
    "    ]\n",
    "]\n",
    "potholes = potholes.dropna(subset = [\"ZIP\", \"Community Area\"])\n",
    "potholes['Community Area'] = potholes['Community Area'].astype(int).astype('category')\n",
    "\n",
    "potholes.info()"
   ]
  },
  {
   "cell_type": "code",
   "execution_count": 2,
   "id": "693312b0-2376-42ae-b35a-3aea848fcee0",
   "metadata": {},
   "outputs": [],
   "source": [
    "# Convert strings to times\n",
    "potholes[\"CREATION DATE\"] = pd.to_datetime(potholes[\"CREATION DATE\"], format = \"%m/%d/%Y\")\n",
    "potholes[\"COMPLETION DATE\"] = pd.to_datetime(potholes[\"COMPLETION DATE\"], format = \"%m/%d/%Y\")\n",
    "\n",
    "# Create completion time variable\n",
    "potholes[\"COMPLETION TIME\"] = potholes[\"COMPLETION DATE\"] - potholes[\"CREATION DATE\"]"
   ]
  },
  {
   "cell_type": "code",
   "execution_count": 3,
   "id": "b3950f1e-d6db-43b5-b0f3-2af9e3b5c53e",
   "metadata": {},
   "outputs": [],
   "source": [
    "census_data = pd.read_csv('data/chicago_census_data.csv')\n",
    "census_data = census_data.iloc[:, [0,7,8]].dropna()\n",
    "census_data['HARDSHIP INDEX'] = census_data['HARDSHIP INDEX'].astype(int)"
   ]
  },
  {
   "cell_type": "code",
   "execution_count": 10,
   "id": "94d56527-817e-4e8e-91a8-821fd75c573f",
   "metadata": {},
   "outputs": [
    {
     "data": {
      "text/html": [
       "<div>\n",
       "<style scoped>\n",
       "    .dataframe tbody tr th:only-of-type {\n",
       "        vertical-align: middle;\n",
       "    }\n",
       "\n",
       "    .dataframe tbody tr th {\n",
       "        vertical-align: top;\n",
       "    }\n",
       "\n",
       "    .dataframe thead th {\n",
       "        text-align: right;\n",
       "    }\n",
       "</style>\n",
       "<table border=\"1\" class=\"dataframe\">\n",
       "  <thead>\n",
       "    <tr style=\"text-align: right;\">\n",
       "      <th></th>\n",
       "      <th>COMPLETION TIME</th>\n",
       "    </tr>\n",
       "    <tr>\n",
       "      <th>Community Area</th>\n",
       "      <th></th>\n",
       "    </tr>\n",
       "  </thead>\n",
       "  <tbody>\n",
       "    <tr>\n",
       "      <th>0</th>\n",
       "      <td>43</td>\n",
       "    </tr>\n",
       "    <tr>\n",
       "      <th>1</th>\n",
       "      <td>38</td>\n",
       "    </tr>\n",
       "    <tr>\n",
       "      <th>2</th>\n",
       "      <td>45</td>\n",
       "    </tr>\n",
       "    <tr>\n",
       "      <th>3</th>\n",
       "      <td>36</td>\n",
       "    </tr>\n",
       "    <tr>\n",
       "      <th>4</th>\n",
       "      <td>43</td>\n",
       "    </tr>\n",
       "    <tr>\n",
       "      <th>...</th>\n",
       "      <td>...</td>\n",
       "    </tr>\n",
       "    <tr>\n",
       "      <th>73</th>\n",
       "      <td>21</td>\n",
       "    </tr>\n",
       "    <tr>\n",
       "      <th>74</th>\n",
       "      <td>23</td>\n",
       "    </tr>\n",
       "    <tr>\n",
       "      <th>75</th>\n",
       "      <td>20</td>\n",
       "    </tr>\n",
       "    <tr>\n",
       "      <th>76</th>\n",
       "      <td>38</td>\n",
       "    </tr>\n",
       "    <tr>\n",
       "      <th>77</th>\n",
       "      <td>44</td>\n",
       "    </tr>\n",
       "  </tbody>\n",
       "</table>\n",
       "<p>78 rows × 1 columns</p>\n",
       "</div>"
      ],
      "text/plain": [
       "                COMPLETION TIME\n",
       "Community Area                 \n",
       "0                            43\n",
       "1                            38\n",
       "2                            45\n",
       "3                            36\n",
       "4                            43\n",
       "...                         ...\n",
       "73                           21\n",
       "74                           23\n",
       "75                           20\n",
       "76                           38\n",
       "77                           44\n",
       "\n",
       "[78 rows x 1 columns]"
      ]
     },
     "execution_count": 10,
     "metadata": {},
     "output_type": "execute_result"
    }
   ],
   "source": [
    "potholes_c = potholes.groupby([\"Community Area\"])['CREATION DATE'].count()\n",
    "potholes_mean = potholes.groupby([\"Community Area\"]).agg({'COMPLETION TIME': 'mean'})\n",
    "pd_holes = potholes_c.to_frame(name='Count').reset_index()\n",
    "potholes_mean[\"COMPLETION TIME\"] = potholes_mean[\"COMPLETION TIME\"].apply(lambda x: x.days)\n",
    "potholes_mean\n",
    "#potholes_mean[\"Community Area\"] = potholes_mean[\"Community Area\"].astype('category')"
   ]
  },
  {
   "cell_type": "code",
   "execution_count": 11,
   "id": "01084498-ab60-4a81-968a-18e19e443327",
   "metadata": {},
   "outputs": [
    {
     "data": {
      "text/html": [
       "<div>\n",
       "<style scoped>\n",
       "    .dataframe tbody tr th:only-of-type {\n",
       "        vertical-align: middle;\n",
       "    }\n",
       "\n",
       "    .dataframe tbody tr th {\n",
       "        vertical-align: top;\n",
       "    }\n",
       "\n",
       "    .dataframe thead th {\n",
       "        text-align: right;\n",
       "    }\n",
       "</style>\n",
       "<table border=\"1\" class=\"dataframe\">\n",
       "  <thead>\n",
       "    <tr style=\"text-align: right;\">\n",
       "      <th></th>\n",
       "      <th>Community Area</th>\n",
       "      <th>PER CAPITA INCOME</th>\n",
       "      <th>HARDSHIP INDEX</th>\n",
       "      <th>Count</th>\n",
       "      <th>COMPLETION TIME</th>\n",
       "    </tr>\n",
       "  </thead>\n",
       "  <tbody>\n",
       "    <tr>\n",
       "      <th>13</th>\n",
       "      <td>14</td>\n",
       "      <td>21323</td>\n",
       "      <td>53</td>\n",
       "      <td>8118</td>\n",
       "      <td>54</td>\n",
       "    </tr>\n",
       "    <tr>\n",
       "      <th>15</th>\n",
       "      <td>16</td>\n",
       "      <td>27249</td>\n",
       "      <td>34</td>\n",
       "      <td>12358</td>\n",
       "      <td>49</td>\n",
       "    </tr>\n",
       "    <tr>\n",
       "      <th>8</th>\n",
       "      <td>9</td>\n",
       "      <td>40959</td>\n",
       "      <td>8</td>\n",
       "      <td>5003</td>\n",
       "      <td>46</td>\n",
       "    </tr>\n",
       "    <tr>\n",
       "      <th>1</th>\n",
       "      <td>2</td>\n",
       "      <td>23040</td>\n",
       "      <td>46</td>\n",
       "      <td>15426</td>\n",
       "      <td>45</td>\n",
       "    </tr>\n",
       "    <tr>\n",
       "      <th>26</th>\n",
       "      <td>27</td>\n",
       "      <td>12961</td>\n",
       "      <td>83</td>\n",
       "      <td>4227</td>\n",
       "      <td>45</td>\n",
       "    </tr>\n",
       "    <tr>\n",
       "      <th>...</th>\n",
       "      <td>...</td>\n",
       "      <td>...</td>\n",
       "      <td>...</td>\n",
       "      <td>...</td>\n",
       "      <td>...</td>\n",
       "    </tr>\n",
       "    <tr>\n",
       "      <th>57</th>\n",
       "      <td>58</td>\n",
       "      <td>13089</td>\n",
       "      <td>84</td>\n",
       "      <td>6903</td>\n",
       "      <td>16</td>\n",
       "    </tr>\n",
       "    <tr>\n",
       "      <th>37</th>\n",
       "      <td>38</td>\n",
       "      <td>23472</td>\n",
       "      <td>57</td>\n",
       "      <td>3725</td>\n",
       "      <td>15</td>\n",
       "    </tr>\n",
       "    <tr>\n",
       "      <th>59</th>\n",
       "      <td>60</td>\n",
       "      <td>22694</td>\n",
       "      <td>43</td>\n",
       "      <td>3908</td>\n",
       "      <td>15</td>\n",
       "    </tr>\n",
       "    <tr>\n",
       "      <th>64</th>\n",
       "      <td>65</td>\n",
       "      <td>16907</td>\n",
       "      <td>56</td>\n",
       "      <td>9018</td>\n",
       "      <td>15</td>\n",
       "    </tr>\n",
       "    <tr>\n",
       "      <th>58</th>\n",
       "      <td>59</td>\n",
       "      <td>16954</td>\n",
       "      <td>61</td>\n",
       "      <td>3683</td>\n",
       "      <td>12</td>\n",
       "    </tr>\n",
       "  </tbody>\n",
       "</table>\n",
       "<p>77 rows × 5 columns</p>\n",
       "</div>"
      ],
      "text/plain": [
       "   Community Area  PER CAPITA INCOME   HARDSHIP INDEX  Count  COMPLETION TIME\n",
       "13             14               21323              53   8118               54\n",
       "15             16               27249              34  12358               49\n",
       "8               9               40959               8   5003               46\n",
       "1               2               23040              46  15426               45\n",
       "26             27               12961              83   4227               45\n",
       "..            ...                 ...             ...    ...              ...\n",
       "57             58               13089              84   6903               16\n",
       "37             38               23472              57   3725               15\n",
       "59             60               22694              43   3908               15\n",
       "64             65               16907              56   9018               15\n",
       "58             59               16954              61   3683               12\n",
       "\n",
       "[77 rows x 5 columns]"
      ]
     },
     "execution_count": 11,
     "metadata": {},
     "output_type": "execute_result"
    }
   ],
   "source": [
    "census_data.rename(columns = {'Community Area Number': 'Community Area'}, inplace = True)\n",
    "census_data['Community Area'] = census_data['Community Area'].astype(int)\n",
    "merged_data = pd.merge(census_data, pd_holes, on = 'Community Area')\n",
    "working_data = pd.merge(merged_data, potholes_mean, on = 'Community Area').sort_values([\"COMPLETION TIME\"], ascending = False)\n",
    "working_data['Community Area'] = working_data['Community Area'].astype('category')\n",
    "working_data"
   ]
  },
  {
   "cell_type": "code",
   "execution_count": 6,
   "id": "1c9b6c3a-5a16-4180-8f93-7ba3bd51f944",
   "metadata": {},
   "outputs": [
    {
     "name": "stdout",
     "output_type": "stream",
     "text": [
      "Index(['Community Area', 'PER CAPITA INCOME ', 'HARDSHIP INDEX', 'Count',\n",
      "       'COMPLETION TIME'],\n",
      "      dtype='object')\n"
     ]
    },
    {
     "data": {
      "text/plain": [
       "Text(0, 0.5, 'Average Completion Time')"
      ]
     },
     "execution_count": 6,
     "metadata": {},
     "output_type": "execute_result"
    },
    {
     "data": {
      "image/png": "[encoded data removed]",
      "text/plain": [
       "<Figure size 432x288 with 1 Axes>"
      ]
     },
     "metadata": {
      "needs_background": "light"
     },
     "output_type": "display_data"
    }
   ],
   "source": [
    "%matplotlib inline\n",
    "plt.scatter(working_data[\"PER CAPITA INCOME \"], working_data[\"COMPLETION TIME\"])\n",
    "plt.title(\"Average Completion Time by Community's Per Capita Income\")\n",
    "plt.xlabel(\"Per capita income\")\n",
    "plt.ylabel(\"Average Completion Time\")"
   ]
  },
  {
   "cell_type": "code",
   "execution_count": 13,
   "id": "e3c2ae17-b48b-47f0-a990-314970d20a31",
   "metadata": {},
   "outputs": [
    {
     "name": "stdout",
     "output_type": "stream",
     "text": [
      "<class 'pandas.core.frame.DataFrame'>\n",
      "Int64Index: 6 entries, 13 to 9\n",
      "Data columns (total 5 columns):\n",
      " #   Column              Non-Null Count  Dtype   \n",
      "---  ------              --------------  -----   \n",
      " 0   Community Area      6 non-null      category\n",
      " 1   PER CAPITA INCOME   6 non-null      int64   \n",
      " 2   HARDSHIP INDEX      6 non-null      int64   \n",
      " 3   Count               6 non-null      int64   \n",
      " 4   COMPLETION TIME     6 non-null      int64   \n",
      "dtypes: category(1), int64(4)\n",
      "memory usage: 2.9 KB\n"
     ]
    },
    {
     "data": {
      "text/plain": [
       "<BarContainer object of 6 artists>"
      ]
     },
     "execution_count": 13,
     "metadata": {},
     "output_type": "execute_result"
    },
    {
     "data": {
      "image/png": "[encoded data removed]",
      "text/plain": [
       "<Figure size 432x288 with 1 Axes>"
      ]
     },
     "metadata": {
      "needs_background": "light"
     },
     "output_type": "display_data"
    }
   ],
   "source": [
    "# What is the per capita income of commmunities with top 5 longest completion times?\n",
    "# Bottom 5?\n",
    "top_5 = working_data[working_data[\"COMPLETION TIME\"] >= 45]\n",
    "top_5.info()\n",
    "\n",
    "bottom_5 = working_data[working_data[\"COMPLETION TIME\"] <= 16]\n",
    "bottom_5\n",
    "\n",
    "plt.bar(top_5[\"Community Area\"], top_5[\"PER CAPITA INCOME \"])\n",
    "#Name each Community Area so x-axis is categorical"
   ]
  },
  {
   "cell_type": "code",
   "execution_count": null,
   "id": "a30f432c-72e1-4bc2-980b-64d4ba63cb57",
   "metadata": {},
   "outputs": [],
   "source": []
  }
 ],
 "metadata": {
  "environment": {
   "kernel": "python3",
   "name": "common-cpu.m91",
   "type": "gcloud",
   "uri": "gcr.io/deeplearning-platform-release/base-cpu:m91"
  },
  "kernelspec": {
   "display_name": "Python 3",
   "language": "python",
   "name": "python3"
  },
  "language_info": {
   "codemirror_mode": {
    "name": "ipython",
    "version": 3
   },
   "file_extension": ".py",
   "mimetype": "text/x-python",
   "name": "python",
   "nbconvert_exporter": "python",
   "pygments_lexer": "ipython3",
   "version": "3.7.12"
  }
 },
 "nbformat": 4,
 "nbformat_minor": 5
}
