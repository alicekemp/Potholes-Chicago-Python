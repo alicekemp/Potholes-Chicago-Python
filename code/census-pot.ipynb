{
 "cells": [
  {
   "cell_type": "code",
   "execution_count": 1,
   "id": "601a186d-c070-488a-95c7-e768d2e8f979",
   "metadata": {},
   "outputs": [
    {
     "name": "stdout",
     "output_type": "stream",
     "text": [
      "/home/jupyter/Python-Project-1\n"
     ]
    }
   ],
   "source": [
    "%cd ..\n",
    "import pandas as pd\n",
    "from datetime import datetime\n",
    "import matplotlib.pyplot as plt\n",
    "\n",
    "file_names = ['data/potholes_1.csv', 'data/potholes_2.csv']\n",
    "\n",
    "potholes = pd.concat((pd.read_csv(i) for i in file_names))\n",
    "\n",
    "\n",
    "potholes = potholes.iloc[:,\n",
    "    [0, 1, 2, 5, 6, 9, 10, 11, 12, 13, 14, 16, 17, 18\n",
    "    ]\n",
    "]\n",
    "potholes = potholes.dropna(subset = [\"ZIP\", \"Community Area\"])\n",
    "potholes['Community Area'] = potholes['Community Area'].astype(int).astype('category')\n",
    "\n",
    "# Rename variables\n",
    "potholes.rename(columns = {\"CREATION DATE\": \"Creation Date\",\n",
    "                          \"STATUS\" :\"Status\",\n",
    "                          \"COMPLETION DATE\": \"Completion Date\",\n",
    "                          \"CURRENT ACTIVITY\": \"Current Activity\",\n",
    "                          \"MOST RECENT ACTION\": \"Most Recent Action\"}, inplace = True)"
   ]
  },
  {
   "cell_type": "code",
   "execution_count": 2,
   "id": "693312b0-2376-42ae-b35a-3aea848fcee0",
   "metadata": {},
   "outputs": [
    {
     "name": "stdout",
     "output_type": "stream",
     "text": [
      "<class 'pandas.core.frame.DataFrame'>\n",
      "Int64Index: 558055 entries, 1 to 310476\n",
      "Data columns (total 15 columns):\n",
      " #   Column              Non-Null Count   Dtype          \n",
      "---  ------              --------------   -----          \n",
      " 0   Creation Date       558055 non-null  datetime64[ns] \n",
      " 1   Status              558055 non-null  object         \n",
      " 2   Completion Date     550786 non-null  datetime64[ns] \n",
      " 3   Current Activity    391921 non-null  object         \n",
      " 4   Most Recent Action  390310 non-null  object         \n",
      " 5   ZIP                 558055 non-null  float64        \n",
      " 6   X COORDINATE        557921 non-null  float64        \n",
      " 7   Y COORDINATE        557921 non-null  float64        \n",
      " 8   Ward                558054 non-null  float64        \n",
      " 9   Police District     558054 non-null  float64        \n",
      " 10  Community Area      558055 non-null  category       \n",
      " 11  LATITUDE            557271 non-null  float64        \n",
      " 12  LONGITUDE           557271 non-null  float64        \n",
      " 13  LOCATION            557271 non-null  object         \n",
      " 14  Completion Time     550786 non-null  timedelta64[ns]\n",
      "dtypes: category(1), datetime64[ns](2), float64(7), object(4), timedelta64[ns](1)\n",
      "memory usage: 64.4+ MB\n"
     ]
    }
   ],
   "source": [
    "# Convert strings to times\n",
    "potholes[\"Creation Date\"] = pd.to_datetime(potholes[\"Creation Date\"], format = \"%m/%d/%Y\")\n",
    "potholes[\"Completion Date\"] = pd.to_datetime(potholes[\"Completion Date\"], format = \"%m/%d/%Y\")\n",
    "\n",
    "# Create completion time variable\n",
    "potholes[\"Completion Time\"] = potholes[\"Completion Date\"] - potholes[\"Creation Date\"]\n",
    "potholes.info()"
   ]
  },
  {
   "cell_type": "code",
   "execution_count": 27,
   "id": "b3950f1e-d6db-43b5-b0f3-2af9e3b5c53e",
   "metadata": {},
   "outputs": [
    {
     "name": "stdout",
     "output_type": "stream",
     "text": [
      "    Community Area Community Area Name  Per Capita Income  Hardship Index\n",
      "0              1.0         Rogers Park              23939              39\n",
      "1              2.0          West Ridge              23040              46\n",
      "2              3.0              Uptown              35787              20\n",
      "3              4.0      Lincoln Square              37524              17\n",
      "4              5.0        North Center              57123               6\n",
      "..             ...                 ...                ...             ...\n",
      "72            73.0   Washington Height              19713              48\n",
      "73            74.0     Mount Greenwood              34381              16\n",
      "74            75.0         Morgan Park              27149              30\n",
      "75            76.0              O'Hare              25828              24\n",
      "76            77.0           Edgewater              33385              19\n",
      "\n",
      "[77 rows x 4 columns]\n"
     ]
    }
   ],
   "source": [
    "census_data = pd.read_csv('data/chicago_census_data.csv')\n",
    "census_data = census_data.iloc[:, [0,1,7,8]].dropna()\n",
    "census_data['HARDSHIP INDEX'] = census_data['HARDSHIP INDEX'].astype(int)\n",
    "census_data = census_data.rename(columns = {'Community Area Number': 'Community Area', \"COMMUNITY AREA NAME\": \"Community Area Name\", \"HARDSHIP INDEX\": \"Hardship Index\", \"PER CAPITA INCOME \": \"Per Capita Income\"})\n",
    "census_data = census_data.dropna(subset=[\"Community Area\", \"Hardship Index\", \"Per Capita Income\"])\n",
    "print(census_data)"
   ]
  },
  {
   "cell_type": "code",
   "execution_count": 16,
   "id": "94d56527-817e-4e8e-91a8-821fd75c573f",
   "metadata": {},
   "outputs": [
    {
     "name": "stdout",
     "output_type": "stream",
     "text": [
      "<class 'pandas.core.frame.DataFrame'>\n",
      "CategoricalIndex: 78 entries, 0 to 77\n",
      "Data columns (total 1 columns):\n",
      " #   Column           Non-Null Count  Dtype\n",
      "---  ------           --------------  -----\n",
      " 0   Completion Time  78 non-null     int64\n",
      "dtypes: int64(1)\n",
      "memory usage: 3.3 KB\n"
     ]
    }
   ],
   "source": [
    "potholes_c = potholes.groupby([\"Community Area\"])['Creation Date'].count()\n",
    "potholes_mean = potholes.groupby([\"Community Area\"]).agg({'Completion Time': 'mean'})\n",
    "pd_holes = potholes_c.to_frame(name='Count').reset_index()\n",
    "potholes_mean[\"Completion Time\"] = potholes_mean[\"Completion Time\"].apply(lambda x: x.days)"
   ]
  },
  {
   "cell_type": "code",
   "execution_count": 18,
   "id": "01084498-ab60-4a81-968a-18e19e443327",
   "metadata": {},
   "outputs": [
    {
     "name": "stdout",
     "output_type": "stream",
     "text": [
      "<class 'pandas.core.frame.DataFrame'>\n",
      "Int64Index: 77 entries, 13 to 58\n",
      "Data columns (total 5 columns):\n",
      " #   Column             Non-Null Count  Dtype   \n",
      "---  ------             --------------  -----   \n",
      " 0   Community Area     77 non-null     category\n",
      " 1   Per Capita Income  77 non-null     int64   \n",
      " 2   Hardship Index     77 non-null     int64   \n",
      " 3   Count              77 non-null     int64   \n",
      " 4   Completion Time    77 non-null     int64   \n",
      "dtypes: category(1), int64(4)\n",
      "memory usage: 5.7 KB\n"
     ]
    }
   ],
   "source": [
    "census_data.rename(columns = {}, inplace = True)\n",
    "census_data['Community Area'] = census_data['Community Area'].astype(int)\n",
    "merged_data = pd.merge(census_data, pd_holes, on = 'Community Area')\n",
    "working_data = pd.merge(merged_data, potholes_mean, on = 'Community Area').sort_values([\"Completion Time\"], ascending = False)\n",
    "working_data['Community Area'] = working_data['Community Area'].astype('category')\n",
    "working_data"
   ]
  },
  {
   "cell_type": "code",
   "execution_count": 19,
   "id": "1c9b6c3a-5a16-4180-8f93-7ba3bd51f944",
   "metadata": {},
   "outputs": [
    {
     "data": {
      "text/plain": [
       "Text(0, 0.5, 'Average Completion Time')"
      ]
     },
     "execution_count": 19,
     "metadata": {},
     "output_type": "execute_result"
    },
    {
     "data": {
      "image/png": "[encoded data removed]",
      "text/plain": [
       "<Figure size 432x288 with 1 Axes>"
      ]
     },
     "metadata": {
      "needs_background": "light"
     },
     "output_type": "display_data"
    }
   ],
   "source": [
    "%matplotlib inline\n",
    "plt.scatter(working_data[\"Per Capita Income\"], working_data[\"Completion Time\"])\n",
    "plt.title(\"Average Completion Time by Community's Per Capita Income\")\n",
    "plt.xlabel(\"Per capita income\")\n",
    "plt.ylabel(\"Average Completion Time\")"
   ]
  },
  {
   "cell_type": "code",
   "execution_count": 23,
   "id": "e3c2ae17-b48b-47f0-a990-314970d20a31",
   "metadata": {},
   "outputs": [
    {
     "name": "stdout",
     "output_type": "stream",
     "text": [
      "   Community Area  Per Capita Income  Hardship Index  Count  Completion Time\n",
      "13             14              21323              53   8118               54\n",
      "15             16              27249              34  12358               49\n",
      "8               9              40959               8   5003               46\n",
      "1               2              23040              46  15426               45\n",
      "26             27              12961              83   4227               45\n",
      "9              10              32875              21  14227               45\n"
     ]
    },
    {
     "data": {
      "text/plain": [
       "'\\nbottom_5 = working_data[working_data[\"Completion Time\"] <= 16]\\nbottom_5\\n\\nplt.bar(top_5[\"Community Area\"], top_5[\"Per Capita Income\"])\\n#Name each Community Area so x-axis is categorical?\\n'"
      ]
     },
     "execution_count": 23,
     "metadata": {},
     "output_type": "execute_result"
    }
   ],
   "source": [
    "# What is the per capita income of commmunities with top 5 longest completion times?\n",
    "# Bottom 5?\n",
    "top_5 = working_data[working_data[\"Completion Time\"] >= 45]\n",
    "print(top_5)\n",
    "\n",
    "'''\n",
    "bottom_5 = working_data[working_data[\"Completion Time\"] <= 16]\n",
    "bottom_5\n",
    "\n",
    "plt.bar(top_5[\"Community Area\"], top_5[\"Per Capita Income\"])\n",
    "#Name each Community Area so x-axis is categorical?\n",
    "'''"
   ]
  },
  {
   "cell_type": "code",
   "execution_count": null,
   "id": "a30f432c-72e1-4bc2-980b-64d4ba63cb57",
   "metadata": {},
   "outputs": [],
   "source": []
  }
 ],
 "metadata": {
  "environment": {
   "kernel": "python3",
   "name": "common-cpu.m91",
   "type": "gcloud",
   "uri": "gcr.io/deeplearning-platform-release/base-cpu:m91"
  },
  "kernelspec": {
   "display_name": "Python 3",
   "language": "python",
   "name": "python3"
  },
  "language_info": {
   "codemirror_mode": {
    "name": "ipython",
    "version": 3
   },
   "file_extension": ".py",
   "mimetype": "text/x-python",
   "name": "python",
   "nbconvert_exporter": "python",
   "pygments_lexer": "ipython3",
   "version": "3.7.12"
  }
 },
 "nbformat": 4,
 "nbformat_minor": 5
}
