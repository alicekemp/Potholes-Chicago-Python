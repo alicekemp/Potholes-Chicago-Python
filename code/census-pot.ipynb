{
 "cells": [
  {
   "cell_type": "code",
   "execution_count": 1,
   "id": "601a186d-c070-488a-95c7-e768d2e8f979",
   "metadata": {},
   "outputs": [
    {
     "name": "stdout",
     "output_type": "stream",
     "text": [
      "/home/jupyter/Python-Project-1\n"
     ]
    },
    {
     "data": {
      "application/javascript": [
       "\n",
       "            setTimeout(function() {\n",
       "                var nbb_cell_id = 1;\n",
       "                var nbb_unformatted_code = \"%reload_ext nb_black\\n%cd ..\\nimport pandas as pd\\nimport matplotlib.pyplot as plt\\nfrom combine import recombine\\nimport plotly.express as px\\n\\npotholes = recombine(\\\"data/potholes_1.csv\\\", \\\"data/potholes_2.csv\\\")\\n\\npotholes = potholes.iloc[:,\\n    [0, 1, 2, 3, 5, 6, 9, 10, 11, 12, 13, 14, 16, 17, 18\\n    ]\\n]\\n# Lots of duplicates in the data\\npotholes = potholes.drop_duplicates(subset = \\\"SERVICE REQUEST NUMBER\\\")\\npotholes = potholes.dropna(subset = [\\\"ZIP\\\", \\\"Community Area\\\"])\\npotholes['Community Area'] = potholes['Community Area'].astype(int).astype('category')\\n\\n# Rename variables\\npotholes.rename(columns = {\\\"CREATION DATE\\\": \\\"Creation Date\\\",\\n                          \\\"STATUS\\\" :\\\"Status\\\",\\n                          \\\"COMPLETION DATE\\\": \\\"Completion Date\\\",\\n                          \\\"CURRENT ACTIVITY\\\": \\\"Current Activity\\\",\\n                          \\\"MOST RECENT ACTION\\\": \\\"Most Recent Action\\\"}, inplace = True)\";\n",
       "                var nbb_formatted_code = \"%reload_ext nb_black\\n%cd ..\\nimport pandas as pd\\nimport matplotlib.pyplot as plt\\nfrom combine import recombine\\nimport plotly.express as px\\n\\npotholes = recombine(\\\"data/potholes_1.csv\\\", \\\"data/potholes_2.csv\\\")\\n\\npotholes = potholes.iloc[:, [0, 1, 2, 3, 5, 6, 9, 10, 11, 12, 13, 14, 16, 17, 18]]\\n# Lots of duplicates in the data\\npotholes = potholes.drop_duplicates(subset=\\\"SERVICE REQUEST NUMBER\\\")\\npotholes = potholes.dropna(subset=[\\\"ZIP\\\", \\\"Community Area\\\"])\\npotholes[\\\"Community Area\\\"] = potholes[\\\"Community Area\\\"].astype(int).astype(\\\"category\\\")\\n\\n# Rename variables\\npotholes.rename(\\n    columns={\\n        \\\"CREATION DATE\\\": \\\"Creation Date\\\",\\n        \\\"STATUS\\\": \\\"Status\\\",\\n        \\\"COMPLETION DATE\\\": \\\"Completion Date\\\",\\n        \\\"CURRENT ACTIVITY\\\": \\\"Current Activity\\\",\\n        \\\"MOST RECENT ACTION\\\": \\\"Most Recent Action\\\",\\n    },\\n    inplace=True,\\n)\";\n",
       "                var nbb_cells = Jupyter.notebook.get_cells();\n",
       "                for (var i = 0; i < nbb_cells.length; ++i) {\n",
       "                    if (nbb_cells[i].input_prompt_number == nbb_cell_id) {\n",
       "                        if (nbb_cells[i].get_text() == nbb_unformatted_code) {\n",
       "                             nbb_cells[i].set_text(nbb_formatted_code);\n",
       "                        }\n",
       "                        break;\n",
       "                    }\n",
       "                }\n",
       "            }, 500);\n",
       "            "
      ],
      "text/plain": [
       "<IPython.core.display.Javascript object>"
      ]
     },
     "metadata": {},
     "output_type": "display_data"
    }
   ],
   "source": [
    "%reload_ext nb_black\n",
    "%cd ..\n",
    "import pandas as pd\n",
    "import matplotlib.pyplot as plt\n",
    "from combine import recombine\n",
    "import plotly.express as px\n",
    "\n",
    "potholes = recombine(\"data/potholes_1.csv\", \"data/potholes_2.csv\")\n",
    "\n",
    "# Select only relevant variables\n",
    "potholes = potholes.iloc[:,\n",
    "    [0, 1, 2, 3, 5, 6, 9, 10, 11, 12, 13, 14, 16, 17, 18\n",
    "    ]\n",
    "]\n",
    "# Lots of duplicates in the data\n",
    "potholes = potholes.drop_duplicates(subset = \"SERVICE REQUEST NUMBER\")\n",
    "potholes = potholes.dropna(subset = [\"ZIP\", \"Community Area\"])\n",
    "potholes['Community Area'] = potholes['Community Area'].astype(int).astype('category')\n",
    "\n",
    "# Rename variables\n",
    "potholes.rename(columns = {\"CREATION DATE\": \"Creation Date\",\n",
    "                          \"STATUS\" :\"Status\",\n",
    "                          \"COMPLETION DATE\": \"Completion Date\",\n",
    "                          \"CURRENT ACTIVITY\": \"Current Activity\",\n",
    "                          \"MOST RECENT ACTION\": \"Most Recent Action\"}, inplace = True)"
   ]
  },
  {
   "cell_type": "code",
   "execution_count": 2,
   "id": "693312b0-2376-42ae-b35a-3aea848fcee0",
   "metadata": {},
   "outputs": [
    {
     "name": "stdout",
     "output_type": "stream",
     "text": [
      "<class 'pandas.core.frame.DataFrame'>\n",
      "Int64Index: 556672 entries, 1 to 560477\n",
      "Data columns (total 16 columns):\n",
      " #   Column                  Non-Null Count   Dtype          \n",
      "---  ------                  --------------   -----          \n",
      " 0   Creation Date           556672 non-null  datetime64[ns] \n",
      " 1   Status                  556672 non-null  object         \n",
      " 2   Completion Date         549404 non-null  datetime64[ns] \n",
      " 3   SERVICE REQUEST NUMBER  556672 non-null  object         \n",
      " 4   Current Activity        391045 non-null  object         \n",
      " 5   Most Recent Action      389443 non-null  object         \n",
      " 6   ZIP                     556672 non-null  float64        \n",
      " 7   X COORDINATE            556538 non-null  float64        \n",
      " 8   Y COORDINATE            556538 non-null  float64        \n",
      " 9   Ward                    556671 non-null  float64        \n",
      " 10  Police District         556671 non-null  float64        \n",
      " 11  Community Area          556672 non-null  category       \n",
      " 12  LATITUDE                555893 non-null  float64        \n",
      " 13  LONGITUDE               555893 non-null  float64        \n",
      " 14  LOCATION                555893 non-null  object         \n",
      " 15  Completion Time         549404 non-null  timedelta64[ns]\n",
      "dtypes: category(1), datetime64[ns](2), float64(7), object(5), timedelta64[ns](1)\n",
      "memory usage: 68.5+ MB\n"
     ]
    },
    {
     "data": {
      "application/javascript": [
       "\n",
       "            setTimeout(function() {\n",
       "                var nbb_cell_id = 2;\n",
       "                var nbb_unformatted_code = \"# Convert strings to times\\npotholes[\\\"Creation Date\\\"] = pd.to_datetime(potholes[\\\"Creation Date\\\"], format = \\\"%m/%d/%Y\\\")\\npotholes[\\\"Completion Date\\\"] = pd.to_datetime(potholes[\\\"Completion Date\\\"], format = \\\"%m/%d/%Y\\\")\\n\\n# Create completion time variable\\npotholes[\\\"Completion Time\\\"] = potholes[\\\"Completion Date\\\"] - potholes[\\\"Creation Date\\\"]\\npotholes.info()\";\n",
       "                var nbb_formatted_code = \"# Convert strings to times\\npotholes[\\\"Creation Date\\\"] = pd.to_datetime(potholes[\\\"Creation Date\\\"], format=\\\"%m/%d/%Y\\\")\\npotholes[\\\"Completion Date\\\"] = pd.to_datetime(\\n    potholes[\\\"Completion Date\\\"], format=\\\"%m/%d/%Y\\\"\\n)\\n\\n# Create completion time variable\\npotholes[\\\"Completion Time\\\"] = potholes[\\\"Completion Date\\\"] - potholes[\\\"Creation Date\\\"]\\npotholes.info()\";\n",
       "                var nbb_cells = Jupyter.notebook.get_cells();\n",
       "                for (var i = 0; i < nbb_cells.length; ++i) {\n",
       "                    if (nbb_cells[i].input_prompt_number == nbb_cell_id) {\n",
       "                        if (nbb_cells[i].get_text() == nbb_unformatted_code) {\n",
       "                             nbb_cells[i].set_text(nbb_formatted_code);\n",
       "                        }\n",
       "                        break;\n",
       "                    }\n",
       "                }\n",
       "            }, 500);\n",
       "            "
      ],
      "text/plain": [
       "<IPython.core.display.Javascript object>"
      ]
     },
     "metadata": {},
     "output_type": "display_data"
    }
   ],
   "source": [
    "# Convert strings to times\n",
    "potholes[\"Creation Date\"] = pd.to_datetime(potholes[\"Creation Date\"], format = \"%m/%d/%Y\")\n",
    "potholes[\"Completion Date\"] = pd.to_datetime(potholes[\"Completion Date\"], format = \"%m/%d/%Y\")\n",
    "\n",
    "# Create completion time variable\n",
    "potholes[\"Completion Time\"] = potholes[\"Completion Date\"] - potholes[\"Creation Date\"]\n",
    "potholes.info()"
   ]
  },
  {
   "cell_type": "code",
   "execution_count": 3,
   "id": "b3950f1e-d6db-43b5-b0f3-2af9e3b5c53e",
   "metadata": {},
   "outputs": [
    {
     "name": "stdout",
     "output_type": "stream",
     "text": [
      "    Community Area Community Area Name  Per Capita Income  Hardship Index\n",
      "0              1.0         Rogers Park              23939              39\n",
      "1              2.0          West Ridge              23040              46\n",
      "2              3.0              Uptown              35787              20\n",
      "3              4.0      Lincoln Square              37524              17\n",
      "4              5.0        North Center              57123               6\n",
      "..             ...                 ...                ...             ...\n",
      "72            73.0   Washington Height              19713              48\n",
      "73            74.0     Mount Greenwood              34381              16\n",
      "74            75.0         Morgan Park              27149              30\n",
      "75            76.0              O'Hare              25828              24\n",
      "76            77.0           Edgewater              33385              19\n",
      "\n",
      "[77 rows x 4 columns]\n"
     ]
    },
    {
     "data": {
      "application/javascript": [
       "\n",
       "            setTimeout(function() {\n",
       "                var nbb_cell_id = 3;\n",
       "                var nbb_unformatted_code = \"# Read in census data\\ncensus_data = pd.read_csv('data/chicago_census_data.csv')\\ncensus_data = census_data.iloc[:, [0,1,7,8]].dropna()\\ncensus_data['HARDSHIP INDEX'] = census_data['HARDSHIP INDEX'].astype(int)\\ncensus_data = census_data.rename(columns = {'Community Area Number': 'Community Area', \\\"COMMUNITY AREA NAME\\\": \\\"Community Area Name\\\", \\\"HARDSHIP INDEX\\\": \\\"Hardship Index\\\", \\\"PER CAPITA INCOME \\\": \\\"Per Capita Income\\\"})\\ncensus_data = census_data.dropna(subset=[\\\"Community Area\\\", \\\"Hardship Index\\\", \\\"Per Capita Income\\\"])\\nprint(census_data)\";\n",
       "                var nbb_formatted_code = \"# Read in census data\\ncensus_data = pd.read_csv(\\\"data/chicago_census_data.csv\\\")\\ncensus_data = census_data.iloc[:, [0, 1, 7, 8]].dropna()\\ncensus_data[\\\"HARDSHIP INDEX\\\"] = census_data[\\\"HARDSHIP INDEX\\\"].astype(int)\\ncensus_data = census_data.rename(\\n    columns={\\n        \\\"Community Area Number\\\": \\\"Community Area\\\",\\n        \\\"COMMUNITY AREA NAME\\\": \\\"Community Area Name\\\",\\n        \\\"HARDSHIP INDEX\\\": \\\"Hardship Index\\\",\\n        \\\"PER CAPITA INCOME \\\": \\\"Per Capita Income\\\",\\n    }\\n)\\ncensus_data = census_data.dropna(\\n    subset=[\\\"Community Area\\\", \\\"Hardship Index\\\", \\\"Per Capita Income\\\"]\\n)\\nprint(census_data)\";\n",
       "                var nbb_cells = Jupyter.notebook.get_cells();\n",
       "                for (var i = 0; i < nbb_cells.length; ++i) {\n",
       "                    if (nbb_cells[i].input_prompt_number == nbb_cell_id) {\n",
       "                        if (nbb_cells[i].get_text() == nbb_unformatted_code) {\n",
       "                             nbb_cells[i].set_text(nbb_formatted_code);\n",
       "                        }\n",
       "                        break;\n",
       "                    }\n",
       "                }\n",
       "            }, 500);\n",
       "            "
      ],
      "text/plain": [
       "<IPython.core.display.Javascript object>"
      ]
     },
     "metadata": {},
     "output_type": "display_data"
    }
   ],
   "source": [
    "# Read in census data\n",
    "census_data = pd.read_csv('data/chicago_census_data.csv')\n",
    "census_data = census_data.iloc[:, [0,1,7]].dropna()\n",
    "census_data = census_data.rename(columns = {'Community Area Number': 'Community Area', \"COMMUNITY AREA NAME\": \"Community Area Name\", \"PER CAPITA INCOME \": \"Per Capita Income\"})\n",
    "census_data = census_data.dropna(subset=[\"Community Area\", \"Per Capita Income\"])\n",
    "print(census_data)"
   ]
  },
  {
   "cell_type": "code",
   "execution_count": 4,
   "id": "94d56527-817e-4e8e-91a8-821fd75c573f",
   "metadata": {},
   "outputs": [
    {
     "data": {
      "application/javascript": [
       "\n",
       "            setTimeout(function() {\n",
       "                var nbb_cell_id = 4;\n",
       "                var nbb_unformatted_code = \"potholes_c = potholes.groupby([\\\"Community Area\\\"])['Creation Date'].count()\\npotholes_mean = potholes.groupby([\\\"Community Area\\\"]).agg({'Completion Time': 'mean'})\\npd_holes = potholes_c.to_frame(name='Count').reset_index()\\npotholes_mean[\\\"Completion Time\\\"] = potholes_mean[\\\"Completion Time\\\"].apply(lambda x: x.days)\";\n",
       "                var nbb_formatted_code = \"potholes_c = potholes.groupby([\\\"Community Area\\\"])[\\\"Creation Date\\\"].count()\\npotholes_mean = potholes.groupby([\\\"Community Area\\\"]).agg({\\\"Completion Time\\\": \\\"mean\\\"})\\npd_holes = potholes_c.to_frame(name=\\\"Count\\\").reset_index()\\npotholes_mean[\\\"Completion Time\\\"] = potholes_mean[\\\"Completion Time\\\"].apply(\\n    lambda x: x.days\\n)\";\n",
       "                var nbb_cells = Jupyter.notebook.get_cells();\n",
       "                for (var i = 0; i < nbb_cells.length; ++i) {\n",
       "                    if (nbb_cells[i].input_prompt_number == nbb_cell_id) {\n",
       "                        if (nbb_cells[i].get_text() == nbb_unformatted_code) {\n",
       "                             nbb_cells[i].set_text(nbb_formatted_code);\n",
       "                        }\n",
       "                        break;\n",
       "                    }\n",
       "                }\n",
       "            }, 500);\n",
       "            "
      ],
      "text/plain": [
       "<IPython.core.display.Javascript object>"
      ]
     },
     "metadata": {},
     "output_type": "display_data"
    }
   ],
   "source": [
    "potholes_c = potholes.groupby([\"Community Area\"])['Creation Date'].count()\n",
    "potholes_mean = potholes.groupby([\"Community Area\"]).agg({'Completion Time': 'mean'})\n",
    "pd_holes = potholes_c.to_frame(name='Count').reset_index()\n",
    "potholes_mean[\"Completion Time\"] = potholes_mean[\"Completion Time\"].apply(lambda x: x.days)"
   ]
  },
  {
   "cell_type": "code",
   "execution_count": 10,
   "id": "01084498-ab60-4a81-968a-18e19e443327",
   "metadata": {},
   "outputs": [
    {
     "data": {
      "text/html": [
       "<div>\n",
       "<style scoped>\n",
       "    .dataframe tbody tr th:only-of-type {\n",
       "        vertical-align: middle;\n",
       "    }\n",
       "\n",
       "    .dataframe tbody tr th {\n",
       "        vertical-align: top;\n",
       "    }\n",
       "\n",
       "    .dataframe thead th {\n",
       "        text-align: right;\n",
       "    }\n",
       "</style>\n",
       "<table border=\"1\" class=\"dataframe\">\n",
       "  <thead>\n",
       "    <tr style=\"text-align: right;\">\n",
       "      <th></th>\n",
       "      <th>Community Area</th>\n",
       "      <th>Community Area Name</th>\n",
       "      <th>Per Capita Income</th>\n",
       "      <th>Hardship Index</th>\n",
       "      <th>Count</th>\n",
       "      <th>Completion Time</th>\n",
       "    </tr>\n",
       "  </thead>\n",
       "  <tbody>\n",
       "    <tr>\n",
       "      <th>51</th>\n",
       "      <td>52</td>\n",
       "      <td>East Side</td>\n",
       "      <td>17104</td>\n",
       "      <td>64</td>\n",
       "      <td>4340</td>\n",
       "      <td>16</td>\n",
       "    </tr>\n",
       "    <tr>\n",
       "      <th>37</th>\n",
       "      <td>38</td>\n",
       "      <td>Grand Boulevard</td>\n",
       "      <td>23472</td>\n",
       "      <td>57</td>\n",
       "      <td>3718</td>\n",
       "      <td>15</td>\n",
       "    </tr>\n",
       "    <tr>\n",
       "      <th>64</th>\n",
       "      <td>65</td>\n",
       "      <td>West Lawn</td>\n",
       "      <td>16907</td>\n",
       "      <td>56</td>\n",
       "      <td>9012</td>\n",
       "      <td>15</td>\n",
       "    </tr>\n",
       "    <tr>\n",
       "      <th>59</th>\n",
       "      <td>60</td>\n",
       "      <td>Bridgeport</td>\n",
       "      <td>22694</td>\n",
       "      <td>43</td>\n",
       "      <td>3902</td>\n",
       "      <td>15</td>\n",
       "    </tr>\n",
       "    <tr>\n",
       "      <th>58</th>\n",
       "      <td>59</td>\n",
       "      <td>McKinley Park</td>\n",
       "      <td>16954</td>\n",
       "      <td>61</td>\n",
       "      <td>3678</td>\n",
       "      <td>12</td>\n",
       "    </tr>\n",
       "  </tbody>\n",
       "</table>\n",
       "</div>"
      ],
      "text/plain": [
       "   Community Area Community Area Name  Per Capita Income  Hardship Index  \\\n",
       "51             52           East Side              17104              64   \n",
       "37             38     Grand Boulevard              23472              57   \n",
       "64             65           West Lawn              16907              56   \n",
       "59             60          Bridgeport              22694              43   \n",
       "58             59       McKinley Park              16954              61   \n",
       "\n",
       "    Count  Completion Time  \n",
       "51   4340               16  \n",
       "37   3718               15  \n",
       "64   9012               15  \n",
       "59   3902               15  \n",
       "58   3678               12  "
      ]
     },
     "execution_count": 10,
     "metadata": {},
     "output_type": "execute_result"
    },
    {
     "data": {
      "application/javascript": [
       "\n",
       "            setTimeout(function() {\n",
       "                var nbb_cell_id = 10;\n",
       "                var nbb_unformatted_code = \"census_data['Community Area'] = census_data['Community Area'].astype(int)\\nmerged_data = pd.merge(census_data, pd_holes, on = 'Community Area')\\nworking_data = pd.merge(merged_data, potholes_mean, on = 'Community Area').sort_values([\\\"Completion Time\\\"], ascending = False)\\nworking_data['Community Area'] = working_data['Community Area'].astype('category')\\nworking_data.head()\\nworking_data.tail()\";\n",
       "                var nbb_formatted_code = \"census_data[\\\"Community Area\\\"] = census_data[\\\"Community Area\\\"].astype(int)\\nmerged_data = pd.merge(census_data, pd_holes, on=\\\"Community Area\\\")\\nworking_data = pd.merge(merged_data, potholes_mean, on=\\\"Community Area\\\").sort_values(\\n    [\\\"Completion Time\\\"], ascending=False\\n)\\nworking_data[\\\"Community Area\\\"] = working_data[\\\"Community Area\\\"].astype(\\\"category\\\")\\nworking_data.head()\\nworking_data.tail()\";\n",
       "                var nbb_cells = Jupyter.notebook.get_cells();\n",
       "                for (var i = 0; i < nbb_cells.length; ++i) {\n",
       "                    if (nbb_cells[i].input_prompt_number == nbb_cell_id) {\n",
       "                        if (nbb_cells[i].get_text() == nbb_unformatted_code) {\n",
       "                             nbb_cells[i].set_text(nbb_formatted_code);\n",
       "                        }\n",
       "                        break;\n",
       "                    }\n",
       "                }\n",
       "            }, 500);\n",
       "            "
      ],
      "text/plain": [
       "<IPython.core.display.Javascript object>"
      ]
     },
     "metadata": {},
     "output_type": "display_data"
    }
   ],
   "source": [
    "census_data['Community Area'] = census_data['Community Area'].astype(int)\n",
    "merged_data = pd.merge(census_data, pd_holes, on = 'Community Area')\n",
    "working_data = pd.merge(merged_data, potholes_mean, on = 'Community Area').sort_values([\"Completion Time\"], ascending = False)\n",
    "working_data['Community Area'] = working_data['Community Area'].astype('category')\n",
    "print(working_data.head())\n",
    "print(working_data.tail())"
   ]
  },
  {
   "cell_type": "code",
   "execution_count": 11,
   "id": "1c9b6c3a-5a16-4180-8f93-7ba3bd51f944",
   "metadata": {},
   "outputs": [
    {
     "data": {
      "application/vnd.plotly.v1+json": {
       "config": {
        "plotlyServerURL": "https://plot.ly"
       },
       "data": [
        {
         "hovertemplate": "Per Capita Income=%{x}<br>Completion Time (mean)=%{y}<br>Hardship Index=%{marker.color}<extra></extra>",
         "legendgroup": "",
         "marker": {
          "color": [
           8093,
           12330,
           4998,
           15377,
           4204,
           14208,
           8894,
           7315,
           7062,
           3215,
           13655,
           13779,
           3196,
           9014,
           7329,
           5302,
           8486,
           19404,
           15459,
           2318,
           9945,
           10519,
           12103,
           5411,
           6340,
           3667,
           6489,
           2652,
           1578,
           10063,
           17549,
           7345,
           5012,
           7774,
           11515,
           11638,
           3586,
           14344,
           5079,
           10174,
           706,
           9195,
           8384,
           5555,
           10484,
           5086,
           850,
           4549,
           4766,
           2122,
           8804,
           2545,
           10123,
           11449,
           7611,
           8122,
           12694,
           6693,
           6383,
           2380,
           3895,
           4142,
           7557,
           3771,
           7109,
           7768,
           6975,
           1791,
           2766,
           2574,
           1049,
           6896,
           4340,
           3718,
           9012,
           3902,
           3678
          ],
          "coloraxis": "coloraxis",
          "symbol": "circle"
         },
         "mode": "markers",
         "name": "",
         "orientation": "v",
         "showlegend": false,
         "type": "scatter",
         "x": [
          21323,
          27249,
          40959,
          23040,
          12961,
          32875,
          33385,
          20039,
          37524,
          22014,
          24336,
          15461,
          10934,
          13781,
          27751,
          26576,
          44164,
          15957,
          31908,
          25828,
          23939,
          26282,
          60058,
          35787,
          57123,
          15089,
          12034,
          59077,
          8201,
          10402,
          43198,
          18881,
          14685,
          16444,
          71551,
          15528,
          24454,
          44689,
          11888,
          19398,
          19252,
          13231,
          17285,
          16579,
          23482,
          34381,
          12515,
          28887,
          15754,
          20588,
          65526,
          13785,
          17949,
          26353,
          19713,
          12765,
          88669,
          27149,
          25113,
          22677,
          16134,
          39056,
          16563,
          18672,
          11317,
          39523,
          12171,
          35911,
          16148,
          23791,
          10432,
          13089,
          17104,
          23472,
          16907,
          22694,
          16954
         ],
         "xaxis": "x",
         "y": [
          54,
          49,
          46,
          45,
          45,
          45,
          44,
          44,
          43,
          43,
          42,
          41,
          41,
          41,
          40,
          40,
          40,
          39,
          39,
          38,
          38,
          38,
          37,
          36,
          36,
          35,
          33,
          32,
          31,
          31,
          30,
          30,
          29,
          29,
          29,
          28,
          28,
          27,
          26,
          26,
          26,
          25,
          24,
          24,
          23,
          23,
          23,
          23,
          22,
          22,
          22,
          22,
          21,
          21,
          21,
          20,
          20,
          20,
          20,
          20,
          20,
          19,
          19,
          19,
          19,
          19,
          18,
          17,
          17,
          17,
          16,
          16,
          16,
          15,
          15,
          15,
          12
         ],
         "yaxis": "y"
        }
       ],
       "layout": {
        "autosize": true,
        "coloraxis": {
         "colorbar": {
          "title": {
           "text": "Hardship Index"
          }
         },
         "colorscale": [
          [
           0,
           "#0d0887"
          ],
          [
           0.1111111111111111,
           "#46039f"
          ],
          [
           0.2222222222222222,
           "#7201a8"
          ],
          [
           0.3333333333333333,
           "#9c179e"
          ],
          [
           0.4444444444444444,
           "#bd3786"
          ],
          [
           0.5555555555555556,
           "#d8576b"
          ],
          [
           0.6666666666666666,
           "#ed7953"
          ],
          [
           0.7777777777777778,
           "#fb9f3a"
          ],
          [
           0.8888888888888888,
           "#fdca26"
          ],
          [
           1,
           "#f0f921"
          ]
         ]
        },
        "legend": {
         "tracegroupgap": 0
        },
        "template": {
         "data": {
          "bar": [
           {
            "error_x": {
             "color": "#2a3f5f"
            },
            "error_y": {
             "color": "#2a3f5f"
            },
            "marker": {
             "line": {
              "color": "#E5ECF6",
              "width": 0.5
             },
             "pattern": {
              "fillmode": "overlay",
              "size": 10,
              "solidity": 0.2
             }
            },
            "type": "bar"
           }
          ],
          "barpolar": [
           {
            "marker": {
             "line": {
              "color": "#E5ECF6",
              "width": 0.5
             },
             "pattern": {
              "fillmode": "overlay",
              "size": 10,
              "solidity": 0.2
             }
            },
            "type": "barpolar"
           }
          ],
          "carpet": [
           {
            "aaxis": {
             "endlinecolor": "#2a3f5f",
             "gridcolor": "white",
             "linecolor": "white",
             "minorgridcolor": "white",
             "startlinecolor": "#2a3f5f"
            },
            "baxis": {
             "endlinecolor": "#2a3f5f",
             "gridcolor": "white",
             "linecolor": "white",
             "minorgridcolor": "white",
             "startlinecolor": "#2a3f5f"
            },
            "type": "carpet"
           }
          ],
          "choropleth": [
           {
            "colorbar": {
             "outlinewidth": 0,
             "ticks": ""
            },
            "type": "choropleth"
           }
          ],
          "contour": [
           {
            "colorbar": {
             "outlinewidth": 0,
             "ticks": ""
            },
            "colorscale": [
             [
              0,
              "#0d0887"
             ],
             [
              0.1111111111111111,
              "#46039f"
             ],
             [
              0.2222222222222222,
              "#7201a8"
             ],
             [
              0.3333333333333333,
              "#9c179e"
             ],
             [
              0.4444444444444444,
              "#bd3786"
             ],
             [
              0.5555555555555556,
              "#d8576b"
             ],
             [
              0.6666666666666666,
              "#ed7953"
             ],
             [
              0.7777777777777778,
              "#fb9f3a"
             ],
             [
              0.8888888888888888,
              "#fdca26"
             ],
             [
              1,
              "#f0f921"
             ]
            ],
            "type": "contour"
           }
          ],
          "contourcarpet": [
           {
            "colorbar": {
             "outlinewidth": 0,
             "ticks": ""
            },
            "type": "contourcarpet"
           }
          ],
          "heatmap": [
           {
            "colorbar": {
             "outlinewidth": 0,
             "ticks": ""
            },
            "colorscale": [
             [
              0,
              "#0d0887"
             ],
             [
              0.1111111111111111,
              "#46039f"
             ],
             [
              0.2222222222222222,
              "#7201a8"
             ],
             [
              0.3333333333333333,
              "#9c179e"
             ],
             [
              0.4444444444444444,
              "#bd3786"
             ],
             [
              0.5555555555555556,
              "#d8576b"
             ],
             [
              0.6666666666666666,
              "#ed7953"
             ],
             [
              0.7777777777777778,
              "#fb9f3a"
             ],
             [
              0.8888888888888888,
              "#fdca26"
             ],
             [
              1,
              "#f0f921"
             ]
            ],
            "type": "heatmap"
           }
          ],
          "heatmapgl": [
           {
            "colorbar": {
             "outlinewidth": 0,
             "ticks": ""
            },
            "colorscale": [
             [
              0,
              "#0d0887"
             ],
             [
              0.1111111111111111,
              "#46039f"
             ],
             [
              0.2222222222222222,
              "#7201a8"
             ],
             [
              0.3333333333333333,
              "#9c179e"
             ],
             [
              0.4444444444444444,
              "#bd3786"
             ],
             [
              0.5555555555555556,
              "#d8576b"
             ],
             [
              0.6666666666666666,
              "#ed7953"
             ],
             [
              0.7777777777777778,
              "#fb9f3a"
             ],
             [
              0.8888888888888888,
              "#fdca26"
             ],
             [
              1,
              "#f0f921"
             ]
            ],
            "type": "heatmapgl"
           }
          ],
          "histogram": [
           {
            "marker": {
             "pattern": {
              "fillmode": "overlay",
              "size": 10,
              "solidity": 0.2
             }
            },
            "type": "histogram"
           }
          ],
          "histogram2d": [
           {
            "colorbar": {
             "outlinewidth": 0,
             "ticks": ""
            },
            "colorscale": [
             [
              0,
              "#0d0887"
             ],
             [
              0.1111111111111111,
              "#46039f"
             ],
             [
              0.2222222222222222,
              "#7201a8"
             ],
             [
              0.3333333333333333,
              "#9c179e"
             ],
             [
              0.4444444444444444,
              "#bd3786"
             ],
             [
              0.5555555555555556,
              "#d8576b"
             ],
             [
              0.6666666666666666,
              "#ed7953"
             ],
             [
              0.7777777777777778,
              "#fb9f3a"
             ],
             [
              0.8888888888888888,
              "#fdca26"
             ],
             [
              1,
              "#f0f921"
             ]
            ],
            "type": "histogram2d"
           }
          ],
          "histogram2dcontour": [
           {
            "colorbar": {
             "outlinewidth": 0,
             "ticks": ""
            },
            "colorscale": [
             [
              0,
              "#0d0887"
             ],
             [
              0.1111111111111111,
              "#46039f"
             ],
             [
              0.2222222222222222,
              "#7201a8"
             ],
             [
              0.3333333333333333,
              "#9c179e"
             ],
             [
              0.4444444444444444,
              "#bd3786"
             ],
             [
              0.5555555555555556,
              "#d8576b"
             ],
             [
              0.6666666666666666,
              "#ed7953"
             ],
             [
              0.7777777777777778,
              "#fb9f3a"
             ],
             [
              0.8888888888888888,
              "#fdca26"
             ],
             [
              1,
              "#f0f921"
             ]
            ],
            "type": "histogram2dcontour"
           }
          ],
          "mesh3d": [
           {
            "colorbar": {
             "outlinewidth": 0,
             "ticks": ""
            },
            "type": "mesh3d"
           }
          ],
          "parcoords": [
           {
            "line": {
             "colorbar": {
              "outlinewidth": 0,
              "ticks": ""
             }
            },
            "type": "parcoords"
           }
          ],
          "pie": [
           {
            "automargin": true,
            "type": "pie"
           }
          ],
          "scatter": [
           {
            "marker": {
             "colorbar": {
              "outlinewidth": 0,
              "ticks": ""
             }
            },
            "type": "scatter"
           }
          ],
          "scatter3d": [
           {
            "line": {
             "colorbar": {
              "outlinewidth": 0,
              "ticks": ""
             }
            },
            "marker": {
             "colorbar": {
              "outlinewidth": 0,
              "ticks": ""
             }
            },
            "type": "scatter3d"
           }
          ],
          "scattercarpet": [
           {
            "marker": {
             "colorbar": {
              "outlinewidth": 0,
              "ticks": ""
             }
            },
            "type": "scattercarpet"
           }
          ],
          "scattergeo": [
           {
            "marker": {
             "colorbar": {
              "outlinewidth": 0,
              "ticks": ""
             }
            },
            "type": "scattergeo"
           }
          ],
          "scattergl": [
           {
            "marker": {
             "colorbar": {
              "outlinewidth": 0,
              "ticks": ""
             }
            },
            "type": "scattergl"
           }
          ],
          "scattermapbox": [
           {
            "marker": {
             "colorbar": {
              "outlinewidth": 0,
              "ticks": ""
             }
            },
            "type": "scattermapbox"
           }
          ],
          "scatterpolar": [
           {
            "marker": {
             "colorbar": {
              "outlinewidth": 0,
              "ticks": ""
             }
            },
            "type": "scatterpolar"
           }
          ],
          "scatterpolargl": [
           {
            "marker": {
             "colorbar": {
              "outlinewidth": 0,
              "ticks": ""
             }
            },
            "type": "scatterpolargl"
           }
          ],
          "scatterternary": [
           {
            "marker": {
             "colorbar": {
              "outlinewidth": 0,
              "ticks": ""
             }
            },
            "type": "scatterternary"
           }
          ],
          "surface": [
           {
            "colorbar": {
             "outlinewidth": 0,
             "ticks": ""
            },
            "colorscale": [
             [
              0,
              "#0d0887"
             ],
             [
              0.1111111111111111,
              "#46039f"
             ],
             [
              0.2222222222222222,
              "#7201a8"
             ],
             [
              0.3333333333333333,
              "#9c179e"
             ],
             [
              0.4444444444444444,
              "#bd3786"
             ],
             [
              0.5555555555555556,
              "#d8576b"
             ],
             [
              0.6666666666666666,
              "#ed7953"
             ],
             [
              0.7777777777777778,
              "#fb9f3a"
             ],
             [
              0.8888888888888888,
              "#fdca26"
             ],
             [
              1,
              "#f0f921"
             ]
            ],
            "type": "surface"
           }
          ],
          "table": [
           {
            "cells": {
             "fill": {
              "color": "#EBF0F8"
             },
             "line": {
              "color": "white"
             }
            },
            "header": {
             "fill": {
              "color": "#C8D4E3"
             },
             "line": {
              "color": "white"
             }
            },
            "type": "table"
           }
          ]
         },
         "layout": {
          "annotationdefaults": {
           "arrowcolor": "#2a3f5f",
           "arrowhead": 0,
           "arrowwidth": 1
          },
          "autotypenumbers": "strict",
          "coloraxis": {
           "colorbar": {
            "outlinewidth": 0,
            "ticks": ""
           }
          },
          "colorscale": {
           "diverging": [
            [
             0,
             "#8e0152"
            ],
            [
             0.1,
             "#c51b7d"
            ],
            [
             0.2,
             "#de77ae"
            ],
            [
             0.3,
             "#f1b6da"
            ],
            [
             0.4,
             "#fde0ef"
            ],
            [
             0.5,
             "#f7f7f7"
            ],
            [
             0.6,
             "#e6f5d0"
            ],
            [
             0.7,
             "#b8e186"
            ],
            [
             0.8,
             "#7fbc41"
            ],
            [
             0.9,
             "#4d9221"
            ],
            [
             1,
             "#276419"
            ]
           ],
           "sequential": [
            [
             0,
             "#0d0887"
            ],
            [
             0.1111111111111111,
             "#46039f"
            ],
            [
             0.2222222222222222,
             "#7201a8"
            ],
            [
             0.3333333333333333,
             "#9c179e"
            ],
            [
             0.4444444444444444,
             "#bd3786"
            ],
            [
             0.5555555555555556,
             "#d8576b"
            ],
            [
             0.6666666666666666,
             "#ed7953"
            ],
            [
             0.7777777777777778,
             "#fb9f3a"
            ],
            [
             0.8888888888888888,
             "#fdca26"
            ],
            [
             1,
             "#f0f921"
            ]
           ],
           "sequentialminus": [
            [
             0,
             "#0d0887"
            ],
            [
             0.1111111111111111,
             "#46039f"
            ],
            [
             0.2222222222222222,
             "#7201a8"
            ],
            [
             0.3333333333333333,
             "#9c179e"
            ],
            [
             0.4444444444444444,
             "#bd3786"
            ],
            [
             0.5555555555555556,
             "#d8576b"
            ],
            [
             0.6666666666666666,
             "#ed7953"
            ],
            [
             0.7777777777777778,
             "#fb9f3a"
            ],
            [
             0.8888888888888888,
             "#fdca26"
            ],
            [
             1,
             "#f0f921"
            ]
           ]
          },
          "colorway": [
           "#636efa",
           "#EF553B",
           "#00cc96",
           "#ab63fa",
           "#FFA15A",
           "#19d3f3",
           "#FF6692",
           "#B6E880",
           "#FF97FF",
           "#FECB52"
          ],
          "font": {
           "color": "#2a3f5f"
          },
          "geo": {
           "bgcolor": "white",
           "lakecolor": "white",
           "landcolor": "#E5ECF6",
           "showlakes": true,
           "showland": true,
           "subunitcolor": "white"
          },
          "hoverlabel": {
           "align": "left"
          },
          "hovermode": "closest",
          "mapbox": {
           "style": "light"
          },
          "paper_bgcolor": "white",
          "plot_bgcolor": "#E5ECF6",
          "polar": {
           "angularaxis": {
            "gridcolor": "white",
            "linecolor": "white",
            "ticks": ""
           },
           "bgcolor": "#E5ECF6",
           "radialaxis": {
            "gridcolor": "white",
            "linecolor": "white",
            "ticks": ""
           }
          },
          "scene": {
           "xaxis": {
            "backgroundcolor": "#E5ECF6",
            "gridcolor": "white",
            "gridwidth": 2,
            "linecolor": "white",
            "showbackground": true,
            "ticks": "",
            "zerolinecolor": "white"
           },
           "yaxis": {
            "backgroundcolor": "#E5ECF6",
            "gridcolor": "white",
            "gridwidth": 2,
            "linecolor": "white",
            "showbackground": true,
            "ticks": "",
            "zerolinecolor": "white"
           },
           "zaxis": {
            "backgroundcolor": "#E5ECF6",
            "gridcolor": "white",
            "gridwidth": 2,
            "linecolor": "white",
            "showbackground": true,
            "ticks": "",
            "zerolinecolor": "white"
           }
          },
          "shapedefaults": {
           "line": {
            "color": "#2a3f5f"
           }
          },
          "ternary": {
           "aaxis": {
            "gridcolor": "white",
            "linecolor": "white",
            "ticks": ""
           },
           "baxis": {
            "gridcolor": "white",
            "linecolor": "white",
            "ticks": ""
           },
           "bgcolor": "#E5ECF6",
           "caxis": {
            "gridcolor": "white",
            "linecolor": "white",
            "ticks": ""
           }
          },
          "title": {
           "x": 0.05
          },
          "xaxis": {
           "automargin": true,
           "gridcolor": "white",
           "linecolor": "white",
           "ticks": "",
           "title": {
            "standoff": 15
           },
           "zerolinecolor": "white",
           "zerolinewidth": 2
          },
          "yaxis": {
           "automargin": true,
           "gridcolor": "white",
           "linecolor": "white",
           "ticks": "",
           "title": {
            "standoff": 15
           },
           "zerolinecolor": "white",
           "zerolinewidth": 2
          }
         }
        },
        "title": {
         "text": "Average Completion Time by Community Per Capita Income"
        },
        "xaxis": {
         "anchor": "y",
         "autorange": true,
         "domain": [
          0,
          1
         ],
         "range": [
          2990.9055812927418,
          93879.09441870726
         ],
         "title": {
          "text": "Per Capita Income"
         },
         "type": "linear"
        },
        "yaxis": {
         "anchor": "x",
         "autorange": true,
         "domain": [
          0,
          1
         ],
         "range": [
          8.533980582524272,
          57.46601941747573
         ],
         "title": {
          "text": "Completion Time (mean)"
         },
         "type": "linear"
        }
       }
      },
      "image/png": "[encoded data removed]",
      "text/html": [
       "<div>                            <div id=\"c3a05362-8ebd-44b6-97b9-6f3c641933d6\" class=\"plotly-graph-div\" style=\"height:525px; width:100%;\"></div>            <script type=\"text/javascript\">                require([\"plotly\"], function(Plotly) {                    window.PLOTLYENV=window.PLOTLYENV || {};                                    if (document.getElementById(\"c3a05362-8ebd-44b6-97b9-6f3c641933d6\")) {                    Plotly.newPlot(                        \"c3a05362-8ebd-44b6-97b9-6f3c641933d6\",                        [{\"hovertemplate\":\"Per Capita Income=%{x}<br>Completion Time (mean)=%{y}<br>Hardship Index=%{marker.color}<extra></extra>\",\"legendgroup\":\"\",\"marker\":{\"color\":[8093,12330,4998,15377,4204,14208,8894,7315,7062,3215,13655,13779,3196,9014,7329,5302,8486,19404,15459,2318,9945,10519,12103,5411,6340,3667,6489,2652,1578,10063,17549,7345,5012,7774,11515,11638,3586,14344,5079,10174,706,9195,8384,5555,10484,5086,850,4549,4766,2122,8804,2545,10123,11449,7611,8122,12694,6693,6383,2380,3895,4142,7557,3771,7109,7768,6975,1791,2766,2574,1049,6896,4340,3718,9012,3902,3678],\"coloraxis\":\"coloraxis\",\"symbol\":\"circle\"},\"mode\":\"markers\",\"name\":\"\",\"orientation\":\"v\",\"showlegend\":false,\"x\":[21323,27249,40959,23040,12961,32875,33385,20039,37524,22014,24336,15461,10934,13781,27751,26576,44164,15957,31908,25828,23939,26282,60058,35787,57123,15089,12034,59077,8201,10402,43198,18881,14685,16444,71551,15528,24454,44689,11888,19398,19252,13231,17285,16579,23482,34381,12515,28887,15754,20588,65526,13785,17949,26353,19713,12765,88669,27149,25113,22677,16134,39056,16563,18672,11317,39523,12171,35911,16148,23791,10432,13089,17104,23472,16907,22694,16954],\"xaxis\":\"x\",\"y\":[54,49,46,45,45,45,44,44,43,43,42,41,41,41,40,40,40,39,39,38,38,38,37,36,36,35,33,32,31,31,30,30,29,29,29,28,28,27,26,26,26,25,24,24,23,23,23,23,22,22,22,22,21,21,21,20,20,20,20,20,20,19,19,19,19,19,18,17,17,17,16,16,16,15,15,15,12],\"yaxis\":\"y\",\"type\":\"scatter\"}],                        {\"template\":{\"data\":{\"bar\":[{\"error_x\":{\"color\":\"#2a3f5f\"},\"error_y\":{\"color\":\"#2a3f5f\"},\"marker\":{\"line\":{\"color\":\"#E5ECF6\",\"width\":0.5},\"pattern\":{\"fillmode\":\"overlay\",\"size\":10,\"solidity\":0.2}},\"type\":\"bar\"}],\"barpolar\":[{\"marker\":{\"line\":{\"color\":\"#E5ECF6\",\"width\":0.5},\"pattern\":{\"fillmode\":\"overlay\",\"size\":10,\"solidity\":0.2}},\"type\":\"barpolar\"}],\"carpet\":[{\"aaxis\":{\"endlinecolor\":\"#2a3f5f\",\"gridcolor\":\"white\",\"linecolor\":\"white\",\"minorgridcolor\":\"white\",\"startlinecolor\":\"#2a3f5f\"},\"baxis\":{\"endlinecolor\":\"#2a3f5f\",\"gridcolor\":\"white\",\"linecolor\":\"white\",\"minorgridcolor\":\"white\",\"startlinecolor\":\"#2a3f5f\"},\"type\":\"carpet\"}],\"choropleth\":[{\"colorbar\":{\"outlinewidth\":0,\"ticks\":\"\"},\"type\":\"choropleth\"}],\"contour\":[{\"colorbar\":{\"outlinewidth\":0,\"ticks\":\"\"},\"colorscale\":[[0.0,\"#0d0887\"],[0.1111111111111111,\"#46039f\"],[0.2222222222222222,\"#7201a8\"],[0.3333333333333333,\"#9c179e\"],[0.4444444444444444,\"#bd3786\"],[0.5555555555555556,\"#d8576b\"],[0.6666666666666666,\"#ed7953\"],[0.7777777777777778,\"#fb9f3a\"],[0.8888888888888888,\"#fdca26\"],[1.0,\"#f0f921\"]],\"type\":\"contour\"}],\"contourcarpet\":[{\"colorbar\":{\"outlinewidth\":0,\"ticks\":\"\"},\"type\":\"contourcarpet\"}],\"heatmap\":[{\"colorbar\":{\"outlinewidth\":0,\"ticks\":\"\"},\"colorscale\":[[0.0,\"#0d0887\"],[0.1111111111111111,\"#46039f\"],[0.2222222222222222,\"#7201a8\"],[0.3333333333333333,\"#9c179e\"],[0.4444444444444444,\"#bd3786\"],[0.5555555555555556,\"#d8576b\"],[0.6666666666666666,\"#ed7953\"],[0.7777777777777778,\"#fb9f3a\"],[0.8888888888888888,\"#fdca26\"],[1.0,\"#f0f921\"]],\"type\":\"heatmap\"}],\"heatmapgl\":[{\"colorbar\":{\"outlinewidth\":0,\"ticks\":\"\"},\"colorscale\":[[0.0,\"#0d0887\"],[0.1111111111111111,\"#46039f\"],[0.2222222222222222,\"#7201a8\"],[0.3333333333333333,\"#9c179e\"],[0.4444444444444444,\"#bd3786\"],[0.5555555555555556,\"#d8576b\"],[0.6666666666666666,\"#ed7953\"],[0.7777777777777778,\"#fb9f3a\"],[0.8888888888888888,\"#fdca26\"],[1.0,\"#f0f921\"]],\"type\":\"heatmapgl\"}],\"histogram\":[{\"marker\":{\"pattern\":{\"fillmode\":\"overlay\",\"size\":10,\"solidity\":0.2}},\"type\":\"histogram\"}],\"histogram2d\":[{\"colorbar\":{\"outlinewidth\":0,\"ticks\":\"\"},\"colorscale\":[[0.0,\"#0d0887\"],[0.1111111111111111,\"#46039f\"],[0.2222222222222222,\"#7201a8\"],[0.3333333333333333,\"#9c179e\"],[0.4444444444444444,\"#bd3786\"],[0.5555555555555556,\"#d8576b\"],[0.6666666666666666,\"#ed7953\"],[0.7777777777777778,\"#fb9f3a\"],[0.8888888888888888,\"#fdca26\"],[1.0,\"#f0f921\"]],\"type\":\"histogram2d\"}],\"histogram2dcontour\":[{\"colorbar\":{\"outlinewidth\":0,\"ticks\":\"\"},\"colorscale\":[[0.0,\"#0d0887\"],[0.1111111111111111,\"#46039f\"],[0.2222222222222222,\"#7201a8\"],[0.3333333333333333,\"#9c179e\"],[0.4444444444444444,\"#bd3786\"],[0.5555555555555556,\"#d8576b\"],[0.6666666666666666,\"#ed7953\"],[0.7777777777777778,\"#fb9f3a\"],[0.8888888888888888,\"#fdca26\"],[1.0,\"#f0f921\"]],\"type\":\"histogram2dcontour\"}],\"mesh3d\":[{\"colorbar\":{\"outlinewidth\":0,\"ticks\":\"\"},\"type\":\"mesh3d\"}],\"parcoords\":[{\"line\":{\"colorbar\":{\"outlinewidth\":0,\"ticks\":\"\"}},\"type\":\"parcoords\"}],\"pie\":[{\"automargin\":true,\"type\":\"pie\"}],\"scatter\":[{\"marker\":{\"colorbar\":{\"outlinewidth\":0,\"ticks\":\"\"}},\"type\":\"scatter\"}],\"scatter3d\":[{\"line\":{\"colorbar\":{\"outlinewidth\":0,\"ticks\":\"\"}},\"marker\":{\"colorbar\":{\"outlinewidth\":0,\"ticks\":\"\"}},\"type\":\"scatter3d\"}],\"scattercarpet\":[{\"marker\":{\"colorbar\":{\"outlinewidth\":0,\"ticks\":\"\"}},\"type\":\"scattercarpet\"}],\"scattergeo\":[{\"marker\":{\"colorbar\":{\"outlinewidth\":0,\"ticks\":\"\"}},\"type\":\"scattergeo\"}],\"scattergl\":[{\"marker\":{\"colorbar\":{\"outlinewidth\":0,\"ticks\":\"\"}},\"type\":\"scattergl\"}],\"scattermapbox\":[{\"marker\":{\"colorbar\":{\"outlinewidth\":0,\"ticks\":\"\"}},\"type\":\"scattermapbox\"}],\"scatterpolar\":[{\"marker\":{\"colorbar\":{\"outlinewidth\":0,\"ticks\":\"\"}},\"type\":\"scatterpolar\"}],\"scatterpolargl\":[{\"marker\":{\"colorbar\":{\"outlinewidth\":0,\"ticks\":\"\"}},\"type\":\"scatterpolargl\"}],\"scatterternary\":[{\"marker\":{\"colorbar\":{\"outlinewidth\":0,\"ticks\":\"\"}},\"type\":\"scatterternary\"}],\"surface\":[{\"colorbar\":{\"outlinewidth\":0,\"ticks\":\"\"},\"colorscale\":[[0.0,\"#0d0887\"],[0.1111111111111111,\"#46039f\"],[0.2222222222222222,\"#7201a8\"],[0.3333333333333333,\"#9c179e\"],[0.4444444444444444,\"#bd3786\"],[0.5555555555555556,\"#d8576b\"],[0.6666666666666666,\"#ed7953\"],[0.7777777777777778,\"#fb9f3a\"],[0.8888888888888888,\"#fdca26\"],[1.0,\"#f0f921\"]],\"type\":\"surface\"}],\"table\":[{\"cells\":{\"fill\":{\"color\":\"#EBF0F8\"},\"line\":{\"color\":\"white\"}},\"header\":{\"fill\":{\"color\":\"#C8D4E3\"},\"line\":{\"color\":\"white\"}},\"type\":\"table\"}]},\"layout\":{\"annotationdefaults\":{\"arrowcolor\":\"#2a3f5f\",\"arrowhead\":0,\"arrowwidth\":1},\"autotypenumbers\":\"strict\",\"coloraxis\":{\"colorbar\":{\"outlinewidth\":0,\"ticks\":\"\"}},\"colorscale\":{\"diverging\":[[0,\"#8e0152\"],[0.1,\"#c51b7d\"],[0.2,\"#de77ae\"],[0.3,\"#f1b6da\"],[0.4,\"#fde0ef\"],[0.5,\"#f7f7f7\"],[0.6,\"#e6f5d0\"],[0.7,\"#b8e186\"],[0.8,\"#7fbc41\"],[0.9,\"#4d9221\"],[1,\"#276419\"]],\"sequential\":[[0.0,\"#0d0887\"],[0.1111111111111111,\"#46039f\"],[0.2222222222222222,\"#7201a8\"],[0.3333333333333333,\"#9c179e\"],[0.4444444444444444,\"#bd3786\"],[0.5555555555555556,\"#d8576b\"],[0.6666666666666666,\"#ed7953\"],[0.7777777777777778,\"#fb9f3a\"],[0.8888888888888888,\"#fdca26\"],[1.0,\"#f0f921\"]],\"sequentialminus\":[[0.0,\"#0d0887\"],[0.1111111111111111,\"#46039f\"],[0.2222222222222222,\"#7201a8\"],[0.3333333333333333,\"#9c179e\"],[0.4444444444444444,\"#bd3786\"],[0.5555555555555556,\"#d8576b\"],[0.6666666666666666,\"#ed7953\"],[0.7777777777777778,\"#fb9f3a\"],[0.8888888888888888,\"#fdca26\"],[1.0,\"#f0f921\"]]},\"colorway\":[\"#636efa\",\"#EF553B\",\"#00cc96\",\"#ab63fa\",\"#FFA15A\",\"#19d3f3\",\"#FF6692\",\"#B6E880\",\"#FF97FF\",\"#FECB52\"],\"font\":{\"color\":\"#2a3f5f\"},\"geo\":{\"bgcolor\":\"white\",\"lakecolor\":\"white\",\"landcolor\":\"#E5ECF6\",\"showlakes\":true,\"showland\":true,\"subunitcolor\":\"white\"},\"hoverlabel\":{\"align\":\"left\"},\"hovermode\":\"closest\",\"mapbox\":{\"style\":\"light\"},\"paper_bgcolor\":\"white\",\"plot_bgcolor\":\"#E5ECF6\",\"polar\":{\"angularaxis\":{\"gridcolor\":\"white\",\"linecolor\":\"white\",\"ticks\":\"\"},\"bgcolor\":\"#E5ECF6\",\"radialaxis\":{\"gridcolor\":\"white\",\"linecolor\":\"white\",\"ticks\":\"\"}},\"scene\":{\"xaxis\":{\"backgroundcolor\":\"#E5ECF6\",\"gridcolor\":\"white\",\"gridwidth\":2,\"linecolor\":\"white\",\"showbackground\":true,\"ticks\":\"\",\"zerolinecolor\":\"white\"},\"yaxis\":{\"backgroundcolor\":\"#E5ECF6\",\"gridcolor\":\"white\",\"gridwidth\":2,\"linecolor\":\"white\",\"showbackground\":true,\"ticks\":\"\",\"zerolinecolor\":\"white\"},\"zaxis\":{\"backgroundcolor\":\"#E5ECF6\",\"gridcolor\":\"white\",\"gridwidth\":2,\"linecolor\":\"white\",\"showbackground\":true,\"ticks\":\"\",\"zerolinecolor\":\"white\"}},\"shapedefaults\":{\"line\":{\"color\":\"#2a3f5f\"}},\"ternary\":{\"aaxis\":{\"gridcolor\":\"white\",\"linecolor\":\"white\",\"ticks\":\"\"},\"baxis\":{\"gridcolor\":\"white\",\"linecolor\":\"white\",\"ticks\":\"\"},\"bgcolor\":\"#E5ECF6\",\"caxis\":{\"gridcolor\":\"white\",\"linecolor\":\"white\",\"ticks\":\"\"}},\"title\":{\"x\":0.05},\"xaxis\":{\"automargin\":true,\"gridcolor\":\"white\",\"linecolor\":\"white\",\"ticks\":\"\",\"title\":{\"standoff\":15},\"zerolinecolor\":\"white\",\"zerolinewidth\":2},\"yaxis\":{\"automargin\":true,\"gridcolor\":\"white\",\"linecolor\":\"white\",\"ticks\":\"\",\"title\":{\"standoff\":15},\"zerolinecolor\":\"white\",\"zerolinewidth\":2}}},\"xaxis\":{\"anchor\":\"y\",\"domain\":[0.0,1.0],\"title\":{\"text\":\"Per Capita Income\"}},\"yaxis\":{\"anchor\":\"x\",\"domain\":[0.0,1.0],\"title\":{\"text\":\"Completion Time (mean)\"}},\"coloraxis\":{\"colorbar\":{\"title\":{\"text\":\"Hardship Index\"}},\"colorscale\":[[0.0,\"#0d0887\"],[0.1111111111111111,\"#46039f\"],[0.2222222222222222,\"#7201a8\"],[0.3333333333333333,\"#9c179e\"],[0.4444444444444444,\"#bd3786\"],[0.5555555555555556,\"#d8576b\"],[0.6666666666666666,\"#ed7953\"],[0.7777777777777778,\"#fb9f3a\"],[0.8888888888888888,\"#fdca26\"],[1.0,\"#f0f921\"]]},\"legend\":{\"tracegroupgap\":0},\"title\":{\"text\":\"Average Completion Time by Community Per Capita Income\"}},                        {\"responsive\": true}                    ).then(function(){\n",
       "                            \n",
       "var gd = document.getElementById('c3a05362-8ebd-44b6-97b9-6f3c641933d6');\n",
       "var x = new MutationObserver(function (mutations, observer) {{\n",
       "        var display = window.getComputedStyle(gd).display;\n",
       "        if (!display || display === 'none') {{\n",
       "            console.log([gd, 'removed!']);\n",
       "            Plotly.purge(gd);\n",
       "            observer.disconnect();\n",
       "        }}\n",
       "}});\n",
       "\n",
       "// Listen for the removal of the full notebook cells\n",
       "var notebookContainer = gd.closest('#notebook-container');\n",
       "if (notebookContainer) {{\n",
       "    x.observe(notebookContainer, {childList: true});\n",
       "}}\n",
       "\n",
       "// Listen for the clearing of the current output cell\n",
       "var outputEl = gd.closest('.output');\n",
       "if (outputEl) {{\n",
       "    x.observe(outputEl, {childList: true});\n",
       "}}\n",
       "\n",
       "                        })                };                });            </script>        </div>"
      ]
     },
     "metadata": {},
     "output_type": "display_data"
    },
    {
     "data": {
      "application/javascript": [
       "\n",
       "            setTimeout(function() {\n",
       "                var nbb_cell_id = 11;\n",
       "                var nbb_unformatted_code = \"fig = px.scatter(x = working_data[\\\"Per Capita Income\\\"], y = working_data[\\\"Completion Time\\\"],\\n                 color = working_data['Count'],\\n                title = \\\"Average Completion Time by Community Per Capita Income\\\",\\n                labels = {\\n                \\\"x\\\": \\\"Per Capita Income\\\",\\n                \\\"y\\\": \\\"Completion Time (mean)\\\",\\n                \\\"color\\\": \\\"Hardship Index\\\"})\\nfig.show()\\n\\n# Save to artifacts\\nfig.write_image(\\\"artifacts/income_scatter.png\\\", scale = 3, engine = 'kaleido')\";\n",
       "                var nbb_formatted_code = \"fig = px.scatter(\\n    x=working_data[\\\"Per Capita Income\\\"],\\n    y=working_data[\\\"Completion Time\\\"],\\n    color=working_data[\\\"Count\\\"],\\n    title=\\\"Average Completion Time by Community Per Capita Income\\\",\\n    labels={\\n        \\\"x\\\": \\\"Per Capita Income\\\",\\n        \\\"y\\\": \\\"Completion Time (mean)\\\",\\n        \\\"color\\\": \\\"Hardship Index\\\",\\n    },\\n)\\nfig.show()\\n\\n# Save to artifacts\\nfig.write_image(\\\"artifacts/income_scatter.png\\\", scale=3, engine=\\\"kaleido\\\")\";\n",
       "                var nbb_cells = Jupyter.notebook.get_cells();\n",
       "                for (var i = 0; i < nbb_cells.length; ++i) {\n",
       "                    if (nbb_cells[i].input_prompt_number == nbb_cell_id) {\n",
       "                        if (nbb_cells[i].get_text() == nbb_unformatted_code) {\n",
       "                             nbb_cells[i].set_text(nbb_formatted_code);\n",
       "                        }\n",
       "                        break;\n",
       "                    }\n",
       "                }\n",
       "            }, 500);\n",
       "            "
      ],
      "text/plain": [
       "<IPython.core.display.Javascript object>"
      ]
     },
     "metadata": {},
     "output_type": "display_data"
    }
   ],
   "source": [
    "fig = px.scatter(x = working_data[\"Per Capita Income\"], y = working_data[\"Completion Time\"],\n",
    "                 color = working_data['Count'],\n",
    "                title = \"Average Completion Time by Community Per Capita Income\",\n",
    "                labels = {\n",
    "                \"x\": \"Per Capita Income\",\n",
    "                \"y\": \"Completion Time (days)\",\n",
    "                \"color\": \"Count\"})\n",
    "fig.show()\n",
    "\n",
    "# Save to artifacts\n",
    "fig.write_image(\"artifacts/income_scatter.png\", scale = 3, engine = 'kaleido')"
   ]
  },
  {
   "cell_type": "code",
   "execution_count": 7,
   "id": "e3c2ae17-b48b-47f0-a990-314970d20a31",
   "metadata": {},
   "outputs": [
    {
     "data": {
      "image/png": "[encoded data removed]",
      "text/plain": [
       "<Figure size 3200x2000 with 1 Axes>"
      ]
     },
     "metadata": {
      "needs_background": "light"
     },
     "output_type": "display_data"
    },
    {
     "data": {
      "image/png": "[encoded data removed]",
      "text/plain": [
       "<Figure size 3200x2000 with 1 Axes>"
      ]
     },
     "metadata": {
      "needs_background": "light"
     },
     "output_type": "display_data"
    },
    {
     "data": {
      "application/javascript": [
       "\n",
       "            setTimeout(function() {\n",
       "                var nbb_cell_id = 7;\n",
       "                var nbb_unformatted_code = \"# What is the per capita income of commmunities with top 5 longest completion times?\\n# Bottom 5?\\nfig_1 = plt.figure(figsize=(16 / 1.5, 10 / 1.5), dpi=300)\\ntop_5 = working_data[working_data[\\\"Completion Time\\\"] >= 45]\\nbottom_5 = working_data[working_data[\\\"Completion Time\\\"] <= 16]\\nbottom_5\\n\\nplt.barh(top_5[\\\"Community Area Name\\\"], top_5[\\\"Per Capita Income\\\"])\\nplt.title(\\\"Per Capita Income of Neighborhoods with Top 5 Longest Completion Times\\\")\\nplt.xlabel(\\\"Per Capita Income\\\")\\nplt.show()\\n\\n\\n# Use pandas for this plot\\nplt.rcParams[\\\"figure.figsize\\\"] = [16 / 1.5, 10 / 1.5]\\nplt.rcParams[\\\"figure.autolayout\\\"] = True\\nplt.rcParams[\\\"figure.dpi\\\"] = 300\\nfig_2 = bottom_5.plot(\\\"Community Area Name\\\", \\\"Per Capita Income\\\", kind = \\\"barh\\\", \\n              title = \\\"Per Capita Income of Neighborhoods with 5 Shortest Completion Times\\\",\\n              xlim = [0, 40000],\\n             ylabel = \\\"Per Capita Income\\\",\\n             xlabel = \\\"\\\",\\n             legend = False)\\n\\n# Save plots to artifacts\\ntop_5 = fig_1.get_figure()\\ntop_5.savefig(\\\"artifacts/top_5.png\\\")\\nbottom_5 = fig_2.get_figure()\\nbottom_5.savefig(\\\"artifacts/bottom_5.png\\\")\";\n",
       "                var nbb_formatted_code = \"# What is the per capita income of commmunities with top 5 longest completion times?\\n# Bottom 5?\\nfig_1 = plt.figure(figsize=(16 / 1.5, 10 / 1.5), dpi=300)\\ntop_5 = working_data[working_data[\\\"Completion Time\\\"] >= 45]\\nbottom_5 = working_data[working_data[\\\"Completion Time\\\"] <= 16]\\nbottom_5\\n\\nplt.barh(top_5[\\\"Community Area Name\\\"], top_5[\\\"Per Capita Income\\\"])\\nplt.title(\\\"Per Capita Income of Neighborhoods with Top 5 Longest Completion Times\\\")\\nplt.xlabel(\\\"Per Capita Income\\\")\\nplt.show()\\n\\n\\n# Use pandas for this plot\\nplt.rcParams[\\\"figure.figsize\\\"] = [16 / 1.5, 10 / 1.5]\\nplt.rcParams[\\\"figure.autolayout\\\"] = True\\nplt.rcParams[\\\"figure.dpi\\\"] = 300\\nfig_2 = bottom_5.plot(\\n    \\\"Community Area Name\\\",\\n    \\\"Per Capita Income\\\",\\n    kind=\\\"barh\\\",\\n    title=\\\"Per Capita Income of Neighborhoods with 5 Shortest Completion Times\\\",\\n    xlim=[0, 40000],\\n    ylabel=\\\"Per Capita Income\\\",\\n    xlabel=\\\"\\\",\\n    legend=False,\\n)\\n\\n# Save plots to artifacts\\ntop_5 = fig_1.get_figure()\\ntop_5.savefig(\\\"artifacts/top_5.png\\\")\\nbottom_5 = fig_2.get_figure()\\nbottom_5.savefig(\\\"artifacts/bottom_5.png\\\")\";\n",
       "                var nbb_cells = Jupyter.notebook.get_cells();\n",
       "                for (var i = 0; i < nbb_cells.length; ++i) {\n",
       "                    if (nbb_cells[i].input_prompt_number == nbb_cell_id) {\n",
       "                        if (nbb_cells[i].get_text() == nbb_unformatted_code) {\n",
       "                             nbb_cells[i].set_text(nbb_formatted_code);\n",
       "                        }\n",
       "                        break;\n",
       "                    }\n",
       "                }\n",
       "            }, 500);\n",
       "            "
      ],
      "text/plain": [
       "<IPython.core.display.Javascript object>"
      ]
     },
     "metadata": {},
     "output_type": "display_data"
    }
   ],
   "source": [
    "# What is the per capita income of commmunities with top 5 longest completion times?\n",
    "# Bottom 5?\n",
    "fig_1 = plt.figure(figsize=(16 / 1.5, 10 / 1.5), dpi=300)\n",
    "top_5 = working_data[working_data[\"Completion Time\"] >= 45]\n",
    "bottom_5 = working_data[working_data[\"Completion Time\"] <= 16]\n",
    "bottom_5\n",
    "\n",
    "plt.barh(top_5[\"Community Area Name\"], top_5[\"Per Capita Income\"])\n",
    "plt.title(\"Per Capita Income of Neighborhoods with Top 5 Longest Completion Times\")\n",
    "plt.xlabel(\"Per Capita Income\")\n",
    "plt.show()\n",
    "\n",
    "\n",
    "# Use pandas for this plot\n",
    "plt.rcParams[\"figure.figsize\"] = [16 / 1.5, 10 / 1.5]\n",
    "plt.rcParams[\"figure.autolayout\"] = True\n",
    "plt.rcParams[\"figure.dpi\"] = 300\n",
    "fig_2 = bottom_5.plot(\"Community Area Name\", \"Per Capita Income\", kind = \"barh\", \n",
    "              title = \"Per Capita Income of Neighborhoods with 5 Shortest Completion Times\",\n",
    "              xlim = [0, 40000],\n",
    "             ylabel = \"Per Capita Income\",\n",
    "             xlabel = \"\",\n",
    "             legend = False)\n",
    "\n",
    "# Save plots to artifacts\n",
    "top_5 = fig_1.get_figure()\n",
    "top_5.savefig(\"artifacts/top_5.png\")\n",
    "bottom_5 = fig_2.get_figure()\n",
    "bottom_5.savefig(\"artifacts/bottom_5.png\")"
   ]
  }
 ],
 "metadata": {
  "environment": {
   "kernel": "python3",
   "name": "common-cpu.m91",
   "type": "gcloud",
   "uri": "gcr.io/deeplearning-platform-release/base-cpu:m91"
  },
  "kernelspec": {
   "display_name": "Python 3",
   "language": "python",
   "name": "python3"
  },
  "language_info": {
   "codemirror_mode": {
    "name": "ipython",
    "version": 3
   },
   "file_extension": ".py",
   "mimetype": "text/x-python",
   "name": "python",
   "nbconvert_exporter": "python",
   "pygments_lexer": "ipython3",
   "version": "3.7.12"
  }
 },
 "nbformat": 4,
 "nbformat_minor": 5
}
