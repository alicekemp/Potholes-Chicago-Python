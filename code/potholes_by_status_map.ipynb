{
 "cells": [
  {
   "cell_type": "code",
   "execution_count": 6,
   "id": "4e61d7df-1df5-4b3e-94e2-9a87dce8dec9",
   "metadata": {},
   "outputs": [
    {
     "name": "stdout",
     "output_type": "stream",
     "text": [
      "Requirement already satisfied: shapely in /opt/conda/lib/python3.7/site-packages (1.8.1.post1)\n",
      "Requirement already satisfied: geopandas in /opt/conda/lib/python3.7/site-packages (0.10.2)\n",
      "Requirement already satisfied: pandas>=0.25.0 in /opt/conda/lib/python3.7/site-packages (from geopandas) (1.3.5)\n",
      "Requirement already satisfied: fiona>=1.8 in /opt/conda/lib/python3.7/site-packages (from geopandas) (1.8.21)\n",
      "Requirement already satisfied: shapely>=1.6 in /opt/conda/lib/python3.7/site-packages (from geopandas) (1.8.1.post1)\n",
      "Requirement already satisfied: pyproj>=2.2.0 in /opt/conda/lib/python3.7/site-packages (from geopandas) (3.2.1)\n",
      "Requirement already satisfied: munch in /opt/conda/lib/python3.7/site-packages (from fiona>=1.8->geopandas) (2.5.0)\n",
      "Requirement already satisfied: setuptools in /opt/conda/lib/python3.7/site-packages (from fiona>=1.8->geopandas) (59.8.0)\n",
      "Requirement already satisfied: click>=4.0 in /opt/conda/lib/python3.7/site-packages (from fiona>=1.8->geopandas) (8.0.4)\n",
      "Requirement already satisfied: six>=1.7 in /opt/conda/lib/python3.7/site-packages (from fiona>=1.8->geopandas) (1.16.0)\n",
      "Requirement already satisfied: attrs>=17 in /opt/conda/lib/python3.7/site-packages (from fiona>=1.8->geopandas) (21.4.0)\n",
      "Requirement already satisfied: certifi in /opt/conda/lib/python3.7/site-packages (from fiona>=1.8->geopandas) (2021.10.8)\n",
      "Requirement already satisfied: click-plugins>=1.0 in /opt/conda/lib/python3.7/site-packages (from fiona>=1.8->geopandas) (1.1.1)\n",
      "Requirement already satisfied: cligj>=0.5 in /opt/conda/lib/python3.7/site-packages (from fiona>=1.8->geopandas) (0.7.2)\n",
      "Requirement already satisfied: python-dateutil>=2.7.3 in /opt/conda/lib/python3.7/site-packages (from pandas>=0.25.0->geopandas) (2.8.2)\n",
      "Requirement already satisfied: pytz>=2017.3 in /opt/conda/lib/python3.7/site-packages (from pandas>=0.25.0->geopandas) (2021.3)\n",
      "Requirement already satisfied: numpy>=1.17.3 in /opt/conda/lib/python3.7/site-packages (from pandas>=0.25.0->geopandas) (1.19.5)\n",
      "Requirement already satisfied: importlib-metadata in /opt/conda/lib/python3.7/site-packages (from click>=4.0->fiona>=1.8->geopandas) (4.11.3)\n",
      "Requirement already satisfied: zipp>=0.5 in /opt/conda/lib/python3.7/site-packages (from importlib-metadata->click>=4.0->fiona>=1.8->geopandas) (3.7.0)\n",
      "Requirement already satisfied: typing-extensions>=3.6.4 in /opt/conda/lib/python3.7/site-packages (from importlib-metadata->click>=4.0->fiona>=1.8->geopandas) (4.1.1)\n",
      "Requirement already satisfied: mplcursors in /opt/conda/lib/python3.7/site-packages (0.5.1)\n",
      "Requirement already satisfied: matplotlib>=3.1 in /opt/conda/lib/python3.7/site-packages (from mplcursors) (3.5.1)\n",
      "Requirement already satisfied: fonttools>=4.22.0 in /opt/conda/lib/python3.7/site-packages (from matplotlib>=3.1->mplcursors) (4.30.0)\n",
      "Requirement already satisfied: pyparsing>=2.2.1 in /opt/conda/lib/python3.7/site-packages (from matplotlib>=3.1->mplcursors) (3.0.7)\n",
      "Requirement already satisfied: kiwisolver>=1.0.1 in /opt/conda/lib/python3.7/site-packages (from matplotlib>=3.1->mplcursors) (1.4.0)\n",
      "Requirement already satisfied: pillow>=6.2.0 in /opt/conda/lib/python3.7/site-packages (from matplotlib>=3.1->mplcursors) (9.0.1)\n",
      "Requirement already satisfied: python-dateutil>=2.7 in /opt/conda/lib/python3.7/site-packages (from matplotlib>=3.1->mplcursors) (2.8.2)\n",
      "Requirement already satisfied: cycler>=0.10 in /opt/conda/lib/python3.7/site-packages (from matplotlib>=3.1->mplcursors) (0.11.0)\n",
      "Requirement already satisfied: numpy>=1.17 in /opt/conda/lib/python3.7/site-packages (from matplotlib>=3.1->mplcursors) (1.19.5)\n",
      "Requirement already satisfied: packaging>=20.0 in /opt/conda/lib/python3.7/site-packages (from matplotlib>=3.1->mplcursors) (21.3)\n",
      "Requirement already satisfied: typing-extensions in /opt/conda/lib/python3.7/site-packages (from kiwisolver>=1.0.1->matplotlib>=3.1->mplcursors) (4.1.1)\n",
      "Requirement already satisfied: six>=1.5 in /opt/conda/lib/python3.7/site-packages (from python-dateutil>=2.7->matplotlib>=3.1->mplcursors) (1.16.0)\n"
     ]
    }
   ],
   "source": [
    "! pip install shapely\n",
    "! pip install geopandas\n",
    "! pip install mplcursors\n",
    "import pandas as pd\n",
    "from shapely.geometry import Point, Polygon\n",
    "import geopandas as gpd\n",
    "from geopandas import GeoDataFrame\n",
    "import matplotlib.pyplot as plt\n",
    "import mplcursors"
   ]
  },
  {
   "cell_type": "code",
   "execution_count": null,
   "id": "5901a4ea-e1d8-40d5-91eb-5e56f365ab90",
   "metadata": {},
   "outputs": [],
   "source": [
    "# load and plot chicago zipcodes \n",
    "zones = 'data/neighborhoods.shp'\n",
    "\n",
    "map_zones = gpd.read_file(zones)\n",
    "fig,ax = plt.subplots(figsize = (10,10))\n",
    "map_zones.boundary.plot(ax = ax, color='white', linewidth = 1.0, alpha = 0.5)\n",
    "zone_plot = map_zones.plot(ax=ax, color='grey', alpha = 0.4)\n",
    "mplcursors.cursor(hover = True)"
   ]
  },
  {
   "cell_type": "code",
   "execution_count": null,
   "id": "9172d208-2d37-4919-9054-d546a165f065",
   "metadata": {},
   "outputs": [],
   "source": [
    "# load pothold data and filter for missing points\n",
    "pot1 = pd.read_csv('data/potholes_1.csv')\n",
    "pot2 = pd.read_csv('data/potholes_2.csv')\n",
    "\n",
    "potholes = pd.concat([pot1, pot2])\n",
    "potholes = potholes.loc[potholes['LONGITUDE'] != 0]\n",
    "potholes = potholes.loc[potholes['LATITUDE'] != 0]\n",
    "\n",
    "completed = potholes.loc[potholes['STATUS'] == 'Completed']\n",
    "opened = potholes.loc[potholes['STATUS'] == 'Open']"
   ]
  },
  {
   "cell_type": "code",
   "execution_count": null,
   "id": "58a37e2f-fddd-4a13-bd2c-f461e990a826",
   "metadata": {},
   "outputs": [],
   "source": [
    "# create geodataframes for open and completed potholes\n",
    "crs = {'init': 'epsg:4326'}\n",
    "\n",
    "completed_geo = [Point(xy) for xy in zip(completed['LONGITUDE'], completed['LATITUDE'])]\n",
    "completed_gdf = GeoDataFrame(completed, crs = crs, geometry=completed_geo)\n",
    "\n",
    "opened_geo = [Point(xy) for xy in zip(opened['LONGITUDE'], opened['LATITUDE'])]\n",
    "opened_gdf = GeoDataFrame(opened, crs = crs, geometry=opened_geo)"
   ]
  },
  {
   "cell_type": "code",
   "execution_count": null,
   "id": "4434072f-642e-44ce-a585-f6562dc83f0a",
   "metadata": {},
   "outputs": [],
   "source": [
    "# plot potholes on map\n",
    "map2 = completed_gdf.plot(ax = ax, markersize = 10, color = 'grey', alpha = 0.6, marker = 'o', label = 'Completed')\n",
    "map2 = opened_gdf.plot(ax = ax, markersize = 10, color = 'blue', alpha = 0.7, marker = 'o', label = 'Open')"
   ]
  },
  {
   "cell_type": "code",
   "execution_count": null,
   "id": "9b9b592b-d66c-4152-b628-7aac3efe2a7e",
   "metadata": {},
   "outputs": [],
   "source": [
    "# save figure as png to artifacts folder\n",
    "map2.set_title(label = 'Potholes by Status', fontsize = 24, loc = 'center')\n",
    "map2.legend(loc = 'upper left')\n",
    "mapf = map2.get_figure()\n",
    "mapf.savefig(\"artifacts/pothole_status_map.jpg\")"
   ]
  }
 ],
 "metadata": {
  "environment": {
   "kernel": "python3",
   "name": "common-cpu.m91",
   "type": "gcloud",
   "uri": "gcr.io/deeplearning-platform-release/base-cpu:m91"
  },
  "kernelspec": {
   "display_name": "Python 3",
   "language": "python",
   "name": "python3"
  },
  "language_info": {
   "codemirror_mode": {
    "name": "ipython",
    "version": 3
   },
   "file_extension": ".py",
   "mimetype": "text/x-python",
   "name": "python",
   "nbconvert_exporter": "python",
   "pygments_lexer": "ipython3",
   "version": "3.7.12"
  }
 },
 "nbformat": 4,
 "nbformat_minor": 5
}
