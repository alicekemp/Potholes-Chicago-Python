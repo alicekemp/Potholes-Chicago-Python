{
 "cells": [
  {
   "cell_type": "code",
   "execution_count": 10,
   "id": "601a186d-c070-488a-95c7-e768d2e8f979",
   "metadata": {},
   "outputs": [
    {
     "name": "stdout",
     "output_type": "stream",
     "text": [
      "<class 'pandas.core.frame.DataFrame'>\n",
      "Int64Index: 558055 entries, 1 to 310476\n",
      "Data columns (total 14 columns):\n",
      " #   Column              Non-Null Count   Dtype  \n",
      "---  ------              --------------   -----  \n",
      " 0   CREATION DATE       558055 non-null  object \n",
      " 1   STATUS              558055 non-null  object \n",
      " 2   COMPLETION DATE     550786 non-null  object \n",
      " 3   CURRENT ACTIVITY    391921 non-null  object \n",
      " 4   MOST RECENT ACTION  390310 non-null  object \n",
      " 5   ZIP                 558055 non-null  float64\n",
      " 6   X COORDINATE        557921 non-null  float64\n",
      " 7   Y COORDINATE        557921 non-null  float64\n",
      " 8   Ward                558054 non-null  float64\n",
      " 9   Police District     558054 non-null  float64\n",
      " 10  Community Area      558055 non-null  int64  \n",
      " 11  LATITUDE            557271 non-null  float64\n",
      " 12  LONGITUDE           557271 non-null  float64\n",
      " 13  LOCATION            557271 non-null  object \n",
      "dtypes: float64(7), int64(1), object(6)\n",
      "memory usage: 63.9+ MB\n"
     ]
    },
    {
     "data": {
      "text/plain": [
       "pandas.core.series.Series"
      ]
     },
     "execution_count": 10,
     "metadata": {},
     "output_type": "execute_result"
    }
   ],
   "source": [
    "import pandas as pd\n",
    "import datetime\n",
    "\n",
    "file_names = ['data/potholes_1.csv', 'data/potholes_2.csv']\n",
    "\n",
    "potholes = pd.concat((pd.read_csv(i) for i in file_names))\n",
    "\n",
    "\n",
    "potholes = potholes.iloc[:,\n",
    "    [0, 1, 2, 5, 6, 9, 10, 11, 12, 13, 14, 16, 17, 18\n",
    "    ]\n",
    "]\n",
    "potholes = potholes.dropna(subset = [\"ZIP\", \"Community Area\"])\n",
    "potholes['Community Area'] = potholes['Community Area'].astype(int)\n",
    "\n",
    "potholes.info()"
   ]
  },
  {
   "cell_type": "code",
   "execution_count": 11,
   "id": "693312b0-2376-42ae-b35a-3aea848fcee0",
   "metadata": {},
   "outputs": [
    {
     "data": {
      "text/plain": [
       "str"
      ]
     },
     "execution_count": 11,
     "metadata": {},
     "output_type": "execute_result"
    }
   ],
   "source": [
    "# Convert strings to times\n",
    "potholes[\"CREATION DATE\"] = datetime.strptime(potholes[\"CREATION DATE\"])"
   ]
  },
  {
   "cell_type": "code",
   "execution_count": 2,
   "id": "b3950f1e-d6db-43b5-b0f3-2af9e3b5c53e",
   "metadata": {},
   "outputs": [],
   "source": [
    "census_data = pd.read_csv('data/chicago_census_data.csv')\n",
    "census_data = census_data.iloc[:, [0,7,8]].dropna()"
   ]
  },
  {
   "cell_type": "code",
   "execution_count": 3,
   "id": "94d56527-817e-4e8e-91a8-821fd75c573f",
   "metadata": {},
   "outputs": [],
   "source": [
    "potholes_c = potholes.groupby([\"Community Area\"])['CREATION DATE'].count()\n",
    "pd_holes = potholes_c.to_frame(name='Count').reset_index()"
   ]
  },
  {
   "cell_type": "code",
   "execution_count": null,
   "id": "b7e4a045-b799-4a0e-9f97-2894eec40fd0",
   "metadata": {},
   "outputs": [],
   "source": []
  },
  {
   "cell_type": "code",
   "execution_count": 6,
   "id": "01084498-ab60-4a81-968a-18e19e443327",
   "metadata": {},
   "outputs": [
    {
     "data": {
      "text/html": [
       "<div>\n",
       "<style scoped>\n",
       "    .dataframe tbody tr th:only-of-type {\n",
       "        vertical-align: middle;\n",
       "    }\n",
       "\n",
       "    .dataframe tbody tr th {\n",
       "        vertical-align: top;\n",
       "    }\n",
       "\n",
       "    .dataframe thead th {\n",
       "        text-align: right;\n",
       "    }\n",
       "</style>\n",
       "<table border=\"1\" class=\"dataframe\">\n",
       "  <thead>\n",
       "    <tr style=\"text-align: right;\">\n",
       "      <th></th>\n",
       "      <th>Community Area</th>\n",
       "      <th>PER CAPITA INCOME</th>\n",
       "      <th>HARDSHIP INDEX</th>\n",
       "      <th>Count</th>\n",
       "    </tr>\n",
       "  </thead>\n",
       "  <tbody>\n",
       "    <tr>\n",
       "      <th>24</th>\n",
       "      <td>25</td>\n",
       "      <td>15957</td>\n",
       "      <td>73.0</td>\n",
       "      <td>19454</td>\n",
       "    </tr>\n",
       "    <tr>\n",
       "      <th>23</th>\n",
       "      <td>24</td>\n",
       "      <td>43198</td>\n",
       "      <td>10.0</td>\n",
       "      <td>17585</td>\n",
       "    </tr>\n",
       "    <tr>\n",
       "      <th>21</th>\n",
       "      <td>22</td>\n",
       "      <td>31908</td>\n",
       "      <td>23.0</td>\n",
       "      <td>15507</td>\n",
       "    </tr>\n",
       "    <tr>\n",
       "      <th>1</th>\n",
       "      <td>2</td>\n",
       "      <td>23040</td>\n",
       "      <td>46.0</td>\n",
       "      <td>15426</td>\n",
       "    </tr>\n",
       "    <tr>\n",
       "      <th>27</th>\n",
       "      <td>28</td>\n",
       "      <td>44689</td>\n",
       "      <td>15.0</td>\n",
       "      <td>14397</td>\n",
       "    </tr>\n",
       "    <tr>\n",
       "      <th>...</th>\n",
       "      <td>...</td>\n",
       "      <td>...</td>\n",
       "      <td>...</td>\n",
       "      <td>...</td>\n",
       "    </tr>\n",
       "    <tr>\n",
       "      <th>38</th>\n",
       "      <td>39</td>\n",
       "      <td>35911</td>\n",
       "      <td>26.0</td>\n",
       "      <td>1794</td>\n",
       "    </tr>\n",
       "    <tr>\n",
       "      <th>53</th>\n",
       "      <td>54</td>\n",
       "      <td>8201</td>\n",
       "      <td>98.0</td>\n",
       "      <td>1580</td>\n",
       "    </tr>\n",
       "    <tr>\n",
       "      <th>36</th>\n",
       "      <td>37</td>\n",
       "      <td>10432</td>\n",
       "      <td>97.0</td>\n",
       "      <td>1051</td>\n",
       "    </tr>\n",
       "    <tr>\n",
       "      <th>46</th>\n",
       "      <td>47</td>\n",
       "      <td>12515</td>\n",
       "      <td>79.0</td>\n",
       "      <td>856</td>\n",
       "    </tr>\n",
       "    <tr>\n",
       "      <th>35</th>\n",
       "      <td>36</td>\n",
       "      <td>19252</td>\n",
       "      <td>78.0</td>\n",
       "      <td>706</td>\n",
       "    </tr>\n",
       "  </tbody>\n",
       "</table>\n",
       "<p>77 rows × 4 columns</p>\n",
       "</div>"
      ],
      "text/plain": [
       "    Community Area  PER CAPITA INCOME   HARDSHIP INDEX  Count\n",
       "24              25               15957            73.0  19454\n",
       "23              24               43198            10.0  17585\n",
       "21              22               31908            23.0  15507\n",
       "1                2               23040            46.0  15426\n",
       "27              28               44689            15.0  14397\n",
       "..             ...                 ...             ...    ...\n",
       "38              39               35911            26.0   1794\n",
       "53              54                8201            98.0   1580\n",
       "36              37               10432            97.0   1051\n",
       "46              47               12515            79.0    856\n",
       "35              36               19252            78.0    706\n",
       "\n",
       "[77 rows x 4 columns]"
      ]
     },
     "execution_count": 6,
     "metadata": {},
     "output_type": "execute_result"
    }
   ],
   "source": [
    "census_data.rename(columns = {'Community Area Number': 'Community Area'}, inplace = True)\n",
    "census_data['Community Area'] = census_data['Community Area'].astype(int)\n",
    "working_data = pd.merge(census_data, pd_holes, on = 'Community Area').sort_values(\"Count\", ascending = False)\n",
    "working_data"
   ]
  },
  {
   "cell_type": "code",
   "execution_count": null,
   "id": "845027a6-3c18-417d-8d12-9d6d360640ea",
   "metadata": {},
   "outputs": [],
   "source": [
    "#Completion Time\n",
    "\n"
   ]
  }
 ],
 "metadata": {
  "environment": {
   "kernel": "python3",
   "name": "common-cpu.m91",
   "type": "gcloud",
   "uri": "gcr.io/deeplearning-platform-release/base-cpu:m91"
  },
  "kernelspec": {
   "display_name": "Python 3",
   "language": "python",
   "name": "python3"
  },
  "language_info": {
   "codemirror_mode": {
    "name": "ipython",
    "version": 3
   },
   "file_extension": ".py",
   "mimetype": "text/x-python",
   "name": "python",
   "nbconvert_exporter": "python",
   "pygments_lexer": "ipython3",
   "version": "3.7.12"
  }
 },
 "nbformat": 4,
 "nbformat_minor": 5
}
