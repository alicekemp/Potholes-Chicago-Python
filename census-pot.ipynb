{
 "cells": [
  {
   "cell_type": "code",
   "execution_count": 1,
   "id": "601a186d-c070-488a-95c7-e768d2e8f979",
   "metadata": {},
   "outputs": [
    {
     "name": "stdout",
     "output_type": "stream",
     "text": [
      "<class 'pandas.core.frame.DataFrame'>\n",
      "Int64Index: 558055 entries, 1 to 310476\n",
      "Data columns (total 14 columns):\n",
      " #   Column              Non-Null Count   Dtype  \n",
      "---  ------              --------------   -----  \n",
      " 0   CREATION DATE       558055 non-null  object \n",
      " 1   STATUS              558055 non-null  object \n",
      " 2   COMPLETION DATE     550786 non-null  object \n",
      " 3   CURRENT ACTIVITY    391921 non-null  object \n",
      " 4   MOST RECENT ACTION  390310 non-null  object \n",
      " 5   ZIP                 558055 non-null  float64\n",
      " 6   X COORDINATE        557921 non-null  float64\n",
      " 7   Y COORDINATE        557921 non-null  float64\n",
      " 8   Ward                558054 non-null  float64\n",
      " 9   Police District     558054 non-null  float64\n",
      " 10  Community Area      558055 non-null  float64\n",
      " 11  LATITUDE            557271 non-null  float64\n",
      " 12  LONGITUDE           557271 non-null  float64\n",
      " 13  LOCATION            557271 non-null  object \n",
      "dtypes: float64(8), object(6)\n",
      "memory usage: 63.9+ MB\n"
     ]
    }
   ],
   "source": [
    "import pandas as pd\n",
    "\n",
    "file_names = ['data/potholes_1.csv', 'data/potholes_2.csv']\n",
    "\n",
    "potholes = pd.concat((pd.read_csv(i) for i in file_names))\n",
    "\n",
    "\n",
    "potholes = potholes.iloc[:,\n",
    "    [0, 1, 2, 5, 6, 9, 10, 11, 12, 13, 14, 16, 17, 18\n",
    "    ]\n",
    "]\n",
    "potholes = potholes.dropna(subset = [\"ZIP\", \"Community Area\"])\n",
    "\n",
    "potholes.info()"
   ]
  },
  {
   "cell_type": "code",
   "execution_count": 2,
   "id": "b3950f1e-d6db-43b5-b0f3-2af9e3b5c53e",
   "metadata": {},
   "outputs": [],
   "source": [
    "census_data = pd.read_csv('data/chicago_census_data.csv')\n",
    "census_data = census_data.iloc[:, [0,7,8]].dropna()"
   ]
  },
  {
   "cell_type": "code",
   "execution_count": 3,
   "id": "94d56527-817e-4e8e-91a8-821fd75c573f",
   "metadata": {},
   "outputs": [],
   "source": [
    "potholes_c = potholes.groupby([\"Community Area\"])['CREATION DATE'].count()\n",
    "pd_holes = potholes_c.to_frame(name='count').reset_index()"
   ]
  },
  {
   "cell_type": "markdown",
   "id": "4fca726c-e148-4eac-8a20-36220b99840f",
   "metadata": {},
   "source": [
    "potholes['Community Area'] = potholes['Community Area'].astype(int)\n",
    "potholes_c = potholes.groupby([\"Community Area\"])['CREATION DATE'].count()\n",
    "potholes_c = potholes_c.to_frame(name='Count').reset_index()\n",
    "potholes_c"
   ]
  },
  {
   "cell_type": "code",
   "execution_count": 4,
   "id": "01084498-ab60-4a81-968a-18e19e443327",
   "metadata": {},
   "outputs": [
    {
     "data": {
      "text/html": [
       "<div>\n",
       "<style scoped>\n",
       "    .dataframe tbody tr th:only-of-type {\n",
       "        vertical-align: middle;\n",
       "    }\n",
       "\n",
       "    .dataframe tbody tr th {\n",
       "        vertical-align: top;\n",
       "    }\n",
       "\n",
       "    .dataframe thead th {\n",
       "        text-align: right;\n",
       "    }\n",
       "</style>\n",
       "<table border=\"1\" class=\"dataframe\">\n",
       "  <thead>\n",
       "    <tr style=\"text-align: right;\">\n",
       "      <th></th>\n",
       "      <th>Community Area</th>\n",
       "      <th>PER CAPITA INCOME</th>\n",
       "      <th>HARDSHIP INDEX</th>\n",
       "      <th>CREATION DATE</th>\n",
       "    </tr>\n",
       "  </thead>\n",
       "  <tbody>\n",
       "    <tr>\n",
       "      <th>0</th>\n",
       "      <td>1</td>\n",
       "      <td>23939</td>\n",
       "      <td>39.0</td>\n",
       "      <td>9961</td>\n",
       "    </tr>\n",
       "    <tr>\n",
       "      <th>1</th>\n",
       "      <td>2</td>\n",
       "      <td>23040</td>\n",
       "      <td>46.0</td>\n",
       "      <td>15426</td>\n",
       "    </tr>\n",
       "    <tr>\n",
       "      <th>2</th>\n",
       "      <td>3</td>\n",
       "      <td>35787</td>\n",
       "      <td>20.0</td>\n",
       "      <td>5419</td>\n",
       "    </tr>\n",
       "    <tr>\n",
       "      <th>3</th>\n",
       "      <td>4</td>\n",
       "      <td>37524</td>\n",
       "      <td>17.0</td>\n",
       "      <td>7076</td>\n",
       "    </tr>\n",
       "    <tr>\n",
       "      <th>4</th>\n",
       "      <td>5</td>\n",
       "      <td>57123</td>\n",
       "      <td>6.0</td>\n",
       "      <td>6357</td>\n",
       "    </tr>\n",
       "    <tr>\n",
       "      <th>...</th>\n",
       "      <td>...</td>\n",
       "      <td>...</td>\n",
       "      <td>...</td>\n",
       "      <td>...</td>\n",
       "    </tr>\n",
       "    <tr>\n",
       "      <th>72</th>\n",
       "      <td>73</td>\n",
       "      <td>19713</td>\n",
       "      <td>48.0</td>\n",
       "      <td>7636</td>\n",
       "    </tr>\n",
       "    <tr>\n",
       "      <th>73</th>\n",
       "      <td>74</td>\n",
       "      <td>34381</td>\n",
       "      <td>16.0</td>\n",
       "      <td>5099</td>\n",
       "    </tr>\n",
       "    <tr>\n",
       "      <th>74</th>\n",
       "      <td>75</td>\n",
       "      <td>27149</td>\n",
       "      <td>30.0</td>\n",
       "      <td>6706</td>\n",
       "    </tr>\n",
       "    <tr>\n",
       "      <th>75</th>\n",
       "      <td>76</td>\n",
       "      <td>25828</td>\n",
       "      <td>24.0</td>\n",
       "      <td>2320</td>\n",
       "    </tr>\n",
       "    <tr>\n",
       "      <th>76</th>\n",
       "      <td>77</td>\n",
       "      <td>33385</td>\n",
       "      <td>19.0</td>\n",
       "      <td>8907</td>\n",
       "    </tr>\n",
       "  </tbody>\n",
       "</table>\n",
       "<p>77 rows × 4 columns</p>\n",
       "</div>"
      ],
      "text/plain": [
       "    Community Area  PER CAPITA INCOME   HARDSHIP INDEX  CREATION DATE\n",
       "0                1               23939            39.0           9961\n",
       "1                2               23040            46.0          15426\n",
       "2                3               35787            20.0           5419\n",
       "3                4               37524            17.0           7076\n",
       "4                5               57123             6.0           6357\n",
       "..             ...                 ...             ...            ...\n",
       "72              73               19713            48.0           7636\n",
       "73              74               34381            16.0           5099\n",
       "74              75               27149            30.0           6706\n",
       "75              76               25828            24.0           2320\n",
       "76              77               33385            19.0           8907\n",
       "\n",
       "[77 rows x 4 columns]"
      ]
     },
     "execution_count": 4,
     "metadata": {},
     "output_type": "execute_result"
    }
   ],
   "source": [
    "census_data.rename(columns = {'Community Area Number': 'Community Area'}, inplace = True)\n",
    "census_data['Community Area'] = census_data['Community Area'].astype(int)\n",
    "census_data\n",
    "pd.merge(census_data, potholes_c, on = 'Community Area')"
   ]
  },
  {
   "cell_type": "code",
   "execution_count": null,
   "id": "845027a6-3c18-417d-8d12-9d6d360640ea",
   "metadata": {},
   "outputs": [],
   "source": []
  }
 ],
 "metadata": {
  "environment": {
   "kernel": "python3",
   "name": "common-cpu.m91",
   "type": "gcloud",
   "uri": "gcr.io/deeplearning-platform-release/base-cpu:m91"
  },
  "kernelspec": {
   "display_name": "Python 3",
   "language": "python",
   "name": "python3"
  },
  "language_info": {
   "codemirror_mode": {
    "name": "ipython",
    "version": 3
   },
   "file_extension": ".py",
   "mimetype": "text/x-python",
   "name": "python",
   "nbconvert_exporter": "python",
   "pygments_lexer": "ipython3",
   "version": "3.7.12"
  }
 },
 "nbformat": 4,
 "nbformat_minor": 5
}
